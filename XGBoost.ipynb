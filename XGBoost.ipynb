{
 "cells": [
  {
   "cell_type": "markdown",
   "id": "8d364595-4a80-4b38-baa4-20ba739438e3",
   "metadata": {
    "tags": []
   },
   "source": [
    "# packages and imports"
   ]
  },
  {
   "cell_type": "code",
   "execution_count": null,
   "id": "1767125f-1cfe-41d4-8b44-35ee0eb31790",
   "metadata": {},
   "outputs": [],
   "source": [
    "#imports\n",
    "import pandas as pd\n",
    "import numpy as np\n",
    "import matplotlib.pyplot as plt\n",
    "\n",
    "from statistics import mean\n",
    "\n",
    "from data_makers import *\n",
    "import utils\n",
    "from utils import *\n",
    "import mean_model\n",
    "from mean_model import meanModel\n",
    "\n",
    "import sklearn\n",
    "from sklearn.preprocessing import OneHotEncoder\n",
    "\n",
    "from sklearn.model_selection import train_test_split\n",
    "\n",
    "from sklearn.ensemble import RandomForestRegressor\n",
    "\n",
    "from sklearn.metrics import mean_squared_error, r2_score\n",
    "\n",
    "from sklearn.preprocessing import MinMaxScaler\n",
    "from joblib import parallel_backend\n",
    "from ray.util.joblib import register_ray\n",
    "\n",
    "from xgboost import XGBRegressor\n",
    "\n",
    "import heapq\n",
    "\n",
    "import shap\n",
    "from shap.explainers import Tree\n",
    "from interpret.blackbox import ShapKernel\n",
    "\n",
    "import interpret.glassbox\n",
    "from interpret import show\n"
   ]
  },
  {
   "cell_type": "markdown",
   "id": "b132fd17-cd8b-4e4f-b664-49117d851078",
   "metadata": {
    "tags": []
   },
   "source": [
    "# dataframe makers"
   ]
  },
  {
   "cell_type": "markdown",
   "id": "9aa01a5e-5d8a-4506-a076-9f2f6f72a38b",
   "metadata": {},
   "source": [
    "## phospho"
   ]
  },
  {
   "cell_type": "code",
   "execution_count": null,
   "id": "e5b83880-df21-4a9d-8ecc-5ae40859a256",
   "metadata": {},
   "outputs": [],
   "source": [
    "#read in the X dataframe\n",
    "X_phos = pd.read_csv('data/X_phos', index_col=0)\n",
    "\n",
    "#read in the y dataframe\n",
    "y_phos = pd.read_csv('data/y_phos', index_col=0)\n",
    "\n",
    "#dl maker \n",
    "dl_phos = dlMaker(y_phos)\n",
    "\n",
    "#one hot representations of drugs from y\n",
    "hotdrugsDF_phos = one_hot_maker(y_phos)\n",
    "\n",
    "#produce X-main and y_main\n",
    "cl_phos = clMaker(X_phos, y_phos)\n",
    "x_all_phos, x_drug_phos, y_main_phos = create_all_drugs(x=X_phos, xd=hotdrugsDF_phos, y=y_phos, cells=cl_phos)\n",
    "X_main_phos = X_main_maker(x_all_phos, x_drug_phos, short = False)"
   ]
  },
  {
   "cell_type": "markdown",
   "id": "6748e63f-996f-45d3-bf2c-99ff222c169f",
   "metadata": {},
   "source": [
    "## proteomic"
   ]
  },
  {
   "cell_type": "code",
   "execution_count": null,
   "id": "26a39dd0-7720-49b6-b783-447e2a548b86",
   "metadata": {},
   "outputs": [],
   "source": [
    "#read in the X dataframe\n",
    "X_prot = pd.read_csv('data/X_prot', index_col=0)\n",
    "\n",
    "#read in the y dataframe\n",
    "y_prot = pd.read_csv('data/y_prot', index_col=0)\n",
    "\n",
    "#dl maker \n",
    "dl_prot = dlMaker(y_prot)\n",
    "\n",
    "#one hot representations of drugs from y\n",
    "hotdrugsDF_prot = one_hot_maker(y_prot)\n",
    "\n",
    "#produce X-main and y_main\n",
    "cl_prot = clMaker(X_prot, y_prot)\n",
    "x_all_prot, x_drug_prot, y_main_prot = create_all_drugs(x=X_prot, xd=hotdrugsDF_prot, y=y_prot, cells=cl_prot)\n",
    "X_main_prot = X_main_maker(x_all_prot, x_drug_prot, short = False)"
   ]
  },
  {
   "cell_type": "markdown",
   "id": "1ee0f6d3-ab93-41b6-9979-6e00537fa9b7",
   "metadata": {
    "tags": []
   },
   "source": [
    "# XGBoost model"
   ]
  },
  {
   "cell_type": "code",
   "execution_count": null,
   "id": "e32992fd-4b44-4416-8c0d-4c02507065e6",
   "metadata": {},
   "outputs": [],
   "source": [
    "#train-test-split\n",
    "X_train, X_test, y_train, y_test = cell_line_split(X_main, y_main, test_size=0.2, random_state = 88)"
   ]
  },
  {
   "cell_type": "code",
   "execution_count": null,
   "id": "a14c82f7-90ec-4368-934b-eeb80d077862",
   "metadata": {},
   "outputs": [],
   "source": [
    "# instantiate the XGBoost model using hyper-parameters\n",
    "\n",
    "xgb = XGBRegressor(max_depth = 75, \n",
    "                   n_estimators = 300, \n",
    "                   seed = 42, \n",
    "                   min_child_weight = 3, \n",
    "                   gamma = 0, \n",
    "                   colsample_bytree = 0.3, \n",
    "                   reg_alpha = 0.1,\n",
    "                   n_jobs=-1)"
   ]
  },
  {
   "cell_type": "code",
   "execution_count": null,
   "id": "b52372a5-8cb2-40f0-a6df-f83eb1d0d2d7",
   "metadata": {
    "tags": []
   },
   "outputs": [],
   "source": [
    "# fit the model\n",
    "\n",
    "xgb.fit(X_train, y_train)\n",
    "feat_importance = xgb.feature_importances_"
   ]
  },
  {
   "cell_type": "code",
   "execution_count": null,
   "id": "3bcf627f-cad8-44b0-b399-33abc3d3d61e",
   "metadata": {},
   "outputs": [],
   "source": [
    "# print accuracy metrics\n",
    "\n",
    "y_pred = xgb.predict(X_test)\n",
    "score = xgb.score(X_test, y_test)\n",
    "print(score)"
   ]
  },
  {
   "cell_type": "code",
   "execution_count": null,
   "id": "7d7e5727-f5e5-41cb-b1c7-f71a357866f4",
   "metadata": {},
   "outputs": [],
   "source": [
    "#this function outputs the top x number of features and their scores for a model\n",
    "\n",
    "xgb_largest_names, xgb_largest_scores = xgbFeatures(feat_importance, X_main = X_train, topX = 10411, N = 10411)"
   ]
  },
  {
   "cell_type": "code",
   "execution_count": null,
   "id": "806d36d7-7bb6-4f99-a8de-6af5e80346b7",
   "metadata": {},
   "outputs": [],
   "source": [
    "plot_name = 'plots/xgb_proteomic_rs88.png'"
   ]
  },
  {
   "cell_type": "code",
   "execution_count": null,
   "id": "068db310-a9fd-45da-a4af-329488e671b6",
   "metadata": {},
   "outputs": [],
   "source": [
    "#plot the most important features\n",
    "\n",
    "plt.rcParams['figure.figsize'] = [20, 20]\n",
    "plt.plot(xgb_largest_names[:50], xgb_largest_scores[:50], linestyle='-', marker='.', color='#009d9a', linewidth=1)\n",
    "rot = plt.xticks(rotation=45)\n",
    "plt.savefig(plot_name)"
   ]
  },
  {
   "cell_type": "code",
   "execution_count": null,
   "id": "9f7237f8-0e94-464e-ba7c-2321832d72e3",
   "metadata": {},
   "outputs": [],
   "source": [
    "# create a dictionary format to save important features \n",
    "\n",
    "xgbdict = {xgb_largest_names[i]:xgb_largest_scores[i] for i in range(len(xgb_largest_names))}"
   ]
  },
  {
   "cell_type": "code",
   "execution_count": null,
   "id": "26dcfca2-6590-48bc-ac16-8d1d90818e91",
   "metadata": {},
   "outputs": [],
   "source": [
    "file_name = 'feat_select_files/proteomic/xgb_feat_select_rs88.txt'"
   ]
  },
  {
   "cell_type": "code",
   "execution_count": null,
   "id": "71dc2068-b718-454e-8b6e-d8e41eca0f6e",
   "metadata": {},
   "outputs": [],
   "source": [
    "# save features\n",
    "\n",
    "with open(file_name, \"w\") as txt_file:\n",
    "    for key, value in xgbdict.items():\n",
    "        txt_file.write(key +':'+ str(value) + \"\\n\") "
   ]
  },
  {
   "cell_type": "code",
   "execution_count": null,
   "id": "15589d3f-990d-47d4-88fc-f5b321979040",
   "metadata": {},
   "outputs": [],
   "source": []
  }
 ],
 "metadata": {
  "kernelspec": {
   "display_name": "Python 3 (ipykernel)",
   "language": "python",
   "name": "python3"
  },
  "language_info": {
   "codemirror_mode": {
    "name": "ipython",
    "version": 3
   },
   "file_extension": ".py",
   "mimetype": "text/x-python",
   "name": "python",
   "nbconvert_exporter": "python",
   "pygments_lexer": "ipython3",
   "version": "3.9.12"
  }
 },
 "nbformat": 4,
 "nbformat_minor": 5
}
