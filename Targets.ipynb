{
 "cells": [
  {
   "cell_type": "markdown",
   "id": "dd4092d7-ce3d-4d78-aac6-4b100e13027d",
   "metadata": {
    "tags": []
   },
   "source": [
    "# packages and imports"
   ]
  },
  {
   "cell_type": "code",
   "execution_count": 3,
   "id": "77ad7a12-b6f3-4dcb-8e35-4e948e18243f",
   "metadata": {},
   "outputs": [
    {
     "name": "stderr",
     "output_type": "stream",
     "text": [
      "2023-08-23 13:19:25.313288: I tensorflow/core/platform/cpu_feature_guard.cc:193] This TensorFlow binary is optimized with oneAPI Deep Neural Network Library (oneDNN) to use the following CPU instructions in performance-critical operations:  AVX2 AVX512F AVX512_VNNI FMA\n",
      "To enable them in other operations, rebuild TensorFlow with the appropriate compiler flags.\n",
      "2023-08-23 13:19:25.474248: I tensorflow/core/util/util.cc:169] oneDNN custom operations are on. You may see slightly different numerical results due to floating-point round-off errors from different computation orders. To turn them off, set the environment variable `TF_ENABLE_ONEDNN_OPTS=0`.\n",
      "2023-08-23 13:19:25.481119: W tensorflow/stream_executor/platform/default/dso_loader.cc:64] Could not load dynamic library 'libcudart.so.11.0'; dlerror: libcudart.so.11.0: cannot open shared object file: No such file or directory\n",
      "2023-08-23 13:19:25.481141: I tensorflow/stream_executor/cuda/cudart_stub.cc:29] Ignore above cudart dlerror if you do not have a GPU set up on your machine.\n",
      "2023-08-23 13:19:25.514136: E tensorflow/stream_executor/cuda/cuda_blas.cc:2981] Unable to register cuBLAS factory: Attempting to register factory for plugin cuBLAS when one has already been registered\n",
      "2023-08-23 13:19:35.111025: W tensorflow/stream_executor/platform/default/dso_loader.cc:64] Could not load dynamic library 'libnvinfer.so.7'; dlerror: libnvinfer.so.7: cannot open shared object file: No such file or directory\n",
      "2023-08-23 13:19:35.111151: W tensorflow/stream_executor/platform/default/dso_loader.cc:64] Could not load dynamic library 'libnvinfer_plugin.so.7'; dlerror: libnvinfer_plugin.so.7: cannot open shared object file: No such file or directory\n",
      "2023-08-23 13:19:35.111164: W tensorflow/compiler/tf2tensorrt/utils/py_utils.cc:38] TF-TRT Warning: Cannot dlopen some TensorRT libraries. If you would like to use Nvidia GPU with TensorRT, please make sure the missing libraries mentioned above are installed properly.\n",
      "2023-08-23 13:19:48.760906: W tensorflow/stream_executor/platform/default/dso_loader.cc:64] Could not load dynamic library 'libcuda.so.1'; dlerror: libcuda.so.1: cannot open shared object file: No such file or directory\n",
      "2023-08-23 13:19:48.760949: W tensorflow/stream_executor/cuda/cuda_driver.cc:263] failed call to cuInit: UNKNOWN ERROR (303)\n",
      "2023-08-23 13:19:48.760977: I tensorflow/stream_executor/cuda/cuda_diagnostics.cc:156] kernel driver does not appear to be running on this host (sdx48): /proc/driver/nvidia/version does not exist\n"
     ]
    }
   ],
   "source": [
    "#imports\n",
    "import pandas as pd\n",
    "import numpy as np\n",
    "import matplotlib.pyplot as plt\n",
    "\n",
    "from statistics import mean\n",
    "\n",
    "from sklearn.preprocessing import MinMaxScaler\n",
    "\n",
    "from alibi.explainers import IntegratedGradients\n",
    "\n",
    "\n",
    "from data_makers import *\n",
    "import utils\n",
    "from utils import *\n",
    "import mean_model\n",
    "from mean_model import meanModel\n",
    "import ML_models\n",
    "from ML_models import *\n",
    "\n",
    "import sklearn\n",
    "\n",
    "from sklearn.metrics import mean_squared_error, r2_score\n",
    "\n",
    "from Nikhil_code import data_preprocessing as dp_nb\n",
    "from Nikhil_code import model_selection as ms_nb\n",
    "from Nikhil_code import testing as t_nb\n",
    "import Nikhil_code.Data_imports as di_nb\n",
    "import Nikhil_code.pairs_train_test_split as tts_nb\n",
    "import Nikhil_code.Learning_curve as lc_nb\n",
    "\n",
    "import shap"
   ]
  },
  {
   "cell_type": "markdown",
   "id": "addb9ebb-ecbc-4166-a31a-7cc41694d115",
   "metadata": {
    "jp-MarkdownHeadingCollapsed": true,
    "tags": []
   },
   "source": [
    "# Feature selection (FS) and data creating for each drug"
   ]
  },
  {
   "cell_type": "code",
   "execution_count": 3,
   "id": "54f7fa21-d750-4a39-a907-1d0526bda60e",
   "metadata": {},
   "outputs": [
    {
     "name": "stderr",
     "output_type": "stream",
     "text": [
      "Falling back to the 'python' engine because the 'c' engine does not support skipfooter; you can avoid this warning by specifying engine='python'.\n"
     ]
    },
    {
     "name": "stdout",
     "output_type": "stream",
     "text": [
      "Number of missing prot values 0.386335609896865\n",
      "num non overlapping prot and target cls: 10\n"
     ]
    },
    {
     "name": "stderr",
     "output_type": "stream",
     "text": [
      "Falling back to the 'python' engine because the 'c' engine does not support skipfooter; you can avoid this warning by specifying engine='python'.\n"
     ]
    },
    {
     "name": "stdout",
     "output_type": "stream",
     "text": [
      "num non overlapping cls: 930\n"
     ]
    },
    {
     "data": {
      "text/plain": [
       "((38, 8457), (38, 17417), (38, 22804), (38, 38), (345, 345))"
      ]
     },
     "execution_count": 3,
     "metadata": {},
     "output_type": "execute_result"
    }
   ],
   "source": [
    "#input data\n",
    "prot, rna, phospho_ls, one_hot_cls, one_hot_drugs, ic50_df1 = di_nb.read_input_data(transformation='norm')\n",
    "_all_cls = prot.index\n",
    "_all_drugs = ic50_df1.columns\n",
    "assert prot.shape[0] == rna.shape[0] == phospho_ls.shape[0]\n",
    "assert phospho_ls.shape[0]  == one_hot_cls.shape[0]\n",
    "prot.shape, rna.shape, phospho_ls.shape, one_hot_cls.shape, one_hot_drugs.shape"
   ]
  },
  {
   "cell_type": "code",
   "execution_count": 4,
   "id": "48da9d79-f104-4bed-833e-984954088463",
   "metadata": {},
   "outputs": [
    {
     "name": "stdout",
     "output_type": "stream",
     "text": [
      "(11583, 22804)\n",
      "(11583, 23149)\n"
     ]
    }
   ],
   "source": [
    "##PHOSPHO\n",
    "#create prot data for all drugs\n",
    "x_all_phos, x_drug, y_main_phos = dp_nb.create_all_drugs(\n",
    "    phospho_ls, one_hot_drugs, ic50_df1, _all_cls)\n",
    "\n",
    "#fmt index to include drug cell line paris\n",
    "cls_drugs_index = x_all_phos.index + '::' + x_drug.index \n",
    "x_all_phos.index = cls_drugs_index\n",
    "y_main_phos.index = cls_drugs_index\n",
    "x_drug.index = cls_drugs_index\n",
    "\n",
    "x_all_phos = x_all_phos.astype(np.float32)\n",
    "print(x_all_phos.shape)\n",
    "X_main_phos = X_main_maker(x_all_phos, x_drug, short = False)\n",
    "print(X_main_phos.shape)"
   ]
  },
  {
   "cell_type": "code",
   "execution_count": 5,
   "id": "1fbdee40-ca26-4f30-9294-1b7050f40a12",
   "metadata": {},
   "outputs": [
    {
     "name": "stdout",
     "output_type": "stream",
     "text": [
      "(11583, 8457)\n",
      "(11583, 8802)\n"
     ]
    }
   ],
   "source": [
    "##PROTEOMIC\n",
    "#create prot data for all drugs\n",
    "x_all_prot, x_drug, y_list = dp_nb.create_all_drugs(\n",
    "    prot, one_hot_drugs, ic50_df1, _all_cls)\n",
    "\n",
    "#fmt index to include drug cell line paris\n",
    "cls_drugs_index = x_all_prot.index + '::' + x_drug.index \n",
    "x_all_prot.index = cls_drugs_index\n",
    "y_list.index = cls_drugs_index\n",
    "x_drug.index = cls_drugs_index\n",
    "\n",
    "x_all_prot = x_all_prot.astype(np.float32)\n",
    "print(x_all_prot.shape)\n",
    "X_main_prot = X_main_maker(x_all_prot, x_drug, short = False)\n",
    "print(X_main_prot.shape)"
   ]
  },
  {
   "cell_type": "code",
   "execution_count": 6,
   "id": "a081fc6f-5d46-4989-a5b4-eae5d5ea1c12",
   "metadata": {},
   "outputs": [
    {
     "name": "stdout",
     "output_type": "stream",
     "text": [
      "(11583, 38)\n",
      "(11583, 383)\n"
     ]
    }
   ],
   "source": [
    "#one hot data creation for all drugs\n",
    "x_hot, x_drug_hot, y_main_onehot = dp_nb.create_all_drugs(\n",
    "    one_hot_cls, one_hot_drugs, ic50_df1, _all_cls)\n",
    "\n",
    "cls_drugs_index_hot = x_hot.index + '::' + x_drug_hot.index \n",
    "\n",
    "x_hot.index = cls_drugs_index_hot\n",
    "x_hot.columns = np.arange(len(x_drug.columns), len(x_drug.columns) + len(x_hot.columns))\n",
    "print(x_hot.shape)\n",
    "X_main_onehot = X_main_maker(x_hot, x_drug, short = False)\n",
    "print(X_main_onehot.shape)"
   ]
  },
  {
   "cell_type": "markdown",
   "id": "a1684003-3ddb-4662-9eda-4635d9b0a541",
   "metadata": {
    "jp-MarkdownHeadingCollapsed": true,
    "tags": []
   },
   "source": [
    "# Early stopping and parameters"
   ]
  },
  {
   "cell_type": "code",
   "execution_count": 7,
   "id": "a8ac959f-8308-4ba8-b836-bb1f0880bb02",
   "metadata": {},
   "outputs": [],
   "source": [
    "# set early stopping and learning rate scheduler\n",
    "es = EarlyStopping(monitor='val_loss', mode='min', verbose=1, patience=20, min_delta=0, restore_best_weights=True)\n",
    "lr_scheduler = keras.callbacks.LearningRateScheduler(scheduler)\n",
    "callbacks_list =  [es,lr_scheduler]"
   ]
  },
  {
   "cell_type": "code",
   "execution_count": 8,
   "id": "f3cf2f52-0aa8-4c56-8575-523b1ab3b411",
   "metadata": {},
   "outputs": [],
   "source": [
    "# set parameters and train\n",
    "num_epochs = 200 # max epoch for training\n",
    "learning_rate = 1e-2 # initial learning rate, decays via learning rate scheduler\n",
    "momentum = 0.5\n",
    "initializer_seed = 42"
   ]
  },
  {
   "cell_type": "markdown",
   "id": "3bae2f5f-bcb9-4037-b195-37a1098c0335",
   "metadata": {
    "jp-MarkdownHeadingCollapsed": true,
    "tags": []
   },
   "source": [
    "# Filter for drugs, features or all"
   ]
  },
  {
   "cell_type": "code",
   "execution_count": null,
   "id": "df067fc7-593e-4708-979f-86e123d86b9c",
   "metadata": {},
   "outputs": [],
   "source": [
    "dtype='phospho'\n",
    "model_type = 'rfr'"
   ]
  },
  {
   "cell_type": "code",
   "execution_count": null,
   "id": "0a1bdc43-dfa8-488e-8de6-0fbd2ec017ae",
   "metadata": {},
   "outputs": [],
   "source": [
    "# function that filters the X and y dataframe according to the Anti-Cancer drug database \n",
    "test_type = 'drugs_features'\n",
    "\n",
    "if dtype == 'phospho':\n",
    "    dd_X_phos, dd_ic50_df1, dd_one_hot_drugs = phospho_target_maker(X_main_phos, phospho_ls, ic50_df1, one_hot_drugs, ctype='all')\n",
    "elif dtype == 'proteomic':\n",
    "    dd_X_prot, dd_ic50_df1, dd_one_hot_drugs = proteomic_target_maker(X_main_prot, prot, ic50_df1, one_hot_drugs, ctype='all')\n",
    "elif dtype == 'full_network':\n",
    "    dd_X_phos, dd_ic50_df1, dd_one_hot_drugs = phospho_target_maker(X_main_phos, phospho_ls, ic50_df1, one_hot_drugs, ctype='all')\n",
    "    dd_X_prot, dd_ic50_df1, dd_one_hot_drugs = proteomic_target_maker(X_main_prot, prot, ic50_df1, one_hot_drugs, ctype='all')\n",
    "    dd_X = pd.concat([dd_X_phos, dd_X_prot], axis=1)\n",
    "\n",
    "\n",
    "#create prot data for all drugs\n",
    "dd_x_all, dd_x_drug, dd_y_main = dp_nb.create_all_drugs(\n",
    "dd_X_prot, dd_one_hot_drugs, dd_ic50_df1, _all_cls)\n",
    "\n",
    "#fmt index to include drug cell line paris\n",
    "cls_drugs_index = dd_x_all.index + '::' + dd_x_drug.index \n",
    "dd_x_all.index = cls_drugs_index\n",
    "dd_y_main.index = cls_drugs_index\n",
    "dd_x_drug.index = cls_drugs_index\n",
    "\n",
    "dd_x_all = dd_x_all.astype(np.float32)\n",
    "print(dd_x_all.shape)\n",
    "dd_X_main = X_main_maker(dd_x_all, dd_x_drug, short = False)\n",
    "print(dd_X_main.shape)\n",
    "\n",
    "## ONE HOT\n",
    "#one hot data creation for all drugs\n",
    "x_hot, x_drug_hot, y_main_onehot = dp_nb.create_all_drugs(\n",
    "    one_hot_cls, dd_one_hot_drugs, dd_ic50_df1, _all_cls)\n",
    "\n",
    "cls_drugs_index_hot = x_hot.index + '::' + x_drug_hot.index \n",
    "\n",
    "x_hot.index = cls_drugs_index_hot\n",
    "x_hot.columns = np.arange(len(dd_x_drug.columns), len(dd_x_drug.columns) + len(x_hot.columns))\n",
    "print(x_hot.shape)\n",
    "X_main_onehot = X_main_maker(x_hot, dd_x_drug, short = False)\n",
    "print(X_main_onehot.shape)"
   ]
  },
  {
   "cell_type": "code",
   "execution_count": null,
   "id": "34ec045f-f68c-4393-9d73-3a30b774673d",
   "metadata": {},
   "outputs": [],
   "source": [
    "#CHANGE JUST CL:DRUG\n",
    "\n",
    "test_type = 'drugs'\n",
    "\n",
    "# function that filters the X and y dataframe according to the Anti-Cancer drug database \n",
    "if dtype == 'phospho':\n",
    "    dd_X_phos, dd_ic50_df1, dd_one_hot_drugs = phospho_target_maker(X_main_phos, phospho_ls, ic50_df1, one_hot_drugs, ctype='drug')\n",
    "elif dtype == 'proteomic':\n",
    "    dd_X_prot, dd_ic50_df1, dd_one_hot_drugs = proteomic_target_maker(X_main_prot, prot, ic50_df1, one_hot_drugs, ctype='drug')\n",
    "elif dtype == 'full_network':\n",
    "    dd_X_phos, dd_ic50_df1, dd_one_hot_drugs = phospho_target_maker(X_main_phos, phospho_ls, ic50_df1, one_hot_drugs, ctype='drug')\n",
    "    dd_X_prot, dd_ic50_df1, dd_one_hot_drugs = proteomic_target_maker(X_main_prot, prot, ic50_df1, one_hot_drugs, ctype='drug')\n",
    "    dd_X = pd.concat([dd_X_phos, dd_X_prot], axis=1)\n",
    "\n",
    "\n",
    "#create prot data for all drugs\n",
    "dd_x_all, dd_x_drug, dd_y_main = dp_nb.create_all_drugs(\n",
    "dd_X_prot, dd_one_hot_drugs, dd_ic50_df1, _all_cls)\n",
    "\n",
    "#fmt index to include drug cell line paris\n",
    "cls_drugs_index = dd_x_all.index + '::' + dd_x_drug.index \n",
    "dd_x_all.index = cls_drugs_index\n",
    "dd_y_main.index = cls_drugs_index\n",
    "dd_x_drug.index = cls_drugs_index\n",
    "\n",
    "dd_x_all = dd_x_all.astype(np.float32)\n",
    "print(dd_x_all.shape)\n",
    "dd_X_main = X_main_maker(dd_x_all, dd_x_drug, short = False)\n",
    "print(dd_X_main.shape)\n",
    "\n",
    "## ONE HOT\n",
    "#one hot data creation for all drugs\n",
    "x_hot, x_drug_hot, y_main_onehot = dp_nb.create_all_drugs(\n",
    "    one_hot_cls, dd_one_hot_drugs, dd_ic50_df1, _all_cls)\n",
    "\n",
    "cls_drugs_index_hot = x_hot.index + '::' + x_drug_hot.index \n",
    "\n",
    "x_hot.index = cls_drugs_index_hot\n",
    "x_hot.columns = np.arange(len(x_drug.columns), len(x_drug.columns) + len(x_hot.columns))\n",
    "print(x_hot.shape)\n",
    "X_main_onehot = X_main_maker(x_hot, dd_x_drug, short = False)\n",
    "print(X_main_onehot.shape)"
   ]
  },
  {
   "cell_type": "code",
   "execution_count": null,
   "id": "cf10b410-f185-4cc7-8090-0a233740e045",
   "metadata": {},
   "outputs": [],
   "source": [
    "#CHANGE JUST FEATURES\n",
    "\n",
    "test_type = 'features'\n",
    "\n",
    "# function that filters the X and y dataframe according to the Anti-Cancer drug database \n",
    "if dtype == 'phospho':\n",
    "    dd_X_phos, dd_ic50_df1, dd_one_hot_drugs = phospho_target_maker(X_main_phos, phospho_ls, ic50_df1, one_hot_drugs, ctype='feature')\n",
    "elif dtype == 'proteomic':\n",
    "    dd_X_prot, dd_ic50_df1, dd_one_hot_drugs = proteomic_target_maker(X_main_prot, prot, ic50_df1, one_hot_drugs, ctype='feature')\n",
    "elif dtype == 'full_network':\n",
    "    dd_X_phos, dd_ic50_df1, dd_one_hot_drugs = phospho_target_maker(X_main_phos, phospho_ls, ic50_df1, one_hot_drugs, ctype='feature')\n",
    "    dd_X_prot, dd_ic50_df1, dd_one_hot_drugs = proteomic_target_maker(X_main_prot, prot, ic50_df1, one_hot_drugs, ctype='feature')\n",
    "    dd_X = pd.concat([dd_X_phos, dd_X_prot], axis=1)\n",
    "\n",
    "\n",
    "#create prot data for all drugs\n",
    "dd_x_all, dd_x_drug, dd_y_main = dp_nb.create_all_drugs(\n",
    "dd_X_phos, dd_one_hot_drugs, dd_ic50_df1, _all_cls)\n",
    "\n",
    "#fmt index to include drug cell line paris\n",
    "cls_drugs_index = dd_x_all.index + '::' + dd_x_drug.index \n",
    "dd_x_all.index = cls_drugs_index\n",
    "dd_y_main.index = cls_drugs_index\n",
    "dd_x_drug.index = cls_drugs_index\n",
    "\n",
    "dd_x_all = dd_x_all.astype(np.float32)\n",
    "print(dd_x_all.shape)\n",
    "dd_X_main = X_main_maker(dd_x_all, dd_x_drug, short = False)\n",
    "print(dd_X_main.shape)\n",
    "\n",
    "## ONE HOT\n",
    "#one hot data creation for all drugs\n",
    "x_hot, x_drug_hot, y_main_onehot = dp_nb.create_all_drugs(\n",
    "    one_hot_cls, dd_one_hot_drugs, dd_ic50_df1, _all_cls)\n",
    "\n",
    "cls_drugs_index_hot = x_hot.index + '::' + x_drug_hot.index \n",
    "\n",
    "x_hot.index = cls_drugs_index_hot\n",
    "x_hot.columns = np.arange(len(x_drug_hot.columns), len(x_drug.columns) + len(x_hot.columns))\n",
    "print(x_hot.shape)\n",
    "X_main_onehot = X_main_maker(x_hot, dd_x_drug, short = False)\n",
    "print(X_main_onehot.shape)"
   ]
  },
  {
   "cell_type": "markdown",
   "id": "f579fb29-553d-4899-b016-02b82a36fa3a",
   "metadata": {
    "jp-MarkdownHeadingCollapsed": true,
    "tags": []
   },
   "source": [
    "# Test models for drug targets"
   ]
  },
  {
   "cell_type": "markdown",
   "id": "4d8464ca-38b7-4075-9efd-2b146c50da92",
   "metadata": {},
   "source": [
    "reform dataframes to only contain drugs and targets that have known interactions"
   ]
  },
  {
   "cell_type": "markdown",
   "id": "cf06e625-33b7-4402-94ac-ab5141265f2f",
   "metadata": {
    "jp-MarkdownHeadingCollapsed": true,
    "tags": []
   },
   "source": [
    "## Random forest"
   ]
  },
  {
   "cell_type": "markdown",
   "id": "dfda4ac4-09eb-4c37-bcf5-efd91af6a397",
   "metadata": {},
   "source": [
    "drug and features filtered"
   ]
  },
  {
   "cell_type": "code",
   "execution_count": null,
   "id": "e95d141d-7133-48ea-850a-cfa1041dd397",
   "metadata": {
    "scrolled": true,
    "tags": []
   },
   "outputs": [],
   "source": [
    "rs = [0, 8, 23, 42, 69, 88]\n",
    "mm_r2 = []\n",
    "model_r2 = []\n",
    "model_standard_error = []\n",
    "mixed_set_r2 = []\n",
    "model_MSE = []\n",
    "model_pearson = []\n",
    "\n",
    "for seed in rs:\n",
    "    print(f'Seed: {seed}')\n",
    "    #tts\n",
    "    dd_X_train, dd_X_test, dd_y_train, dd_y_test = cell_line_split(dd_X_main, dd_y_main, test_size=0.2, random_state = seed)\n",
    "    #run mean model\n",
    "    dl = dlMaker(dd_y_train, noRepeats=True)\n",
    "    mm = meanModel(dd_y_train, dl)\n",
    "    prediction = mm.predict(dd_y_test.index)\n",
    "    mean_r2 = r2_score(dd_y_test, list(prediction.values()))\n",
    "    mm_r2.append(mean_r2)\n",
    "    \n",
    "    print(f'Mixed-Set Model')\n",
    "    #MIXED SET\n",
    "    #MODEL\n",
    "    if model_type == 'rfr':\n",
    "        r2, MSE, pearson, standard_error = rfr(X_main_onehot, dd_y_main, test_size=0.2, random_state=seed, iterations=3)\n",
    "    elif model_type == 'xgb':\n",
    "        r2, MSE, pearson, standard_error = xgb(X_main_onehot, dd_y_main, test_size=0.2, random_state=seed, iterations=3)\n",
    "    mixed_set_r2.append(r2)\n",
    "\n",
    "    #random forests\n",
    "    if model_type == 'rfr':\n",
    "        r2, MSE, pearson, standard_error = rfr(dd_X_main, dd_y_main, test_size=0.2, random_state=seed, iterations=3)\n",
    "    elif model_type == 'xgb':\n",
    "        r2, MSE, pearson, standard_error = xgb(dd_X_main, dd_y_main, test_size=0.2, random_state=seed, iterations=3)\n",
    "    model_r2.append(r2)\n",
    "    model_standard_error.append(standard_error)\n",
    "    model_MSE.append(MSE)\n",
    "    model_pearson.append(pearson)"
   ]
  },
  {
   "cell_type": "code",
   "execution_count": null,
   "id": "799e528c-137d-47d7-8b25-561b20f1c320",
   "metadata": {},
   "outputs": [],
   "source": [
    "table_make(f'drugs_features_{dtype}',\n",
    "           [rs, mm_r2, mixed_set_r2, model_r2, model_standard_error, model_MSE, model_pearson],\n",
    "           ['rs', 'mm_r2', 'mixed_set_r2', 'model_r2', 'model_standard_error', 'model_MSE', 'model_pearson'], \n",
    "           file = f'Targets/{model_type}/model performance/{dtype}/drugs_features_{dtype}_NORMX.csv')\n",
    "           "
   ]
  },
  {
   "cell_type": "markdown",
   "id": "d462eedc-fefa-4f29-a574-711522a9eb39",
   "metadata": {},
   "source": [
    "drugs filtered only"
   ]
  },
  {
   "cell_type": "code",
   "execution_count": null,
   "id": "0fc09fbc-8854-4dd0-a98b-442272082dad",
   "metadata": {
    "scrolled": true,
    "tags": []
   },
   "outputs": [],
   "source": [
    "rs = [0, 8, 23, 42, 69, 88]\n",
    "mm_r2 = []\n",
    "model_r2 = []\n",
    "model_standard_error = []\n",
    "mixed_set_r2 = []\n",
    "model_MSE = []\n",
    "model_pearson = []\n",
    "\n",
    "for seed in rs:\n",
    "    print(f'Seed: {seed}')\n",
    "    #tts\n",
    "    dd_X_train, dd_X_test, dd_y_train, dd_y_test = cell_line_split(dd_X_main, dd_y_main, test_size=0.2, random_state = seed)\n",
    "    #run mean model\n",
    "    dl = dlMaker(dd_y_train, noRepeats=True)\n",
    "    mm = meanModel(dd_y_train, dl)\n",
    "    prediction = mm.predict(dd_y_test.index)\n",
    "    mean_r2 = r2_score(dd_y_test, list(prediction.values()))\n",
    "    mm_r2.append(mean_r2)\n",
    "    \n",
    "    print(f'Mixed-Set Model')\n",
    "    #MIXED SET\n",
    "    #MODEL\n",
    "    if model_type == 'rfr':\n",
    "        r2, MSE, pearson, standard_error = rfr(X_main_onehot, dd_y_main, test_size=0.2, random_state=seed, iterations=3)\n",
    "    elif model_type == 'xgb':\n",
    "        r2, MSE, pearson, standard_error = xgb(X_main_onehot, dd_y_main, test_size=0.2, random_state=seed, iterations=3)\n",
    "    mixed_set_r2.append(r2)\n",
    "\n",
    "    #random forests\n",
    "    if model_type == 'rfr':\n",
    "        r2, MSE, pearson, standard_error = rfr(dd_X_main, dd_y_main, test_size=0.2, random_state=seed, iterations=3)\n",
    "    elif model_type == 'xgb':\n",
    "        r2, MSE, pearson, standard_error = xgb(dd_X_main, dd_y_main, test_size=0.2, random_state=seed, iterations=3)\n",
    "    model_r2.append(r2)\n",
    "    model_standard_error.append(standard_error)\n",
    "    model_MSE.append(MSE)\n",
    "    model_pearson.append(pearson)"
   ]
  },
  {
   "cell_type": "code",
   "execution_count": null,
   "id": "7e90d48f-d499-43ee-b090-975599039ee7",
   "metadata": {},
   "outputs": [],
   "source": [
    "table_make(f'drugs_{dtype}',\n",
    "           [rs, mm_r2, mixed_set_r2, model_r2, model_standard_error, model_MSE, model_pearson],\n",
    "           ['rs', 'mm_r2', 'mixed_set_r2', 'model_r2', 'model_standard_error', 'model_MSE', 'model_pearson'],\n",
    "           f'Targets/{model_type}/model performance/{dtype}/drugs_{dtype}_NORMX.csv')"
   ]
  },
  {
   "cell_type": "markdown",
   "id": "bdbdb1aa-bfc1-4d2d-898d-850ac3f6f77a",
   "metadata": {},
   "source": [
    "features filtered only"
   ]
  },
  {
   "cell_type": "code",
   "execution_count": null,
   "id": "071cffc5-3b37-4ada-894c-e6df6211d619",
   "metadata": {
    "scrolled": true,
    "tags": []
   },
   "outputs": [],
   "source": [
    "rs = [0, 8, 23, 42, 69, 88]\n",
    "mm_r2 = []\n",
    "model_r2 = []\n",
    "model_standard_error = []\n",
    "mixed_set_r2 = []\n",
    "model_MSE = []\n",
    "model_pearson = []\n",
    "\n",
    "for seed in rs:\n",
    "    print(f'Seed: {seed}')\n",
    "    #tts\n",
    "    dd_X_train, dd_X_test, dd_y_train, dd_y_test = cell_line_split(dd_X_main, dd_y_main, test_size=0.2, random_state = seed)\n",
    "    #run mean model\n",
    "    dl = dlMaker(dd_y_train, noRepeats=True)\n",
    "    mm = meanModel(dd_y_train, dl)\n",
    "    prediction = mm.predict(dd_y_test.index)\n",
    "    mean_r2 = r2_score(dd_y_test, list(prediction.values()))\n",
    "    mm_r2.append(mean_r2)\n",
    "    \n",
    "    print(f'Mixed-Set Model')\n",
    "    #MIXED SET\n",
    "    #MODEL\n",
    "    if model_type == 'rfr':\n",
    "        r2, MSE, pearson, standard_error = rfr(X_main_onehot, dd_y_main, test_size=0.2, random_state=seed, iterations=3)\n",
    "    elif model_type == 'xgb':\n",
    "        r2, MSE, pearson, standard_error = xgb(X_main_onehot, dd_y_main, test_size=0.2, random_state=seed, iterations=3)\n",
    "    mixed_set_r2.append(r2)\n",
    "\n",
    "    #random forests\n",
    "    if model_type == 'rfr':\n",
    "        r2, MSE, pearson, standard_error = rfr(dd_X_main, dd_y_main, test_size=0.2, random_state=seed, iterations=3)\n",
    "    elif model_type == 'xgb':\n",
    "        r2, MSE, pearson, standard_error = xgb(dd_X_main, dd_y_main, test_size=0.2, random_state=seed, iterations=3)\n",
    "    model_r2.append(r2)\n",
    "    model_standard_error.append(standard_error)\n",
    "    model_MSE.append(MSE)\n",
    "    model_pearson.append(pearson)"
   ]
  },
  {
   "cell_type": "code",
   "execution_count": null,
   "id": "d201ae2b-aa97-4343-b640-7bbb04932389",
   "metadata": {},
   "outputs": [],
   "source": [
    "table_make(f'features_{dtype}',\n",
    "           [rs, mm_r2, mixed_set_r2, model_r2, model_standard_error, model_MSE, model_pearson],\n",
    "           ['rs', 'mm_r2', 'mixed_set_r2', 'model_r2', 'model_standard_error', 'model_MSE', 'model_pearson'],\n",
    "           f'Targets/{model_type}/model performance/{dtype}/features_{dtype}_NORMX.csv')"
   ]
  },
  {
   "cell_type": "markdown",
   "id": "9a239464-615f-4448-a1e8-865cf234741b",
   "metadata": {
    "tags": []
   },
   "source": [
    "## Neural Networks"
   ]
  },
  {
   "cell_type": "markdown",
   "id": "0db6b26a-8f8a-4d1c-a36a-c51ebd2cfed1",
   "metadata": {},
   "source": [
    "drugs and features filtered"
   ]
  },
  {
   "cell_type": "code",
   "execution_count": null,
   "id": "ffa697a4-1469-4d7e-8d44-a7652fd46071",
   "metadata": {},
   "outputs": [],
   "source": [
    "rs = [0, 8, 23, 42, 69, 88]\n",
    "mm_r2 = []\n",
    "mixed_set_r2 = []\n",
    "model_r2 = []\n",
    "model_MSE = []\n",
    "model_pearson = []\n",
    "\n",
    "for seed in rs:\n",
    "    \n",
    "    print(f'Seed: {seed}')\n",
    "    \n",
    "    print(f'Mean Model')\n",
    "    #MEAN MODEL\n",
    "    #tts\n",
    "    X_train, X_test, y_train, y_test = cell_line_split(dd_X_main, y=dd_y_main, test_size=0.2, random_state = seed)\n",
    "    #run mean model\n",
    "    dl = dlMaker(y_train, noRepeats=True)\n",
    "    mm = meanModel(y_train, dl)\n",
    "    prediction = mm.predict(y_test.index)\n",
    "    mean_r2 = r2_score(y_test, list(prediction.values()))\n",
    "    mm_r2.append(mean_r2)\n",
    "    \n",
    "    \n",
    "    print(f'Mixed-Set Model')\n",
    "    #phospho\n",
    "    xo_train, xo_test = cell_line_split(x_hot, y=None, test_size=0.2, random_state = seed)\n",
    "    xd_train, xd_test = cell_line_split(dd_x_drug, y=None, test_size=0.2, random_state = seed)\n",
    "    y_train, y_test = cell_line_split(dd_y_main, y=None, test_size=0.2, random_state = seed)\n",
    "\n",
    "    model = build_CNN(xo_train, xd_train, learning_rate, momentum, initializer_seed, mtype = 'regression')\n",
    "    history = model.fit([xo_train, xd_train], y_train,\n",
    "                        validation_data=([xo_test, xd_test], y_test),\n",
    "                        epochs=num_epochs, \n",
    "                        batch_size=None, \n",
    "                        verbose=0, \n",
    "                        callbacks=callbacks_list)\n",
    "\n",
    "    y_pred = model.predict([xo_test, xd_test])  \n",
    "    r2 = r2_score(y_test, y_pred)\n",
    "        \n",
    "    mixed_set_r2.append(r2)\n",
    "\n",
    "    print(f'Model: Deep_NN')\n",
    "    \n",
    "    #phospho\n",
    "    xo_train, xo_test = cell_line_split(dd_x_all, y=None, test_size=0.2, random_state = seed)\n",
    "    xd_train, xd_test = cell_line_split(dd_x_drug, y=None, test_size=0.2, random_state = seed)\n",
    "    y_train, y_test = cell_line_split(dd_y_main, y=None, test_size=0.2, random_state = seed)\n",
    "    \n",
    "    ## Code for model building and training\n",
    "\n",
    "    model = build_CNN(xo_train, xd_train, learning_rate, momentum, initializer_seed, mtype = 'regression')\n",
    "    history = model.fit([xo_train, xd_train], y_train,\n",
    "                        validation_data=([xo_test, xd_test], y_test),\n",
    "                        epochs=num_epochs, \n",
    "                        batch_size=None, \n",
    "                        verbose=0, \n",
    "                        callbacks=callbacks_list)\n",
    "\n",
    "    y_pred = model.predict([xo_test, xd_test])  \n",
    "    r2 = r2_score(y_test, y_pred)\n",
    "    MSE = mean_squared_error(y_test, y_pred)\n",
    "    pearson = pearsonr(y_test, y_pred)\n",
    "    model_r2.append(r2)\n",
    "    model_MSE.append(MSE)\n",
    "    model_pearson.append(pearson)\n"
   ]
  },
  {
   "cell_type": "code",
   "execution_count": null,
   "id": "a17334f0-e31e-424e-9be0-322db437360e",
   "metadata": {},
   "outputs": [],
   "source": [
    "table_make(f'drugs_features_{dtype}',\n",
    "           [rs, mm_r2, mixed_set_r2, model_r2, model_MSE, model_pearson],\n",
    "           ['rs', 'mm_r2', 'mixed_set_r2', 'model_r2', 'model_MSE', 'model_pearson'], \n",
    "           file = f'Targets/{model_type}/model performance/{dtype}/drugs_features_{dtype}.csv')\n",
    "           "
   ]
  },
  {
   "cell_type": "markdown",
   "id": "408971fe-dbc4-428c-b5ed-4d82dd3269f5",
   "metadata": {},
   "source": [
    "drugs filtered only"
   ]
  },
  {
   "cell_type": "code",
   "execution_count": null,
   "id": "3cd44696-ab40-405d-acd4-14868cbf57fa",
   "metadata": {},
   "outputs": [],
   "source": [
    "rs = [0, 8, 23, 42, 69, 88]\n",
    "mm_r2 = []\n",
    "mixed_set_r2 = []\n",
    "model_r2 = []\n",
    "model_MSE = []\n",
    "model_pearson = []\n",
    "\n",
    "for seed in rs:\n",
    "    \n",
    "    print(f'Seed: {seed}')\n",
    "    \n",
    "    print(f'Mean Model')\n",
    "    #MEAN MODEL\n",
    "    #tts\n",
    "    X_train, X_test, y_train, y_test = cell_line_split(dd_X_main, y=dd_y_main, test_size=0.2, random_state = seed)\n",
    "    #run mean model\n",
    "    dl = dlMaker(y_train, noRepeats=True)\n",
    "    mm = meanModel(y_train, dl)\n",
    "    prediction = mm.predict(y_test.index)\n",
    "    mean_r2 = r2_score(y_test, list(prediction.values()))\n",
    "    mm_r2.append(mean_r2)\n",
    "    \n",
    "    \n",
    "    print(f'Mixed-Set Model')\n",
    "    #phospho\n",
    "    xo_train, xo_test = cell_line_split(x_hot, y=None, test_size=0.2, random_state = seed)\n",
    "    xd_train, xd_test = cell_line_split(dd_x_drug, y=None, test_size=0.2, random_state = seed)\n",
    "    y_train, y_test = cell_line_split(dd_y_main, y=None, test_size=0.2, random_state = seed)\n",
    "\n",
    "    model = build_CNN(xo_train, xd_train, learning_rate, momentum, initializer_seed, mtype = 'regression')\n",
    "    history = model.fit([xo_train, xd_train], y_train,\n",
    "                        validation_data=([xo_test, xd_test], y_test),\n",
    "                        epochs=num_epochs, \n",
    "                        batch_size=None, \n",
    "                        verbose=0, \n",
    "                        callbacks=callbacks_list)\n",
    "\n",
    "    y_pred = model.predict([xo_test, xd_test])  \n",
    "    r2 = r2_score(y_test, y_pred)\n",
    "        \n",
    "    mixed_set_r2.append(r2)\n",
    "\n",
    "    print(f'Model: Deep_NN')\n",
    "    \n",
    "    #phospho\n",
    "    xo_train, xo_test = cell_line_split(dd_x_all, y=None, test_size=0.2, random_state = seed)\n",
    "    xd_train, xd_test = cell_line_split(dd_x_drug, y=None, test_size=0.2, random_state = seed)\n",
    "    y_train, y_test = cell_line_split(dd_y_main, y=None, test_size=0.2, random_state = seed)\n",
    "    \n",
    "    ## Code for model building and training\n",
    "\n",
    "    model = build_CNN(xo_train, xd_train, learning_rate, momentum, initializer_seed, mtype = 'regression')\n",
    "    history = model.fit([xo_train, xd_train], y_train,\n",
    "                        validation_data=([xo_test, xd_test], y_test),\n",
    "                        epochs=num_epochs, \n",
    "                        batch_size=None, \n",
    "                        verbose=0, \n",
    "                        callbacks=callbacks_list)\n",
    "\n",
    "    y_pred = model.predict([xo_test, xd_test])  \n",
    "    r2 = r2_score(y_test, y_pred)\n",
    "    MSE = mean_squared_error(y_test, y_pred)\n",
    "    pearson = pearsonr(y_test, y_pred)\n",
    "    model_r2.append(r2)\n",
    "    model_MSE.append(MSE)\n",
    "    model_pearson.append(pearson)\n"
   ]
  },
  {
   "cell_type": "code",
   "execution_count": null,
   "id": "36e84a5b-7806-4e6a-9526-3b44a8f2921b",
   "metadata": {},
   "outputs": [],
   "source": [
    "table_make(f'drugs_{dtype}',\n",
    "           [rs, mm_r2, mixed_set_r2, model_r2, model_MSE, model_pearson],\n",
    "           ['rs', 'mm_r2', 'mixed_set_r2', 'model_r2', 'model_MSE', 'model_pearson'],\n",
    "           f'Targets/{model_type}/model performance/{dtype}/drugs_{dtype}.csv')"
   ]
  },
  {
   "cell_type": "markdown",
   "id": "1cb51715-889a-4a48-93ea-c3dc13b14db5",
   "metadata": {},
   "source": [
    "features filtered only"
   ]
  },
  {
   "cell_type": "code",
   "execution_count": null,
   "id": "50171e2b-00e8-4862-99c4-a2b8816e06d9",
   "metadata": {},
   "outputs": [],
   "source": [
    "rs = [0, 8, 23, 42, 69, 88]\n",
    "mm_r2 = []\n",
    "mixed_set_r2 = []\n",
    "model_r2 = []\n",
    "model_MSE = []\n",
    "model_pearson = []\n",
    "\n",
    "for seed in rs:\n",
    "    \n",
    "    print(f'Seed: {seed}')\n",
    "    \n",
    "    print(f'Mean Model')\n",
    "    #MEAN MODEL\n",
    "    #tts\n",
    "    X_train, X_test, y_train, y_test = cell_line_split(dd_X_main, y=dd_y_main, test_size=0.2, random_state = seed)\n",
    "    #run mean model\n",
    "    dl = dlMaker(y_train, noRepeats=True)\n",
    "    mm = meanModel(y_train, dl)\n",
    "    prediction = mm.predict(y_test.index)\n",
    "    mean_r2 = r2_score(y_test, list(prediction.values()))\n",
    "    mm_r2.append(mean_r2)\n",
    "    \n",
    "    \n",
    "    print(f'Mixed-Set Model')\n",
    "    #phospho\n",
    "    xo_train, xo_test = cell_line_split(x_hot, y=None, test_size=0.2, random_state = seed)\n",
    "    xd_train, xd_test = cell_line_split(dd_x_drug, y=None, test_size=0.2, random_state = seed)\n",
    "    y_train, y_test = cell_line_split(dd_y_main, y=None, test_size=0.2, random_state = seed)\n",
    "\n",
    "    model = build_CNN(xo_train, xd_train, learning_rate, momentum, initializer_seed, mtype = 'regression')\n",
    "    history = model.fit([xo_train, xd_train], y_train,\n",
    "                        validation_data=([xo_test, xd_test], y_test),\n",
    "                        epochs=num_epochs, \n",
    "                        batch_size=None, \n",
    "                        verbose=0, \n",
    "                        callbacks=callbacks_list)\n",
    "\n",
    "    y_pred = model.predict([xo_test, xd_test])  \n",
    "    r2 = r2_score(y_test, y_pred)\n",
    "        \n",
    "    mixed_set_r2.append(r2)\n",
    "\n",
    "    print(f'Model: Deep_NN')\n",
    "    \n",
    "    #phospho\n",
    "    xo_train, xo_test = cell_line_split(dd_x_all, y=None, test_size=0.2, random_state = seed)\n",
    "    xd_train, xd_test = cell_line_split(dd_x_drug, y=None, test_size=0.2, random_state = seed)\n",
    "    y_train, y_test = cell_line_split(dd_y_main, y=None, test_size=0.2, random_state = seed)\n",
    "    \n",
    "    ## Code for model building and training\n",
    "\n",
    "    model = build_CNN(xo_train, xd_train, learning_rate, momentum, initializer_seed, mtype = 'regression')\n",
    "    history = model.fit([xo_train, xd_train], y_train,\n",
    "                        validation_data=([xo_test, xd_test], y_test),\n",
    "                        epochs=num_epochs, \n",
    "                        batch_size=None, \n",
    "                        verbose=0, \n",
    "                        callbacks=callbacks_list)\n",
    "\n",
    "    y_pred = model.predict([xo_test, xd_test])  \n",
    "    r2 = r2_score(y_test, y_pred)\n",
    "    MSE = mean_squared_error(y_test, y_pred)\n",
    "    pearson = pearsonr(y_test, y_pred)\n",
    "    model_r2.append(r2)\n",
    "    model_MSE.append(MSE)\n",
    "    model_pearson.append(pearson)\n"
   ]
  },
  {
   "cell_type": "code",
   "execution_count": null,
   "id": "d537eac8-d464-4df7-a67e-1dcb6a0e30b2",
   "metadata": {},
   "outputs": [],
   "source": [
    "table_make(f'features_{dtype}',\n",
    "           [rs, mm_r2, mixed_set_r2, model_r2, model_MSE, model_pearson],\n",
    "           ['rs', 'mm_r2', 'mixed_set_r2', 'model_r2', 'model_MSE', 'model_pearson'],\n",
    "           f'Targets/{model_type}/model performance/{dtype}/features_{dtype}.csv')"
   ]
  },
  {
   "cell_type": "markdown",
   "id": "96829e69-35b4-4900-864a-d0c42b4fc9bb",
   "metadata": {
    "tags": []
   },
   "source": [
    "# performance plots"
   ]
  },
  {
   "cell_type": "markdown",
   "id": "83742c56-4585-4527-8125-463ccd5fbf86",
   "metadata": {
    "jp-MarkdownHeadingCollapsed": true,
    "tags": []
   },
   "source": [
    "## individual model metrics"
   ]
  },
  {
   "cell_type": "code",
   "execution_count": null,
   "id": "b42998fb-01a6-4658-95f0-75e54956370b",
   "metadata": {},
   "outputs": [],
   "source": [
    "dtype='phospho'\n",
    "model_type = 'xgb'"
   ]
  },
  {
   "cell_type": "code",
   "execution_count": null,
   "id": "8a378bb8-0bb1-4547-b424-cc75c8a66251",
   "metadata": {},
   "outputs": [],
   "source": [
    "shap_df_full = pd.read_csv(f'Targets/{model_type}/model performance/{dtype}/drugs_features_{dtype}_NORMX.csv')\n",
    "shap_df_drugs = pd.read_csv(f'Targets/{model_type}/model performance/{dtype}/drugs_{dtype}_NORMX.csv')\n",
    "shap_df_features = pd.read_csv(f'Targets/{model_type}/model performance/{dtype}/features_{dtype}_NORMX.csv')\n",
    "\n",
    "fig, axes = plt.subplots(1, 3, figsize=(15, 5))\n",
    "\n",
    "# Plot 1\n",
    "axes[0].plot(shap_df_full['rs'].astype(str), shap_df_full['mm_r2'], linestyle='-', marker='.', color='orange', linewidth=1)\n",
    "axes[0].plot(shap_df_full['rs'].astype(str), shap_df_full['mixed_set_r2'], linestyle='-', marker='.', color='yellow', linewidth=1)\n",
    "axes[0].plot(shap_df_full['rs'].astype(str), shap_df_full['model_r2'], linestyle='-', marker='.', color='blue', linewidth=1)\n",
    "axes[0].set_title('Full Network')\n",
    "\n",
    "# Plot 2\n",
    "axes[1].plot(shap_df_drugs['rs'].astype(str), shap_df_drugs['mm_r2'], linestyle='-', marker='.', color='orange', linewidth=1)\n",
    "axes[1].plot(shap_df_drugs['rs'].astype(str), shap_df_drugs['mixed_set_r2'], linestyle='-', marker='.', color='yellow', linewidth=1)\n",
    "axes[1].plot(shap_df_drugs['rs'].astype(str), shap_df_drugs['model_r2'], linestyle='-', marker='.', color='blue', linewidth=1)\n",
    "axes[1].set_title('Drugs Filtered')\n",
    "\n",
    "# Plot 3\n",
    "axes[2].plot(shap_df_features['rs'].astype(str), shap_df_features['mm_r2'], linestyle='-', marker='.', color='orange', linewidth=1)\n",
    "axes[2].plot(shap_df_features['rs'].astype(str), shap_df_features['mixed_set_r2'], linestyle='-', marker='.', color='yellow', linewidth=1)\n",
    "axes[2].plot(shap_df_features['rs'].astype(str), shap_df_features['model_r2'], linestyle='-', marker='.', color='blue', linewidth=1)\n",
    "axes[2].set_title('Features Filtered')\n",
    "\n",
    "axes[0].set_ylim(0.5, 0.85)\n",
    "axes[1].set_ylim(0.5, 0.85)\n",
    "axes[2].set_ylim(0.5, 0.85)\n",
    "\n",
    "\n",
    "# Adjust spacing between subplots\n",
    "plt.tight_layout()\n",
    "\n",
    "# Display the plots\n",
    "plt.show()"
   ]
  },
  {
   "cell_type": "code",
   "execution_count": null,
   "id": "0179cb5c-8dd4-4716-9383-34131f31ca8a",
   "metadata": {},
   "outputs": [],
   "source": [
    "dtype='proteomic'\n",
    "model_type = 'xgb'"
   ]
  },
  {
   "cell_type": "code",
   "execution_count": null,
   "id": "55c2ad85-18ca-4be4-811a-c91d46df2bed",
   "metadata": {},
   "outputs": [],
   "source": [
    "shap_df_full = pd.read_csv(f'Targets/{model_type}/model performance/{dtype}/drugs_features_{dtype}_NORMX.csv')\n",
    "shap_df_drugs = pd.read_csv(f'Targets/{model_type}/model performance/{dtype}/drugs_{dtype}_NORMX.csv')\n",
    "shap_df_features = pd.read_csv(f'Targets/{model_type}/model performance/{dtype}/features_{dtype}_NORMX.csv')\n",
    "\n",
    "fig, axes = plt.subplots(1, 3, figsize=(15, 5))\n",
    "\n",
    "# Plot 1\n",
    "axes[0].plot(shap_df_full['rs'].astype(str), shap_df_full['mm_r2'], linestyle='-', marker='.', color='orange', linewidth=1)\n",
    "axes[0].plot(shap_df_full['rs'].astype(str), shap_df_full['mixed_set_r2'], linestyle='-', marker='.', color='yellow', linewidth=1)\n",
    "axes[0].plot(shap_df_full['rs'].astype(str), shap_df_full['model_r2'], linestyle='-', marker='.', color='blue', linewidth=1)\n",
    "axes[0].set_title('Full Network')\n",
    "\n",
    "# Plot 2\n",
    "axes[1].plot(shap_df_drugs['rs'].astype(str), shap_df_drugs['mm_r2'], linestyle='-', marker='.', color='orange', linewidth=1)\n",
    "axes[1].plot(shap_df_drugs['rs'].astype(str), shap_df_drugs['mixed_set_r2'], linestyle='-', marker='.', color='yellow', linewidth=1)\n",
    "axes[1].plot(shap_df_drugs['rs'].astype(str), shap_df_drugs['model_r2'], linestyle='-', marker='.', color='blue', linewidth=1)\n",
    "axes[1].set_title('Drugs Filtered')\n",
    "\n",
    "# Plot 3\n",
    "axes[2].plot(shap_df_features['rs'].astype(str), shap_df_features['mm_r2'], linestyle='-', marker='.', color='orange', linewidth=1)\n",
    "axes[2].plot(shap_df_features['rs'].astype(str), shap_df_features['mixed_set_r2'], linestyle='-', marker='.', color='yellow', linewidth=1)\n",
    "axes[2].plot(shap_df_features['rs'].astype(str), shap_df_features['model_r2'], linestyle='-', marker='.', color='blue', linewidth=1)\n",
    "axes[2].set_title('Features Filtered')\n",
    "\n",
    "axes[0].set_ylim(0.5, 0.85)\n",
    "axes[1].set_ylim(0.5, 0.85)\n",
    "axes[2].set_ylim(0.5, 0.85)\n",
    "\n",
    "\n",
    "# Adjust spacing between subplots\n",
    "plt.tight_layout()\n",
    "\n",
    "# Display the plots\n",
    "plt.show()"
   ]
  },
  {
   "cell_type": "code",
   "execution_count": null,
   "id": "71f82ede-c216-429a-a589-2b4a97017dfe",
   "metadata": {},
   "outputs": [],
   "source": [
    "dtype='full_network'\n",
    "model_type = 'xgb'"
   ]
  },
  {
   "cell_type": "code",
   "execution_count": null,
   "id": "2a910bc1-35fe-4ad3-8798-fc67a87ecc3f",
   "metadata": {},
   "outputs": [],
   "source": [
    "shap_df_full = pd.read_csv(f'Targets/{model_type}/model performance/{dtype}/drugs_features_{dtype}_NORMX.csv')\n",
    "shap_df_drugs = pd.read_csv(f'Targets/{model_type}/model performance/{dtype}/drugs_{dtype}_NORMX.csv')\n",
    "shap_df_features = pd.read_csv(f'Targets/{model_type}/model performance/{dtype}/features_{dtype}_NORMX.csv')\n",
    "\n",
    "fig, axes = plt.subplots(1, 3, figsize=(15, 5))\n",
    "\n",
    "# Plot 1\n",
    "axes[0].plot(shap_df_full['rs'].astype(str), shap_df_full['mm_r2'], linestyle='-', marker='.', color='orange', linewidth=1)\n",
    "axes[0].plot(shap_df_full['rs'].astype(str), shap_df_full['mixed_set_r2'], linestyle='-', marker='.', color='yellow', linewidth=1)\n",
    "axes[0].plot(shap_df_full['rs'].astype(str), shap_df_full['model_r2'], linestyle='-', marker='.', color='blue', linewidth=1)\n",
    "axes[0].set_title('Full Network')\n",
    "\n",
    "# Plot 2\n",
    "axes[1].plot(shap_df_drugs['rs'].astype(str), shap_df_drugs['mm_r2'], linestyle='-', marker='.', color='orange', linewidth=1)\n",
    "axes[1].plot(shap_df_drugs['rs'].astype(str), shap_df_drugs['mixed_set_r2'], linestyle='-', marker='.', color='yellow', linewidth=1)\n",
    "axes[1].plot(shap_df_drugs['rs'].astype(str), shap_df_drugs['model_r2'], linestyle='-', marker='.', color='blue', linewidth=1)\n",
    "axes[1].set_title('Drugs Filtered')\n",
    "\n",
    "# Plot 3\n",
    "axes[2].plot(shap_df_features['rs'].astype(str), shap_df_features['mm_r2'], linestyle='-', marker='.', color='orange', linewidth=1)\n",
    "axes[2].plot(shap_df_features['rs'].astype(str), shap_df_features['mixed_set_r2'], linestyle='-', marker='.', color='yellow', linewidth=1)\n",
    "axes[2].plot(shap_df_features['rs'].astype(str), shap_df_features['model_r2'], linestyle='-', marker='.', color='blue', linewidth=1)\n",
    "axes[2].set_title('Features Filtered')\n",
    "\n",
    "axes[0].set_ylim(0.5, 0.85)\n",
    "axes[1].set_ylim(0.5, 0.85)\n",
    "axes[2].set_ylim(0.5, 0.85)\n",
    "\n",
    "\n",
    "# Adjust spacing between subplots\n",
    "plt.tight_layout()\n",
    "\n",
    "# Display the plots\n",
    "plt.show()"
   ]
  },
  {
   "cell_type": "code",
   "execution_count": null,
   "id": "e44599dd-94b5-4084-826d-b23469704164",
   "metadata": {},
   "outputs": [],
   "source": [
    "dtype='phospho'\n",
    "model_type = 'rfr'"
   ]
  },
  {
   "cell_type": "code",
   "execution_count": null,
   "id": "58c8d2b6-b7f5-4383-97da-42f32c7b9112",
   "metadata": {},
   "outputs": [],
   "source": [
    "shap_df_full = pd.read_csv(f'Targets/{model_type}/model performance/{dtype}/drugs_features_{dtype}_NORMX.csv')\n",
    "shap_df_drugs = pd.read_csv(f'Targets/{model_type}/model performance/{dtype}/drugs_{dtype}_NORMX.csv')\n",
    "shap_df_features = pd.read_csv(f'Targets/{model_type}/model performance/{dtype}/features_{dtype}_NORMX.csv')\n",
    "\n",
    "fig, axes = plt.subplots(1, 1, figsize=(5, 5))\n",
    "\n",
    "# Plot 1\n",
    "axes.plot(shap_df_full['rs'].astype(str), shap_df_full['mm_r2'], linestyle='-', marker='.', color='orange', linewidth=1)\n",
    "axes.plot(shap_df_full['rs'].astype(str), shap_df_full['mixed_set_r2'], linestyle='-', marker='.', color='yellow', linewidth=1)\n",
    "axes.plot(shap_df_full['rs'].astype(str), shap_df_full['model_r2'], linestyle='-', marker='.', color='blue', linewidth=1)\n",
    "axes.set_title('drugs/features', style='italic')\n",
    "axes.set_ylabel('r-squared')\n",
    "\n",
    "\n",
    "# Plot 2\n",
    "#axes[1].plot(shap_df_drugs['rs'].astype(str), shap_df_drugs['mm_r2'], linestyle='-', marker='.', color='orange', linewidth=1)\n",
    "#axes[1].plot(shap_df_drugs['rs'].astype(str), shap_df_drugs['mixed_set_r2'], linestyle='-', marker='.', color='yellow', linewidth=1)\n",
    "#axes[1].plot(shap_df_drugs['rs'].astype(str), shap_df_drugs['model_r2'], linestyle='-', marker='.', color='blue', linewidth=1)\n",
    "#axes[1].set_title('Drugs Filtered')\n",
    "\n",
    "# Plot 3\n",
    "#axes[2].plot(shap_df_features['rs'].astype(str), shap_df_features['mm_r2'], linestyle='-', marker='.', color='orange', linewidth=1)\n",
    "#axes[2].plot(shap_df_features['rs'].astype(str), shap_df_features['mixed_set_r2'], linestyle='-', marker='.', color='yellow', linewidth=1)\n",
    "#axes[2].plot(shap_df_features['rs'].astype(str), shap_df_features['model_r2'], linestyle='-', marker='.', color='blue', linewidth=1)\n",
    "#axes[2].set_title('Features Filtered')\n",
    "\n",
    "axes.set_ylim(0.45, 0.85)\n",
    "#axes[1].set_ylim(0.5, 0.85)\n",
    "#axes[2].set_ylim(0.5, 0.85)\n",
    "\n",
    "plt.savefig('plots/poor_result')\n",
    "\n",
    "# Adjust spacing between subplots\n",
    "plt.tight_layout()\n",
    "\n",
    "# Display the plots\n",
    "plt.show()"
   ]
  },
  {
   "cell_type": "code",
   "execution_count": null,
   "id": "e179e6d6-d252-446e-bb45-25efec0e6839",
   "metadata": {},
   "outputs": [],
   "source": [
    "dtype='proteomic'\n",
    "model_type = 'rfr'"
   ]
  },
  {
   "cell_type": "code",
   "execution_count": null,
   "id": "048afe28-ba22-4f9d-a35e-0ab7bb167d59",
   "metadata": {},
   "outputs": [],
   "source": [
    "shap_df_full = pd.read_csv(f'Targets/{model_type}/model performance/{dtype}/drugs_features_{dtype}.csv')\n",
    "shap_df_drugs = pd.read_csv(f'Targets/{model_type}/model performance/{dtype}/drugs_{dtype}.csv')\n",
    "shap_df_features = pd.read_csv(f'Targets/{model_type}/model performance/{dtype}/features_{dtype}.csv')\n",
    "\n",
    "fig, axes = plt.subplots(1, 3, figsize=(15, 5))\n",
    "\n",
    "# Plot 1\n",
    "axes[0].plot(shap_df_full['rs'].astype(str), shap_df_full['mm_r2'], linestyle='-', marker='.', color='orange', linewidth=1)\n",
    "axes[0].plot(shap_df_full['rs'].astype(str), shap_df_full['mixed_set_r2'], linestyle='-', marker='.', color='yellow', linewidth=1)\n",
    "axes[0].plot(shap_df_full['rs'].astype(str), shap_df_full['model_r2'], linestyle='-', marker='.', color='blue', linewidth=1)\n",
    "axes[0].set_title('Full Network')\n",
    "\n",
    "# Plot 2\n",
    "axes[1].plot(shap_df_drugs['rs'].astype(str), shap_df_drugs['mm_r2'], linestyle='-', marker='.', color='orange', linewidth=1)\n",
    "axes[1].plot(shap_df_drugs['rs'].astype(str), shap_df_drugs['mixed_set_r2'], linestyle='-', marker='.', color='yellow', linewidth=1)\n",
    "axes[1].plot(shap_df_drugs['rs'].astype(str), shap_df_drugs['model_r2'], linestyle='-', marker='.', color='blue', linewidth=1)\n",
    "axes[1].set_title('Drugs Filtered')\n",
    "\n",
    "# Plot 3\n",
    "axes[2].plot(shap_df_features['rs'].astype(str), shap_df_features['mm_r2'], linestyle='-', marker='.', color='orange', linewidth=1)\n",
    "axes[2].plot(shap_df_features['rs'].astype(str), shap_df_features['mixed_set_r2'], linestyle='-', marker='.', color='yellow', linewidth=1)\n",
    "axes[2].plot(shap_df_features['rs'].astype(str), shap_df_features['model_r2'], linestyle='-', marker='.', color='blue', linewidth=1)\n",
    "axes[2].set_title('Features Filtered')\n",
    "\n",
    "axes[0].set_ylim(0.5, 0.85)\n",
    "axes[1].set_ylim(0.5, 0.85)\n",
    "axes[2].set_ylim(0.5, 0.85)\n",
    "\n",
    "\n",
    "# Adjust spacing between subplots\n",
    "plt.tight_layout()\n",
    "\n",
    "# Display the plots\n",
    "plt.show()"
   ]
  },
  {
   "cell_type": "code",
   "execution_count": null,
   "id": "0ed31567-363c-42eb-9ed4-9b3884ee25c2",
   "metadata": {},
   "outputs": [],
   "source": [
    "dtype='full_network'\n",
    "model_type = 'rfr'"
   ]
  },
  {
   "cell_type": "code",
   "execution_count": null,
   "id": "2a19407d-f1a9-47b9-9f41-d041d11c9fd8",
   "metadata": {},
   "outputs": [],
   "source": [
    "shap_df_full = pd.read_csv(f'Targets/{model_type}/model performance/{dtype}/drugs_features_{dtype}_NORMX.csv')\n",
    "shap_df_drugs = pd.read_csv(f'Targets/{model_type}/model performance/{dtype}/drugs_{dtype}_NORMX.csv')\n",
    "shap_df_features = pd.read_csv(f'Targets/{model_type}/model performance/{dtype}/features_{dtype}_NORMX.csv')\n",
    "\n",
    "fig, axes = plt.subplots(1, 3, figsize=(15, 5))\n",
    "\n",
    "# Plot 1\n",
    "axes[0].plot(shap_df_full['rs'].astype(str), shap_df_full['mm_r2'], linestyle='-', marker='.', color='orange', linewidth=1)\n",
    "axes[0].plot(shap_df_full['rs'].astype(str), shap_df_full['mixed_set_r2'], linestyle='-', marker='.', color='yellow', linewidth=1)\n",
    "axes[0].plot(shap_df_full['rs'].astype(str), shap_df_full['model_r2'], linestyle='-', marker='.', color='blue', linewidth=1)\n",
    "axes[0].set_title('Full Network')\n",
    "\n",
    "# Plot 2\n",
    "axes[1].plot(shap_df_drugs['rs'].astype(str), shap_df_drugs['mm_r2'], linestyle='-', marker='.', color='orange', linewidth=1)\n",
    "axes[1].plot(shap_df_drugs['rs'].astype(str), shap_df_drugs['mixed_set_r2'], linestyle='-', marker='.', color='yellow', linewidth=1)\n",
    "axes[1].plot(shap_df_drugs['rs'].astype(str), shap_df_drugs['model_r2'], linestyle='-', marker='.', color='blue', linewidth=1)\n",
    "axes[1].set_title('Drugs Filtered')\n",
    "\n",
    "# Plot 3\n",
    "axes[2].plot(shap_df_features['rs'].astype(str), shap_df_features['mm_r2'], linestyle='-', marker='.', color='orange', linewidth=1)\n",
    "axes[2].plot(shap_df_features['rs'].astype(str), shap_df_features['mixed_set_r2'], linestyle='-', marker='.', color='yellow', linewidth=1)\n",
    "axes[2].plot(shap_df_features['rs'].astype(str), shap_df_features['model_r2'], linestyle='-', marker='.', color='blue', linewidth=1)\n",
    "axes[2].set_title('Features Filtered')\n",
    "\n",
    "axes[0].set_ylim(0.5, 0.85)\n",
    "axes[1].set_ylim(0.5, 0.85)\n",
    "axes[2].set_ylim(0.5, 0.85)\n",
    "\n",
    "\n",
    "# Adjust spacing between subplots\n",
    "plt.tight_layout()\n",
    "\n",
    "# Display the plots\n",
    "plt.show()"
   ]
  },
  {
   "cell_type": "code",
   "execution_count": null,
   "id": "49027a90-a9fc-4c74-9ea5-51a2ea8929af",
   "metadata": {},
   "outputs": [],
   "source": [
    "dtype='phospho'\n",
    "model_type = 'Deep_NN'"
   ]
  },
  {
   "cell_type": "code",
   "execution_count": null,
   "id": "8868eae9-87d7-47ab-98bf-59d962dfc974",
   "metadata": {},
   "outputs": [],
   "source": [
    "shap_df_full = pd.read_csv(f'Targets/{model_type}/model performance/{dtype}/drugs_features_{dtype}.csv')\n",
    "shap_df_drugs = pd.read_csv(f'Targets/{model_type}/model performance/{dtype}/drugs_{dtype}.csv')\n",
    "shap_df_features = pd.read_csv(f'Targets/{model_type}/model performance/{dtype}/features_{dtype}.csv')\n",
    "\n",
    "fig, axes = plt.subplots(1, 3, figsize=(15, 5))\n",
    "\n",
    "# Plot 1\n",
    "axes[0].plot(shap_df_full['rs'].astype(str), shap_df_full['mm_r2'], linestyle='-', marker='.', color='orange', linewidth=1)\n",
    "axes[0].plot(shap_df_full['rs'].astype(str), shap_df_full['mixed_set_r2'], linestyle='-', marker='.', color='yellow', linewidth=1)\n",
    "axes[0].plot(shap_df_full['rs'].astype(str), shap_df_full['model_r2'], linestyle='-', marker='.', color='blue', linewidth=1)\n",
    "axes[0].set_title('Full Network')\n",
    "\n",
    "# Plot 2\n",
    "axes[1].plot(shap_df_drugs['rs'].astype(str), shap_df_drugs['mm_r2'], linestyle='-', marker='.', color='orange', linewidth=1)\n",
    "axes[1].plot(shap_df_drugs['rs'].astype(str), shap_df_drugs['mixed_set_r2'], linestyle='-', marker='.', color='yellow', linewidth=1)\n",
    "axes[1].plot(shap_df_drugs['rs'].astype(str), shap_df_drugs['model_r2'], linestyle='-', marker='.', color='blue', linewidth=1)\n",
    "axes[1].set_title('Drugs Filtered')\n",
    "\n",
    "# Plot 3\n",
    "axes[2].plot(shap_df_features['rs'].astype(str), shap_df_features['mm_r2'], linestyle='-', marker='.', color='orange', linewidth=1)\n",
    "axes[2].plot(shap_df_features['rs'].astype(str), shap_df_features['mixed_set_r2'], linestyle='-', marker='.', color='yellow', linewidth=1)\n",
    "axes[2].plot(shap_df_features['rs'].astype(str), shap_df_features['model_r2'], linestyle='-', marker='.', color='blue', linewidth=1)\n",
    "axes[2].set_title('Features Filtered')\n",
    "\n",
    "axes[0].set_ylim(0.5, 0.85)\n",
    "axes[1].set_ylim(0.5, 0.85)\n",
    "axes[2].set_ylim(0.5, 0.85)\n",
    "\n",
    "\n",
    "# Adjust spacing between subplots\n",
    "plt.tight_layout()\n",
    "\n",
    "# Display the plots\n",
    "plt.show()"
   ]
  },
  {
   "cell_type": "code",
   "execution_count": null,
   "id": "f290d408-2495-45e1-8d94-d7780325cd21",
   "metadata": {},
   "outputs": [],
   "source": [
    "dtype='proteomic'\n",
    "model_type = 'Deep_NN'"
   ]
  },
  {
   "cell_type": "code",
   "execution_count": null,
   "id": "02075c5a-0ec4-47ed-a56a-181d4b81791f",
   "metadata": {},
   "outputs": [],
   "source": [
    "shap_df_full = pd.read_csv(f'Targets/{model_type}/model performance/{dtype}/drugs_features_{dtype}.csv')\n",
    "shap_df_drugs = pd.read_csv(f'Targets/{model_type}/model performance/{dtype}/drugs_{dtype}.csv')\n",
    "shap_df_features = pd.read_csv(f'Targets/{model_type}/model performance/{dtype}/features_{dtype}.csv')\n",
    "\n",
    "fig, axes = plt.subplots(1, 3, figsize=(15, 5))\n",
    "\n",
    "# Plot 1\n",
    "axes[0].plot(shap_df_full['rs'].astype(str), shap_df_full['mm_r2'], linestyle='-', marker='.', color='orange', linewidth=1)\n",
    "axes[0].plot(shap_df_full['rs'].astype(str), shap_df_full['mixed_set_r2'], linestyle='-', marker='.', color='yellow', linewidth=1)\n",
    "axes[0].plot(shap_df_full['rs'].astype(str), shap_df_full['model_r2'], linestyle='-', marker='.', color='blue', linewidth=1)\n",
    "axes[0].set_title('Full Network')\n",
    "\n",
    "# Plot 2\n",
    "axes[1].plot(shap_df_drugs['rs'].astype(str), shap_df_drugs['mm_r2'], linestyle='-', marker='.', color='orange', linewidth=1)\n",
    "axes[1].plot(shap_df_drugs['rs'].astype(str), shap_df_drugs['mixed_set_r2'], linestyle='-', marker='.', color='yellow', linewidth=1)\n",
    "axes[1].plot(shap_df_drugs['rs'].astype(str), shap_df_drugs['model_r2'], linestyle='-', marker='.', color='blue', linewidth=1)\n",
    "axes[1].set_title('Drugs Filtered')\n",
    "\n",
    "# Plot 3\n",
    "axes[2].plot(shap_df_features['rs'].astype(str), shap_df_features['mm_r2'], linestyle='-', marker='.', color='orange', linewidth=1)\n",
    "axes[2].plot(shap_df_features['rs'].astype(str), shap_df_features['mixed_set_r2'], linestyle='-', marker='.', color='yellow', linewidth=1)\n",
    "axes[2].plot(shap_df_features['rs'].astype(str), shap_df_features['model_r2'], linestyle='-', marker='.', color='blue', linewidth=1)\n",
    "axes[2].set_title('Features Filtered')\n",
    "\n",
    "axes[0].set_ylim(0.5, 0.85)\n",
    "axes[1].set_ylim(0.5, 0.85)\n",
    "axes[2].set_ylim(0.5, 0.85)\n",
    "\n",
    "\n",
    "# Adjust spacing between subplots\n",
    "plt.tight_layout()\n",
    "\n",
    "# Display the plots\n",
    "plt.show()"
   ]
  },
  {
   "cell_type": "code",
   "execution_count": null,
   "id": "434b5a5c-ddfd-47a8-873f-c1bcd861db1a",
   "metadata": {},
   "outputs": [],
   "source": [
    "dtype='full_network'\n",
    "model_type = 'Deep_NN'"
   ]
  },
  {
   "cell_type": "code",
   "execution_count": null,
   "id": "8de8ac23-746f-4a33-bb98-4a93d2effcac",
   "metadata": {},
   "outputs": [],
   "source": [
    "shap_df_full = pd.read_csv(f'Targets/{model_type}/model performance/{dtype}/drugs_features_{dtype}.csv')\n",
    "shap_df_drugs = pd.read_csv(f'Targets/{model_type}/model performance/{dtype}/drugs_{dtype}.csv')\n",
    "shap_df_features = pd.read_csv(f'Targets/{model_type}/model performance/{dtype}/features_{dtype}.csv')\n",
    "\n",
    "fig, axes = plt.subplots(1, 3, figsize=(15, 5))\n",
    "\n",
    "# Plot 1\n",
    "axes[0].plot(shap_df_full['rs'].astype(str), shap_df_full['mm_r2'], linestyle='-', marker='.', color='orange', linewidth=1)\n",
    "axes[0].plot(shap_df_full['rs'].astype(str), shap_df_full['mixed_set_r2'], linestyle='-', marker='.', color='yellow', linewidth=1)\n",
    "axes[0].plot(shap_df_full['rs'].astype(str), shap_df_full['model_r2'], linestyle='-', marker='.', color='blue', linewidth=1)\n",
    "axes[0].set_title('Full Network')\n",
    "\n",
    "# Plot 2\n",
    "axes[1].plot(shap_df_drugs['rs'].astype(str), shap_df_drugs['mm_r2'], linestyle='-', marker='.', color='orange', linewidth=1)\n",
    "axes[1].plot(shap_df_drugs['rs'].astype(str), shap_df_drugs['mixed_set_r2'], linestyle='-', marker='.', color='yellow', linewidth=1)\n",
    "axes[1].plot(shap_df_drugs['rs'].astype(str), shap_df_drugs['model_r2'], linestyle='-', marker='.', color='blue', linewidth=1)\n",
    "axes[1].set_title('Drugs Filtered')\n",
    "\n",
    "# Plot 3\n",
    "axes[2].plot(shap_df_features['rs'].astype(str), shap_df_features['mm_r2'], linestyle='-', marker='.', color='orange', linewidth=1)\n",
    "axes[2].plot(shap_df_features['rs'].astype(str), shap_df_features['mixed_set_r2'], linestyle='-', marker='.', color='yellow', linewidth=1)\n",
    "axes[2].plot(shap_df_features['rs'].astype(str), shap_df_features['model_r2'], linestyle='-', marker='.', color='blue', linewidth=1)\n",
    "axes[2].set_title('Features Filtered')\n",
    "\n",
    "axes[0].set_ylim(0.5, 0.85)\n",
    "axes[1].set_ylim(0.5, 0.85)\n",
    "axes[2].set_ylim(0.5, 0.85)\n",
    "\n",
    "\n",
    "# Adjust spacing between subplots\n",
    "plt.tight_layout()\n",
    "\n",
    "# Display the plots\n",
    "plt.show()"
   ]
  },
  {
   "cell_type": "code",
   "execution_count": null,
   "id": "27446bf2-0c1e-42b8-8d03-506a15b64c89",
   "metadata": {},
   "outputs": [],
   "source": [
    "dtype='phospho'\n",
    "model_type = 'CNN'"
   ]
  },
  {
   "cell_type": "code",
   "execution_count": null,
   "id": "270f574a-4e58-485b-a47c-3119e6373405",
   "metadata": {},
   "outputs": [],
   "source": [
    "shap_df_full = pd.read_csv(f'Targets/{model_type}/model performance/{dtype}/drugs_features_{dtype}.csv')\n",
    "shap_df_drugs = pd.read_csv(f'Targets/{model_type}/model performance/{dtype}/drugs_{dtype}.csv')\n",
    "shap_df_features = pd.read_csv(f'Targets/{model_type}/model performance/{dtype}/features_{dtype}.csv')\n",
    "\n",
    "fig, axes = plt.subplots(1, 3, figsize=(15, 5))\n",
    "\n",
    "# Plot 1\n",
    "axes[0].plot(shap_df_full['rs'].astype(str), shap_df_full['mm_r2'], linestyle='-', marker='.', color='orange', linewidth=1)\n",
    "axes[0].plot(shap_df_full['rs'].astype(str), shap_df_full['mixed_set_r2'], linestyle='-', marker='.', color='yellow', linewidth=1)\n",
    "axes[0].plot(shap_df_full['rs'].astype(str), shap_df_full['model_r2'], linestyle='-', marker='.', color='blue', linewidth=1)\n",
    "axes[0].set_title('Full Network')\n",
    "\n",
    "# Plot 2\n",
    "axes[1].plot(shap_df_drugs['rs'].astype(str), shap_df_drugs['mm_r2'], linestyle='-', marker='.', color='orange', linewidth=1)\n",
    "axes[1].plot(shap_df_drugs['rs'].astype(str), shap_df_drugs['mixed_set_r2'], linestyle='-', marker='.', color='yellow', linewidth=1)\n",
    "axes[1].plot(shap_df_drugs['rs'].astype(str), shap_df_drugs['model_r2'], linestyle='-', marker='.', color='blue', linewidth=1)\n",
    "axes[1].set_title('Drugs Filtered')\n",
    "\n",
    "# Plot 3\n",
    "axes[2].plot(shap_df_features['rs'].astype(str), shap_df_features['mm_r2'], linestyle='-', marker='.', color='orange', linewidth=1)\n",
    "axes[2].plot(shap_df_features['rs'].astype(str), shap_df_features['mixed_set_r2'], linestyle='-', marker='.', color='yellow', linewidth=1)\n",
    "axes[2].plot(shap_df_features['rs'].astype(str), shap_df_features['model_r2'], linestyle='-', marker='.', color='blue', linewidth=1)\n",
    "axes[2].set_title('Features Filtered')\n",
    "\n",
    "axes[0].set_ylim(0.5, 0.85)\n",
    "axes[1].set_ylim(0.5, 0.85)\n",
    "axes[2].set_ylim(0.5, 0.85)\n",
    "\n",
    "\n",
    "# Adjust spacing between subplots\n",
    "plt.tight_layout()\n",
    "\n",
    "# Display the plots\n",
    "plt.show()"
   ]
  },
  {
   "cell_type": "code",
   "execution_count": null,
   "id": "fdcbd357-1a8b-416c-b3ea-154ea57c1159",
   "metadata": {},
   "outputs": [],
   "source": [
    "dtype='proteomic'\n",
    "model_type = 'CNN'"
   ]
  },
  {
   "cell_type": "code",
   "execution_count": null,
   "id": "1a938621-3a0d-4fcb-b604-614325076183",
   "metadata": {},
   "outputs": [],
   "source": [
    "shap_df_full = pd.read_csv(f'Targets/{model_type}/model performance/{dtype}/drugs_features_{dtype}.csv')\n",
    "shap_df_drugs = pd.read_csv(f'Targets/{model_type}/model performance/{dtype}/drugs_{dtype}.csv')\n",
    "shap_df_features = pd.read_csv(f'Targets/{model_type}/model performance/{dtype}/features_{dtype}.csv')\n",
    "\n",
    "fig, axes = plt.subplots(1, 3, figsize=(15, 5))\n",
    "\n",
    "# Plot 1\n",
    "axes[0].plot(shap_df_full['rs'].astype(str), shap_df_full['mm_r2'], linestyle='-', marker='.', color='orange', linewidth=1)\n",
    "axes[0].plot(shap_df_full['rs'].astype(str), shap_df_full['mixed_set_r2'], linestyle='-', marker='.', color='yellow', linewidth=1)\n",
    "axes[0].plot(shap_df_full['rs'].astype(str), shap_df_full['model_r2'], linestyle='-', marker='.', color='blue', linewidth=1)\n",
    "axes[0].set_title('Full Network')\n",
    "\n",
    "# Plot 2\n",
    "axes[1].plot(shap_df_drugs['rs'].astype(str), shap_df_drugs['mm_r2'], linestyle='-', marker='.', color='orange', linewidth=1)\n",
    "axes[1].plot(shap_df_drugs['rs'].astype(str), shap_df_drugs['mixed_set_r2'], linestyle='-', marker='.', color='yellow', linewidth=1)\n",
    "axes[1].plot(shap_df_drugs['rs'].astype(str), shap_df_drugs['model_r2'], linestyle='-', marker='.', color='blue', linewidth=1)\n",
    "axes[1].set_title('Drugs Filtered')\n",
    "\n",
    "# Plot 3\n",
    "axes[2].plot(shap_df_features['rs'].astype(str), shap_df_features['mm_r2'], linestyle='-', marker='.', color='orange', linewidth=1)\n",
    "axes[2].plot(shap_df_features['rs'].astype(str), shap_df_features['mixed_set_r2'], linestyle='-', marker='.', color='yellow', linewidth=1)\n",
    "axes[2].plot(shap_df_features['rs'].astype(str), shap_df_features['model_r2'], linestyle='-', marker='.', color='blue', linewidth=1)\n",
    "axes[2].set_title('Features Filtered')\n",
    "\n",
    "axes[0].set_ylim(0.5, 0.85)\n",
    "axes[1].set_ylim(0.5, 0.85)\n",
    "axes[2].set_ylim(0.5, 0.85)\n",
    "\n",
    "\n",
    "# Adjust spacing between subplots\n",
    "plt.tight_layout()\n",
    "\n",
    "# Display the plots\n",
    "plt.show()"
   ]
  },
  {
   "cell_type": "code",
   "execution_count": null,
   "id": "e08f2cc8-eaba-48ce-948b-98ec3c8bf051",
   "metadata": {},
   "outputs": [],
   "source": [
    "dtype='full_network'\n",
    "model_type = 'CNN'"
   ]
  },
  {
   "cell_type": "code",
   "execution_count": null,
   "id": "8fc3b7f7-c0d3-413c-be0e-d7ba77303f67",
   "metadata": {},
   "outputs": [],
   "source": [
    "shap_df_full = pd.read_csv(f'Targets/{model_type}/model performance/{dtype}/drugs_features_{dtype}.csv')\n",
    "shap_df_drugs = pd.read_csv(f'Targets/{model_type}/model performance/{dtype}/drugs_{dtype}.csv')\n",
    "shap_df_features = pd.read_csv(f'Targets/{model_type}/model performance/{dtype}/features_{dtype}.csv')\n",
    "\n",
    "fig, axes = plt.subplots(1, 3, figsize=(15, 5))\n",
    "\n",
    "# Plot 1\n",
    "axes[0].plot(shap_df_full['rs'].astype(str), shap_df_full['mm_r2'], linestyle='-', marker='.', color='orange', linewidth=1)\n",
    "axes[0].plot(shap_df_full['rs'].astype(str), shap_df_full['mixed_set_r2'], linestyle='-', marker='.', color='yellow', linewidth=1)\n",
    "axes[0].plot(shap_df_full['rs'].astype(str), shap_df_full['model_r2'], linestyle='-', marker='.', color='blue', linewidth=1)\n",
    "axes[0].set_title('Full Network')\n",
    "\n",
    "# Plot 2\n",
    "axes[1].plot(shap_df_drugs['rs'].astype(str), shap_df_drugs['mm_r2'], linestyle='-', marker='.', color='orange', linewidth=1)\n",
    "axes[1].plot(shap_df_drugs['rs'].astype(str), shap_df_drugs['mixed_set_r2'], linestyle='-', marker='.', color='yellow', linewidth=1)\n",
    "axes[1].plot(shap_df_drugs['rs'].astype(str), shap_df_drugs['model_r2'], linestyle='-', marker='.', color='blue', linewidth=1)\n",
    "axes[1].set_title('Drugs Filtered')\n",
    "\n",
    "# Plot 3\n",
    "axes[2].plot(shap_df_features['rs'].astype(str), shap_df_features['mm_r2'], linestyle='-', marker='.', color='orange', linewidth=1)\n",
    "axes[2].plot(shap_df_features['rs'].astype(str), shap_df_features['mixed_set_r2'], linestyle='-', marker='.', color='yellow', linewidth=1)\n",
    "axes[2].plot(shap_df_features['rs'].astype(str), shap_df_features['model_r2'], linestyle='-', marker='.', color='blue', linewidth=1)\n",
    "axes[2].set_title('Features Filtered')\n",
    "\n",
    "axes[0].set_ylim(0.5, 0.85)\n",
    "axes[1].set_ylim(0.5, 0.85)\n",
    "axes[2].set_ylim(0.5, 0.85)\n",
    "\n",
    "\n",
    "# Adjust spacing between subplots\n",
    "plt.tight_layout()\n",
    "\n",
    "# Display the plots\n",
    "plt.show()"
   ]
  },
  {
   "cell_type": "markdown",
   "id": "e6174045-a111-4a6c-83ce-e7148dbaf6d2",
   "metadata": {
    "jp-MarkdownHeadingCollapsed": true,
    "tags": []
   },
   "source": [
    "## features filtered NN"
   ]
  },
  {
   "cell_type": "code",
   "execution_count": null,
   "id": "f43773e4-8fc7-4191-b4a4-18db2f48e5ce",
   "metadata": {},
   "outputs": [],
   "source": [
    "# extract pearson info from df\n",
    "shap_df_features1[\"model_pearson\"] = [float(f'{x[8]}{x[9]}{x[10]}{x[11]}{x[12]}') for x in shap_df_features1[\"model_pearson\"]]"
   ]
  },
  {
   "cell_type": "code",
   "execution_count": null,
   "id": "d4ad553f-b72d-4bf9-ae09-bd7cb8cfd465",
   "metadata": {},
   "outputs": [],
   "source": [
    "print(f'r2: {mean(shap_df_features1[\"model_r2\"])}\\n MSE: {mean(shap_df_features1[\"model_MSE\"])}\\n pearson: {mean(shap_df_features1[\"model_pearson\"])}')"
   ]
  },
  {
   "cell_type": "code",
   "execution_count": 128,
   "id": "d0b0bece-5da4-4eed-a965-6ce458d13df9",
   "metadata": {},
   "outputs": [
    {
     "data": {
      "image/png": "[encoded data removed]",
      "text/plain": [
       "<Figure size 1080x360 with 3 Axes>"
      ]
     },
     "metadata": {
      "needs_background": "light"
     },
     "output_type": "display_data"
    }
   ],
   "source": [
    "model_type = 'Deep_NN'\n",
    "\n",
    "shap_df_full1 = pd.read_csv(f'Targets/{model_type}/model performance/phospho/features_phospho.csv')\n",
    "shap_df_drugs1 = pd.read_csv(f'Targets/{model_type}/model performance/proteomic/features_proteomic.csv')\n",
    "shap_df_features1 = pd.read_csv(f'Targets/{model_type}/model performance/full_network/features_full_network.csv')\n",
    "\n",
    "fig, axes = plt.subplots(1, 3, figsize=(15, 5))\n",
    "\n",
    "# Plot 1\n",
    "axes[0].plot(shap_df_full1['rs'].astype(str), shap_df_full1['mm_r2'], linestyle='-', marker='.', color='orange', linewidth=1)\n",
    "axes[0].plot(shap_df_full1['rs'].astype(str), shap_df_full1['mixed_set_r2'], linestyle='-', marker='.', color='yellow', linewidth=1)\n",
    "axes[0].plot(shap_df_full1['rs'].astype(str), shap_df_full1['model_r2'], linestyle='-', marker='.', color='blue', linewidth=1)\n",
    "axes[0].set_title('Phosphoproteomic')\n",
    "\n",
    "# Plot 2\n",
    "axes[1].plot(shap_df_drugs1['rs'].astype(str), shap_df_drugs1['mm_r2'], linestyle='-', marker='.', color='orange', linewidth=1)\n",
    "axes[1].plot(shap_df_drugs1['rs'].astype(str), shap_df_drugs1['mixed_set_r2'], linestyle='-', marker='.', color='yellow', linewidth=1)\n",
    "axes[1].plot(shap_df_drugs1['rs'].astype(str), shap_df_drugs1['model_r2'], linestyle='-', marker='.', color='blue', linewidth=1)\n",
    "axes[1].set_title('Proteomic')\n",
    "\n",
    "# Plot 3\n",
    "axes[2].plot(shap_df_features1['rs'].astype(str), shap_df_features1['mm_r2'], linestyle='-', marker='.', color='orange', linewidth=1)\n",
    "axes[2].plot(shap_df_features1['rs'].astype(str), shap_df_features1['mixed_set_r2'], linestyle='-', marker='.', color='yellow', linewidth=1)\n",
    "axes[2].plot(shap_df_features1['rs'].astype(str), shap_df_features1['model_r2'], linestyle='-', marker='.', color='blue', linewidth=1)\n",
    "axes[2].set_title('Combined dataset')\n",
    "\n",
    "axes[2].legend([\"mean model\", \"mixed-set model\", \"model\"], loc=0)\n",
    "\n",
    "axes[0].set_ylabel('r-squared')\n",
    "\n",
    "axes[0].set_ylim(0.5, 0.85)\n",
    "axes[1].set_ylim(0.5, 0.85)\n",
    "axes[2].set_ylim(0.5, 0.85)\n",
    "\n",
    "axes[1].yaxis.set_ticks([])\n",
    "axes[2].yaxis.set_ticks([])\n",
    "\n",
    "# Adjust spacing between subplots\n",
    "plt.tight_layout()\n",
    "\n",
    "plt.savefig('Targets/DNN_features_lines')\n",
    "\n",
    "# Display the plots\n",
    "plt.show()"
   ]
  },
  {
   "cell_type": "code",
   "execution_count": 127,
   "id": "82d533ce-bff4-413f-a4a8-b4e75712d3ae",
   "metadata": {},
   "outputs": [
    {
     "data": {
      "image/png": "[encoded data removed]",
      "text/plain": [
       "<Figure size 360x360 with 1 Axes>"
      ]
     },
     "metadata": {
      "needs_background": "light"
     },
     "output_type": "display_data"
    }
   ],
   "source": [
    "shap_df_features = pd.read_csv(f'Targets/CNN/model performance/full_network/features_full_network.csv')\n",
    "\n",
    "fig, axes = plt.subplots(1, 1, figsize=(5, 5))\n",
    "\n",
    "# Plot 1\n",
    "axes.plot(shap_df_features['rs'].astype(str), shap_df_features['mm_r2'], linestyle='-', marker='.', color='orange', linewidth=1)\n",
    "axes.plot(shap_df_features['rs'].astype(str), shap_df_features['mixed_set_r2'], linestyle='-', marker='.', color='yellow', linewidth=1)\n",
    "axes.plot(shap_df_features['rs'].astype(str), shap_df_features['model_r2'], linestyle='-', marker='.', color='blue', linewidth=1)\n",
    "axes.set_title('Combined dataset')\n",
    "axes.set_ylim(0.5, 0.85)\n",
    "\n",
    "axes.set_ylabel('r-squared')\n",
    "\n",
    "\n",
    "# Adjust spacing between subplots\n",
    "plt.tight_layout()\n",
    "\n",
    "plt.savefig('Targets/CNN_features_combined dataset')\n",
    "\n",
    "# Display the plots\n",
    "plt.show()"
   ]
  },
  {
   "cell_type": "code",
   "execution_count": null,
   "id": "162a64b8-a4a1-4f69-b689-4682ff418ac6",
   "metadata": {},
   "outputs": [],
   "source": [
    "# extract pearson info from df\n",
    "shap_df_features[\"model_pearson\"] = [float(f'{x[8]}{x[9]}{x[10]}{x[11]}{x[12]}') for x in shap_df_features[\"model_pearson\"]]"
   ]
  },
  {
   "cell_type": "code",
   "execution_count": null,
   "id": "aa10df4f-9e91-4284-8558-69f2b6928be4",
   "metadata": {},
   "outputs": [],
   "source": [
    "print(f'r2: {mean(shap_df_features[\"model_r2\"])}\\n MSE: {mean(shap_df_features[\"model_MSE\"])}\\n sd: {mean(shap_df_features[\"model_pearson\"])}')"
   ]
  },
  {
   "cell_type": "code",
   "execution_count": null,
   "id": "ade3fcfb-fbd7-40c4-8b31-719f1f5a140d",
   "metadata": {},
   "outputs": [],
   "source": [
    "np.std(shap_df_features[\"model_r2\"])"
   ]
  },
  {
   "cell_type": "markdown",
   "id": "616a99b0-f809-43a0-91cf-854481269660",
   "metadata": {
    "jp-MarkdownHeadingCollapsed": true,
    "tags": []
   },
   "source": [
    "## Proteomic and full_network for drugs/feats and drugs in Deep_NN"
   ]
  },
  {
   "cell_type": "code",
   "execution_count": null,
   "id": "4ab8e441-2bb1-4cc3-98b1-9a53ba69cb93",
   "metadata": {},
   "outputs": [],
   "source": [
    "print(f'r2: {mean(metrics40[\"model_r2\"])}\\n MSE: {mean(metrics40[\"model_MSE\"])}\\n sd: {np.std(metrics40[\"model_r2\"])}')"
   ]
  },
  {
   "cell_type": "code",
   "execution_count": 129,
   "id": "903ce479-3a24-4d4a-9c1b-1fed57d0d4b5",
   "metadata": {},
   "outputs": [],
   "source": [
    "metrics10 = pd.read_csv(f'Targets/Deep_NN/model performance/proteomic/drugs_features_proteomic.csv')\n",
    "metrics20 = pd.read_csv(f'Targets/Deep_NN/model performance/proteomic/drugs_proteomic.csv')\n",
    "metrics30 = pd.read_csv(f'Targets/Deep_NN/model performance/full_network/drugs_features_full_network.csv')\n",
    "metrics40 = pd.read_csv(f'Targets/Deep_NN/model performance/full_network/drugs_full_network.csv')"
   ]
  },
  {
   "cell_type": "code",
   "execution_count": 131,
   "id": "035add3c-abed-496e-bd6c-96c9ed4202d7",
   "metadata": {},
   "outputs": [
    {
     "data": {
      "image/png": "[encoded data removed]",
      "text/plain": [
       "<Figure size 1080x720 with 4 Axes>"
      ]
     },
     "metadata": {
      "needs_background": "light"
     },
     "output_type": "display_data"
    }
   ],
   "source": [
    "fig, axes = plt.subplots(2, 2, figsize=(15, 10))\n",
    "\n",
    "# Plot 1\n",
    "axes[0,0].plot(metrics10['rs'].astype(str), metrics10['mm_r2'], linestyle='-', marker='.', color='orange', linewidth=1)\n",
    "axes[0,0].plot(metrics10['rs'].astype(str), metrics10['mixed_set_r2'], linestyle='-', marker='.', color='yellow', linewidth=1)\n",
    "axes[0,0].plot(metrics10['rs'].astype(str), metrics10['model_r2'], linestyle='-', marker='.', color='blue', linewidth=1)\n",
    "axes[0,0].set_title('Proteomic')\n",
    "axes[0,0].set_ylabel('r-squared')\n",
    "\n",
    "# Plot 2\n",
    "axes[1,0].plot(metrics20['rs'].astype(str), metrics20['mm_r2'], linestyle='-', marker='.', color='orange', linewidth=1)\n",
    "axes[1,0].plot(metrics20['rs'].astype(str), metrics20['mixed_set_r2'], linestyle='-', marker='.', color='yellow', linewidth=1)\n",
    "axes[1,0].plot(metrics20['rs'].astype(str), metrics20['model_r2'], linestyle='-', marker='.', color='blue', linewidth=1)\n",
    "axes[1,0].set_title('Proteomic')\n",
    "axes[1,0].set_ylabel('r-squared')\n",
    "\n",
    "\n",
    "# Plot 3\n",
    "axes[0,1].plot(metrics30['rs'].astype(str), metrics30['mm_r2'], linestyle='-', marker='.', color='orange', linewidth=1)\n",
    "axes[0,1].plot(metrics30['rs'].astype(str), metrics30['mixed_set_r2'], linestyle='-', marker='.', color='yellow', linewidth=1)\n",
    "axes[0,1].plot(metrics30['rs'].astype(str), metrics30['model_r2'], linestyle='-', marker='.', color='blue', linewidth=1)\n",
    "axes[0,1].set_title('Combined dataset')\n",
    "\n",
    "# Plot 4\n",
    "axes[1,1].plot(metrics40['rs'].astype(str), metrics40['mm_r2'], linestyle='-', marker='.', color='orange', linewidth=1)\n",
    "axes[1,1].plot(metrics40['rs'].astype(str), metrics40['mixed_set_r2'], linestyle='-', marker='.', color='yellow', linewidth=1)\n",
    "axes[1,1].plot(metrics40['rs'].astype(str), metrics40['model_r2'], linestyle='-', marker='.', color='blue', linewidth=1)\n",
    "axes[1,1].set_title('Combined dataset')\n",
    "\n",
    "axes[0,0].set_ylim(0.5, 0.85)\n",
    "axes[0,1].set_ylim(0.5, 0.85)\n",
    "axes[1,0].set_ylim(0.5, 0.85)\n",
    "axes[1,1].set_ylim(0.5, 0.85)\n",
    "\n",
    "axes[0,1].yaxis.set_ticks([])\n",
    "axes[1,1].yaxis.set_ticks([])\n",
    "\n",
    "fig.savefig('Targets/DNN_supplementary.png')"
   ]
  },
  {
   "cell_type": "code",
   "execution_count": null,
   "id": "88a6e11c-e376-4192-90c1-cfb025c1f8ab",
   "metadata": {},
   "outputs": [],
   "source": [
    "metrics1 = pd.read_csv(f'Targets/rfr/model performance/proteomic/drugs_proteomic.csv')\n",
    "metrics2 = pd.read_csv(f'Targets/rfr/model performance/proteomic/features_proteomic.csv')\n",
    "metrics3 = pd.read_csv(f'Targets/rfr/model performance/full_network/drugs_full_network.csv')\n",
    "metrics4 = pd.read_csv(f'Targets/rfr/model performance/full_network/features_full_network.csv')"
   ]
  },
  {
   "cell_type": "code",
   "execution_count": null,
   "id": "e7319002-742e-4827-ba91-617a93495984",
   "metadata": {},
   "outputs": [],
   "source": [
    "fig, axes = plt.subplots(2, 2, figsize=(15, 10))\n",
    "\n",
    "\n",
    "\n",
    "# Plot 1\n",
    "axes[0,0].plot(metrics1['rs'].astype(str), metrics1['mm_r2'], linestyle='-', marker='.', color='orange', linewidth=1)\n",
    "axes[0,0].plot(metrics1['rs'].astype(str), metrics1['mixed_set_r2'], linestyle='-', marker='.', color='yellow', linewidth=1)\n",
    "axes[0,0].plot(metrics1['rs'].astype(str), metrics1['model_r2'], linestyle='-', marker='.', color='blue', linewidth=1)\n",
    "axes[0,0].set_title('Proteomic')\n",
    "axes[0,0].set_ylabel('r-squared')\n",
    "\n",
    "# Plot 2\n",
    "axes[1,0].plot(metrics2['rs'].astype(str), metrics2['mm_r2'], linestyle='-', marker='.', color='orange', linewidth=1)\n",
    "axes[1,0].plot(metrics2['rs'].astype(str), metrics2['mixed_set_r2'], linestyle='-', marker='.', color='yellow', linewidth=1)\n",
    "axes[1,0].plot(metrics2['rs'].astype(str), metrics2['model_r2'], linestyle='-', marker='.', color='blue', linewidth=1)\n",
    "axes[1,0].set_title('Proteomic')\n",
    "axes[1,0].set_ylabel('r-squared')\n",
    "\n",
    "# Plot 3\n",
    "axes[0,1].plot(metrics3['rs'].astype(str), metrics3['mm_r2'], linestyle='-', marker='.', color='orange', linewidth=1)\n",
    "axes[0,1].plot(metrics3['rs'].astype(str), metrics3['mixed_set_r2'], linestyle='-', marker='.', color='yellow', linewidth=1)\n",
    "axes[0,1].plot(metrics3['rs'].astype(str), metrics3['model_r2'], linestyle='-', marker='.', color='blue', linewidth=1)\n",
    "axes[0,1].set_title('Combined dataset')\n",
    "\n",
    "# Plot 4\n",
    "axes[1,1].plot(metrics4['rs'].astype(str), metrics4['mm_r2'], linestyle='-', marker='.', color='orange', linewidth=1)\n",
    "axes[1,1].plot(metrics4['rs'].astype(str), metrics4['mixed_set_r2'], linestyle='-', marker='.', color='yellow', linewidth=1)\n",
    "axes[1,1].plot(metrics4['rs'].astype(str), metrics4['model_r2'], linestyle='-', marker='.', color='blue', linewidth=1)\n",
    "axes[1,1].set_title('Combined dataset')\n",
    "\n",
    "axes[0,0].set_ylim(0.5, 0.85)\n",
    "axes[0,1].set_ylim(0.5, 0.85)\n",
    "axes[1,0].set_ylim(0.5, 0.85)\n",
    "axes[1,1].set_ylim(0.5, 0.85)\n",
    "\n",
    "fig.savefig('Targets/rfr_supplementary.png')"
   ]
  },
  {
   "cell_type": "markdown",
   "id": "aeccb3ef-2cf4-4665-99d4-8c745907058d",
   "metadata": {
    "jp-MarkdownHeadingCollapsed": true,
    "tags": []
   },
   "source": [
    "## overall model comparison across networks"
   ]
  },
  {
   "cell_type": "code",
   "execution_count": null,
   "id": "223c1bbd-89b7-41c6-b80a-c72d727f9e0b",
   "metadata": {},
   "outputs": [],
   "source": [
    "dtype='phospho'\n",
    "\n",
    "#CNN\n",
    "CNN_full = pd.read_csv(f'Targets/CNN/model performance/{dtype}/drugs_features_{dtype}.csv')\n",
    "CNN_phos = pd.read_csv(f'Targets/CNN/model performance/{dtype}/drugs_{dtype}.csv')\n",
    "CNN_prot = pd.read_csv(f'Targets/CNN/model performance/{dtype}/features_{dtype}.csv')\n",
    "CNN = [mean(CNN_full['model_r2']), mean(CNN_phos['model_r2']), mean(CNN_prot['model_r2'])]\n",
    "CNN_sd = [np.std(CNN_full['model_r2']), np.std(CNN_phos['model_r2']), np.std(CNN_prot['model_r2'])]\n",
    "\n",
    "#Deep_NN\n",
    "Deep_NN_full = pd.read_csv(f'Targets/Deep_NN/model performance/{dtype}/drugs_features_{dtype}.csv')\n",
    "Deep_NN_phos = pd.read_csv(f'Targets/Deep_NN/model performance/{dtype}/drugs_{dtype}.csv')\n",
    "Deep_NN_prot = pd.read_csv(f'Targets/Deep_NN/model performance/{dtype}/features_{dtype}.csv')\n",
    "DNN = [mean(Deep_NN_full['model_r2']), mean(Deep_NN_phos['model_r2']), mean(Deep_NN_prot['model_r2'])]\n",
    "DNN_sd = [np.std(Deep_NN_full['model_r2']), np.std(Deep_NN_phos['model_r2']), np.std(Deep_NN_prot['model_r2'])]\n",
    "\n",
    "\n",
    "#xgb\n",
    "xgb_full = pd.read_csv(f'Targets/xgb/model performance/{dtype}/drugs_features_{dtype}.csv')\n",
    "xgb_phos = pd.read_csv(f'Targets/xgb/model performance/{dtype}/drugs_{dtype}.csv')\n",
    "xgb_prot = pd.read_csv(f'Targets/xgb/model performance/{dtype}/features_{dtype}.csv')\n",
    "xgb = [mean(xgb_full['model_r2']), mean(xgb_phos['model_r2']), mean(xgb_prot['model_r2'])]\n",
    "xgb_sd = [np.std(xgb_full['model_r2']), np.std(xgb_phos['model_r2']), np.std(xgb_prot['model_r2'])]\n",
    "\n",
    "#rfr\n",
    "rfr_full = pd.read_csv(f'Targets/rfr/model performance/{dtype}/drugs_features_{dtype}.csv')\n",
    "rfr_phos = pd.read_csv(f'Targets/rfr/model performance/{dtype}/drugs_{dtype}.csv')\n",
    "rfr_prot = pd.read_csv(f'Targets/rfr/model performance/{dtype}/features_{dtype}.csv')\n",
    "rfr = [mean(rfr_full['model_r2']), mean(rfr_phos['model_r2']), mean(rfr_prot['model_r2'])]\n",
    "rfr_sd = [np.std(rfr_full['model_r2']), np.std(rfr_phos['model_r2']), np.std(rfr_prot['model_r2'])]"
   ]
  },
  {
   "cell_type": "code",
   "execution_count": null,
   "id": "56c2d455-f1e8-4e9c-b834-a65aa5f3ab13",
   "metadata": {},
   "outputs": [],
   "source": [
    "plt.rcParams['figure.figsize'] = [10, 5]\n",
    "\n",
    "Network = (\"drugs/features\", \"drugs\", \"features\")\n",
    "r_squared_means = {\n",
    "    'CNN': CNN,\n",
    "    'DNN': DNN,\n",
    "    'rfr': rfr,\n",
    "    'xgb': xgb\n",
    "}\n",
    "\n",
    "# Calculate standard deviations for each model\n",
    "r_squared_std = {\n",
    "    'CNN_sd': CNN_sd,\n",
    "    'DNN_sd': DNN_sd,\n",
    "    'rfr_sd': rfr_sd,\n",
    "    'xgb_sd': xgb_sd\n",
    "}\n",
    "\n",
    "x = np.arange(len(Network))  # the label locations\n",
    "width = 0.10  # the width of the bars\n",
    "multiplier = 0\n",
    "\n",
    "fig, ax = plt.subplots(constrained_layout=True)\n",
    "\n",
    "# Define custom colors for each model's bars\n",
    "colors = ['orange', 'yellow', 'green', 'red']\n",
    "\n",
    "for model, r in r_squared_means.items():\n",
    "    offset = width * multiplier\n",
    "    rects = ax.bar(x + offset, r, width, label=model, color=colors[multiplier])\n",
    "    #ax.bar_label(rects, padding=10)\n",
    "    ax.errorbar(x + offset, r, yerr=r_squared_std[model+'_sd'], fmt='none', color='black', capsize=5)\n",
    "    multiplier += 1\n",
    "\n",
    "# Add some text for labels, title and custom x-axis tick labels, etc.\n",
    "ax.set_ylabel('r-squared')\n",
    "ax.set_title('Phosphoproteomic')\n",
    "ax.set_xticks(x + width * (multiplier - 2.5))  # Adjusted the tick positions\n",
    "ax.set_xticklabels(Network, style='italic')\n",
    "ax.legend(loc='upper right')\n",
    "ax.set_ylim(0.5, 0.9)\n",
    "\n",
    "fig.savefig('Targets/phospho_targets_comparison.png')"
   ]
  },
  {
   "cell_type": "code",
   "execution_count": null,
   "id": "35dda7c3-1a79-44fc-b9b4-5bd91f79634c",
   "metadata": {},
   "outputs": [],
   "source": [
    "dtype='proteomic'\n",
    "\n",
    "#CNN\n",
    "CNN_full = pd.read_csv(f'Targets/CNN/model performance/{dtype}/drugs_features_{dtype}.csv')\n",
    "CNN_phos = pd.read_csv(f'Targets/CNN/model performance/{dtype}/drugs_{dtype}.csv')\n",
    "CNN_prot = pd.read_csv(f'Targets/CNN/model performance/{dtype}/features_{dtype}.csv')\n",
    "CNN = [mean(CNN_full['model_r2']), mean(CNN_phos['model_r2']), mean(CNN_prot['model_r2'])]\n",
    "CNN_sd = [np.std(CNN_full['model_r2']), np.std(CNN_phos['model_r2']), np.std(CNN_prot['model_r2'])]\n",
    "\n",
    "#Deep_NN\n",
    "Deep_NN_full = pd.read_csv(f'Targets/Deep_NN/model performance/{dtype}/drugs_features_{dtype}.csv')\n",
    "Deep_NN_phos = pd.read_csv(f'Targets/Deep_NN/model performance/{dtype}/drugs_{dtype}.csv')\n",
    "Deep_NN_prot = pd.read_csv(f'Targets/Deep_NN/model performance/{dtype}/features_{dtype}.csv')\n",
    "DNN = [mean(Deep_NN_full['model_r2']), mean(Deep_NN_phos['model_r2']), mean(Deep_NN_prot['model_r2'])]\n",
    "DNN_sd = [np.std(Deep_NN_full['model_r2']), np.std(Deep_NN_phos['model_r2']), np.std(Deep_NN_prot['model_r2'])]\n",
    "\n",
    "\n",
    "#xgb\n",
    "xgb_full = pd.read_csv(f'Targets/xgb/model performance/{dtype}/drugs_features_{dtype}.csv')\n",
    "xgb_phos = pd.read_csv(f'Targets/xgb/model performance/{dtype}/drugs_{dtype}.csv')\n",
    "xgb_prot = pd.read_csv(f'Targets/xgb/model performance/{dtype}/features_{dtype}.csv')\n",
    "xgb = [mean(xgb_full['model_r2']), mean(xgb_phos['model_r2']), mean(xgb_prot['model_r2'])]\n",
    "xgb_sd = [np.std(xgb_full['model_r2']), np.std(xgb_phos['model_r2']), np.std(xgb_prot['model_r2'])]\n",
    "\n",
    "#rfr\n",
    "rfr_full = pd.read_csv(f'Targets/rfr/model performance/{dtype}/drugs_features_{dtype}.csv')\n",
    "rfr_phos = pd.read_csv(f'Targets/rfr/model performance/{dtype}/drugs_{dtype}.csv')\n",
    "rfr_prot = pd.read_csv(f'Targets/rfr/model performance/{dtype}/features_{dtype}.csv')\n",
    "rfr = [mean(rfr_full['model_r2']), mean(rfr_phos['model_r2']), mean(rfr_prot['model_r2'])]\n",
    "rfr_sd = [np.std(rfr_full['model_r2']), np.std(rfr_phos['model_r2']), np.std(rfr_prot['model_r2'])]\n",
    "\n"
   ]
  },
  {
   "cell_type": "code",
   "execution_count": null,
   "id": "daad7d3b-1579-4464-a230-b2ab3f890f0b",
   "metadata": {},
   "outputs": [],
   "source": [
    "plt.rcParams['figure.figsize'] = [10, 5]\n",
    "\n",
    "Network = (\"drugs/features\", \"drugs\", \"features\")\n",
    "r_squared_means = {\n",
    "    'CNN': CNN,\n",
    "    'DNN': DNN,\n",
    "    'rfr': rfr,\n",
    "    'xgb': xgb\n",
    "}\n",
    "\n",
    "# Calculate standard deviations for each model\n",
    "r_squared_std = {\n",
    "    'CNN_sd': CNN_sd,\n",
    "    'DNN_sd': DNN_sd,\n",
    "    'rfr_sd': rfr_sd,\n",
    "    'xgb_sd': xgb_sd\n",
    "}\n",
    "\n",
    "x = np.arange(len(Network))  # the label locations\n",
    "width = 0.10  # the width of the bars\n",
    "multiplier = 0\n",
    "\n",
    "fig, ax = plt.subplots(constrained_layout=True)\n",
    "\n",
    "# Define custom colors for each model's bars\n",
    "colors = ['orange', 'yellow', 'green', 'red']\n",
    "\n",
    "for model, r in r_squared_means.items():\n",
    "    offset = width * multiplier\n",
    "    rects = ax.bar(x + offset, r, width, label=model, color=colors[multiplier])\n",
    "    #ax.bar_label(rects, padding=10)\n",
    "    ax.errorbar(x + offset, r, yerr=r_squared_std[model+'_sd'], fmt='none', color='black', capsize=5)\n",
    "    multiplier += 1\n",
    "\n",
    "# Add some text for labels, title and custom x-axis tick labels, etc.\n",
    "ax.set_ylabel('r-squared')\n",
    "ax.set_title('Proteomic')\n",
    "ax.set_xticks(x + width * (multiplier - 2.5))  # Adjusted the tick positions\n",
    "ax.set_xticklabels(Network, style='italic')\n",
    "ax.legend(loc='upper right')\n",
    "ax.set_ylim(0.5, 0.9)\n",
    "\n",
    "fig.savefig('Targets/proteomic_targets_comparison.png')"
   ]
  },
  {
   "cell_type": "code",
   "execution_count": null,
   "id": "c5a16dc9-4e2e-4ffd-9bd6-bed9a4b957b4",
   "metadata": {},
   "outputs": [],
   "source": [
    "dtype='full_network'\n",
    "\n",
    "#CNN\n",
    "CNN_full = pd.read_csv(f'Targets/CNN/model performance/{dtype}/drugs_features_{dtype}.csv')\n",
    "CNN_phos = pd.read_csv(f'Targets/CNN/model performance/{dtype}/drugs_{dtype}.csv')\n",
    "CNN_prot = pd.read_csv(f'Targets/CNN/model performance/{dtype}/features_{dtype}.csv')\n",
    "CNN = [mean(CNN_full['model_r2']), mean(CNN_phos['model_r2']), mean(CNN_prot['model_r2'])]\n",
    "CNN_sd = [np.std(CNN_full['model_r2']), np.std(CNN_phos['model_r2']), np.std(CNN_prot['model_r2'])]\n",
    "\n",
    "#Deep_NN\n",
    "Deep_NN_full = pd.read_csv(f'Targets/Deep_NN/model performance/{dtype}/drugs_features_{dtype}.csv')\n",
    "Deep_NN_phos = pd.read_csv(f'Targets/Deep_NN/model performance/{dtype}/drugs_{dtype}.csv')\n",
    "Deep_NN_prot = pd.read_csv(f'Targets/Deep_NN/model performance/{dtype}/features_{dtype}.csv')\n",
    "DNN = [mean(Deep_NN_full['model_r2']), mean(Deep_NN_phos['model_r2']), mean(Deep_NN_prot['model_r2'])]\n",
    "DNN_sd = [np.std(Deep_NN_full['model_r2']), np.std(Deep_NN_phos['model_r2']), np.std(Deep_NN_prot['model_r2'])]\n",
    "\n",
    "\n",
    "#xgb\n",
    "xgb_full = pd.read_csv(f'Targets/xgb/model performance/{dtype}/drugs_features_{dtype}.csv')\n",
    "xgb_phos = pd.read_csv(f'Targets/xgb/model performance/{dtype}/drugs_{dtype}.csv')\n",
    "xgb_prot = pd.read_csv(f'Targets/xgb/model performance/{dtype}/features_{dtype}.csv')\n",
    "xgb = [mean(xgb_full['model_r2']), mean(xgb_phos['model_r2']), mean(xgb_prot['model_r2'])]\n",
    "xgb_sd = [np.std(xgb_full['model_r2']), np.std(xgb_phos['model_r2']), np.std(xgb_prot['model_r2'])]\n",
    "\n",
    "#rfr\n",
    "rfr_full = pd.read_csv(f'Targets/rfr/model performance/{dtype}/drugs_features_{dtype}.csv')\n",
    "rfr_phos = pd.read_csv(f'Targets/rfr/model performance/{dtype}/drugs_{dtype}.csv')\n",
    "rfr_prot = pd.read_csv(f'Targets/rfr/model performance/{dtype}/features_{dtype}.csv')\n",
    "rfr = [mean(rfr_full['model_r2']), mean(rfr_phos['model_r2']), mean(rfr_prot['model_r2'])]\n",
    "rfr_sd = [np.std(rfr_full['model_r2']), np.std(rfr_phos['model_r2']), np.std(rfr_prot['model_r2'])]"
   ]
  },
  {
   "cell_type": "code",
   "execution_count": null,
   "id": "1be178ce-8bc2-4c74-aa52-132f0a95b1c7",
   "metadata": {},
   "outputs": [],
   "source": [
    "plt.rcParams['figure.figsize'] = [10, 5]\n",
    "\n",
    "Network = (\"drugs/features\", \"drugs\", \"features\")\n",
    "r_squared_means = {\n",
    "    'CNN': CNN,\n",
    "    'DNN': DNN,\n",
    "    'rfr': rfr,\n",
    "    'xgb': xgb\n",
    "}\n",
    "\n",
    "# Calculate standard deviations for each model\n",
    "r_squared_std = {\n",
    "    'CNN_sd': CNN_sd,\n",
    "    'DNN_sd': DNN_sd,\n",
    "    'rfr_sd': rfr_sd,\n",
    "    'xgb_sd': xgb_sd\n",
    "}\n",
    "\n",
    "x = np.arange(len(Network))  # the label locations\n",
    "width = 0.10  # the width of the bars\n",
    "multiplier = 0\n",
    "\n",
    "fig, ax = plt.subplots(constrained_layout=True)\n",
    "\n",
    "# Define custom colors for each model's bars\n",
    "colors = ['orange', 'yellow', 'green', 'red']\n",
    "\n",
    "for model, r in r_squared_means.items():\n",
    "    offset = width * multiplier\n",
    "    rects = ax.bar(x + offset, r, width, label=model, color=colors[multiplier])\n",
    "    #ax.bar_label(rects, padding=10)\n",
    "    ax.errorbar(x + offset, r, yerr=r_squared_std[model+'_sd'], fmt='none', color='black', capsize=5)\n",
    "    multiplier += 1\n",
    "\n",
    "# Add some text for labels, title and custom x-axis tick labels, etc.\n",
    "ax.set_ylabel('r-squared')\n",
    "ax.set_title('Combined dataset')\n",
    "ax.set_xticks(x + width * (multiplier - 2.5))  # Adjusted the tick positions\n",
    "ax.set_xticklabels(Network, style='italic')\n",
    "ax.legend(loc='upper right')\n",
    "ax.set_ylim(0.5, 0.9)\n",
    "\n",
    "fig.savefig('Targets/full_targets_comparison.png')"
   ]
  },
  {
   "cell_type": "markdown",
   "id": "40b062d6-13f3-45f1-93e2-0a97b9014d60",
   "metadata": {
    "tags": []
   },
   "source": [
    "# SHAP for drug targets"
   ]
  },
  {
   "cell_type": "code",
   "execution_count": null,
   "id": "6e79dbeb-f5a6-4aa8-8eeb-5a4afbbe3538",
   "metadata": {},
   "outputs": [],
   "source": [
    "#train-test-split\n",
    "X_train, X_test, y_train, y_test = cell_line_split(dd_X_main, dd_y_main, test_size=0.2, random_state = 23)\n",
    "print(f'dd_X_main.shape: {dd_X_main.shape}')\n",
    "print(f'X_train.shape: {X_train.shape}, X_test.shape: {X_test.shape}')"
   ]
  },
  {
   "cell_type": "code",
   "execution_count": null,
   "id": "a470dadf-ea47-46a6-bd2b-dccd3570980e",
   "metadata": {},
   "outputs": [],
   "source": [
    "#train-test-split\n",
    "xo_train, xo_test = cell_line_split(dd_x_all, y=None, test_size=0.2, random_state = 23)\n",
    "xd_train, xd_test = cell_line_split(dd_x_drug, y=None, test_size=0.2, random_state = 23)\n",
    "y_train, y_test = cell_line_split(dd_y_main, y=None, test_size=0.2, random_state = 23)\n",
    "\n",
    "print(f'dd_x_all.shape: {dd_x_all.shape}')\n",
    "print(f'xo_train.shape: {xo_train.shape}, X_test.shape: {xo_test.shape}')\n",
    "\n",
    "print(f'dd_x_drug.shape: {dd_x_drug.shape}')\n",
    "print(f'xd_train.shape: {xd_train.shape}, X_test.shape: {xd_test.shape}')"
   ]
  },
  {
   "cell_type": "markdown",
   "id": "7396aa3b-1064-4b5c-b781-cad82748a008",
   "metadata": {
    "tags": []
   },
   "source": [
    "## build model"
   ]
  },
  {
   "cell_type": "code",
   "execution_count": null,
   "id": "437ed5b1-aab0-4ed7-afb9-62752910a534",
   "metadata": {},
   "outputs": [],
   "source": [
    "%%time\n",
    "model_type == 'Deep_NN'\n",
    "if model_type == 'Deep_NN':\n",
    "    ## fit the model\n",
    "\n",
    "    model = build_Deep_NN(xo_train, xd_train, learning_rate, momentum, initializer_seed, complexity = 4)\n",
    "    history = model.fit([xo_train, xd_train], y_train,\n",
    "                        validation_data=([xo_test, xd_test], y_test),\n",
    "                        epochs=num_epochs, \n",
    "                        batch_size=None, \n",
    "                        verbose=0, \n",
    "                        callbacks=callbacks_list)\n",
    "    shap.explainers._deep.deep_tf.op_handlers[\"AddV2\"] = shap.explainers._deep.deep_tf.passthrough\n",
    "\n",
    "    # DeepExplainer to explain predictions of the model\n",
    "    explainer = shap.DeepExplainer(model, [np.array(xo_train), np.array(xd_train)])\n",
    "\n",
    "elif model_type == 'rfr':\n",
    "\n",
    "    #run rfr\n",
    "    classify = RandomForestRegressor(n_jobs=-1, max_depth=300, n_estimators=200)\n",
    "\n",
    "    #fit model\n",
    "    classify.fit(X_train, y_train)\n",
    "\n",
    "    #creates explainer instance\n",
    "    explainer = shap.explainers.Tree(classify, X_train)\n",
    "\n",
    "elif model_type == 'xgb':\n",
    "    #run xgb\n",
    "    xgb = XGBRegressor(max_depth = 75, \n",
    "                       n_estimators = 300, \n",
    "                       seed = 42, \n",
    "                       min_child_weight = 3, \n",
    "                       gamma = 0, \n",
    "                       colsample_bytree = 0.3, \n",
    "                       reg_alpha = 0.1,\n",
    "                       n_jobs=-1)\n",
    "\n",
    "    #fit model\n",
    "    xgb.fit(X_train, y_train)\n",
    "\n",
    "    #creates explainer instance\n",
    "    explainer = shap.explainers.Tree(xgb, X_train)"
   ]
  },
  {
   "cell_type": "markdown",
   "id": "d062367c-38ab-41ef-90e3-366c12363d75",
   "metadata": {
    "tags": []
   },
   "source": [
    "## significant SHAP finder"
   ]
  },
  {
   "cell_type": "code",
   "execution_count": null,
   "id": "1cad1cc5-7f8c-4d35-856a-eedf2ea670bd",
   "metadata": {
    "scrolled": true,
    "tags": []
   },
   "outputs": [],
   "source": [
    "%%time\n",
    "indexes, features, targets = SHAP_targets(dd_X_main, explainer, X_test, y_test, dtype = 'phospho')"
   ]
  },
  {
   "cell_type": "code",
   "execution_count": null,
   "id": "6666b6f4-e5ca-4a90-b2a5-b55341be5a50",
   "metadata": {},
   "outputs": [],
   "source": [
    "number_of_targs = [len(x) for x in targets[0]]"
   ]
  },
  {
   "cell_type": "code",
   "execution_count": null,
   "id": "481a65fa-bad8-42b3-9c93-fabd228a81cd",
   "metadata": {},
   "outputs": [],
   "source": [
    "SHAP_df = table_make('SHAPs',\n",
    "           [indexes, features[0], features[1], features[2], features[3], targets[0], number_of_targs, targets[1], targets[2], targets[3]],\n",
    "           ['cl:drug',' total number of features', 'target percentage of total', 'total number of significant features', 'target percentage of significant', 'drug targets', 'number of targets', 'percent significant', 'significant targets', 'insignificant targets'], file = False)\n",
    "SHAP_df = SHAP_df.sort_values('percent significant', ascending=False)\n",
    "SHAP_df.to_csv(f'Targets/{model_type}/explainability/SHAP/{dtype}/{test_type}_{dtype}2.csv')"
   ]
  },
  {
   "cell_type": "markdown",
   "id": "49e88a79-cacb-4b44-ab74-1b14042f8fe7",
   "metadata": {
    "tags": []
   },
   "source": [
    "## SHAP plot"
   ]
  },
  {
   "cell_type": "code",
   "execution_count": null,
   "id": "07157ab5-62b4-422e-9fd9-c216392c01fa",
   "metadata": {},
   "outputs": [],
   "source": [
    "index = index_finder('KYSE-150::Bosutinib', X_test)\n",
    "index"
   ]
  },
  {
   "cell_type": "code",
   "execution_count": null,
   "id": "ffde7a80-7e52-4769-a9a9-d17358e80487",
   "metadata": {},
   "outputs": [],
   "source": [
    "#specify the cell line and drugs that are tested\n",
    "cell_line, drug = list(X_test.index)[index].split('::')"
   ]
  },
  {
   "cell_type": "code",
   "execution_count": null,
   "id": "91fc92eb-b2db-48a7-a945-a940dbb297a1",
   "metadata": {},
   "outputs": [],
   "source": [
    "print(f'cell line: {cell_line}\\ndrug: {drug}\\nIC50: {y_test[f\"{cell_line}::{drug}\"]}')"
   ]
  },
  {
   "cell_type": "code",
   "execution_count": null,
   "id": "188d192f-58ee-4f0a-86d3-7c8ac8b49884",
   "metadata": {
    "scrolled": true,
    "tags": []
   },
   "outputs": [],
   "source": [
    "if model_type == 'rfr':    \n",
    "    # make a shap value array for the prediction\n",
    "    shaps = explainer.shap_values(X_test.loc[f'{cell_line}::{drug}'], y_test[f'{cell_line}::{drug}'], check_additivity=False)\n",
    "    \n",
    "elif model_type == 'Deep_NN':\n",
    "    shaps = explainer.shap_values([np.array([xo_test.loc[f'{cell_line}::{drug}']]), np.array([xd_test.loc[f'{cell_line}::{drug}']])])"
   ]
  },
  {
   "cell_type": "code",
   "execution_count": null,
   "id": "de0ae372-e6b1-4e08-9a01-b4c35137404c",
   "metadata": {},
   "outputs": [],
   "source": [
    "dtype = 'full_network'\n",
    "\n",
    "# drug list and their associated proteins\n",
    "if dtype == 'phospho':\n",
    "    dd = drugData(X_main_phos, isPhospho = True)\n",
    "    target_lists = [i.split(', ') for i in dd['Targets']]\n",
    "    \n",
    "    drug_dict = {dd.index[i]:target_lists[i] for i in range(len(target_lists))}\n",
    "\n",
    "elif dtype == 'proteomic':\n",
    "    dd = drugData(X_main_prot)\n",
    "    target_lists = [i.split('; ') for i in dd['Targets']]\n",
    "    \n",
    "    drug_dict = {dd.index[i]:target_lists[i] for i in range(len(target_lists))}\n",
    "\n",
    "if dtype == 'full_network':\n",
    "    from data_makers import drugData\n",
    "    dd_phos = drugData(dd_X_main, isPhospho = True)\n",
    "    target_lists_phos = [i.split(', ') for i in dd_phos['Targets']]\n",
    "\n",
    "    #prot\n",
    "    from data_makers import drugData\n",
    "    dd_prot = drugData(dd_X_main)\n",
    "    target_lists_prot = [i.split('; ') for i in dd_prot['Targets']]\n",
    "        \n",
    "    # account for disparity between phos and prot drugs available\n",
    "    overlap_target_lists = [target_lists_phos[i] + target_lists_prot[i] for i in range(len(target_lists_phos))]\n",
    "    missingIndexes = len(target_lists_prot) - len(overlap_target_lists) # the added protein indexes not covered by phos indexes\n",
    "    prot_to_add = target_lists_prot[-missingIndexes:] # the section of array that these indexes cover\n",
    "    target_lists = overlap_target_lists + prot_to_add\n",
    "                \n",
    "    drug_dict = {dd_prot.index[i]:target_lists[i] for i in range(len(target_lists))}\n",
    "\n",
    "#targets for the specific drug\n",
    "shap_targets = drug_dict[drug]"
   ]
  },
  {
   "cell_type": "code",
   "execution_count": null,
   "id": "7c146fa6-4e50-460d-ba61-2ab2cbf6b3d3",
   "metadata": {},
   "outputs": [],
   "source": [
    "if model_type == 'rfr':\n",
    "    #find where the targets are situated in the shap list\n",
    "    target_and_index = [[i, v] for i, v in enumerate(X_test.loc[f'{cell_line}::{drug}'].index) if v in shap_targets]\n",
    "    #separate them for the plot\n",
    "    protein_targs = [l[1] for l in target_and_index]\n",
    "    indexes = [l[0] for l in target_and_index]\n",
    "elif model_type == 'Deep_NN':\n",
    "    #find where the targets are situated in the shap list\n",
    "    target_and_index = [[i, v] for i, v in enumerate(xo_test.loc[f'{cell_line}::{drug}'].index) if v in shap_targets]\n",
    "    #separate them for the plot\n",
    "    protein_targs = [l[1] for l in target_and_index]\n",
    "    indexes = [l[0] for l in target_and_index]"
   ]
  },
  {
   "cell_type": "code",
   "execution_count": null,
   "id": "094fa7e9-c6e8-4846-a056-9797eb77dae1",
   "metadata": {},
   "outputs": [],
   "source": [
    "plt.rcParams['figure.figsize'] = [20, 20]\n",
    "rot = plt.xticks(rotation=45)\n",
    "\n",
    "# Sample data\n",
    "if model_type == 'rfr':\n",
    "    x = list(range(0, len(X_test.loc[f'{cell_line}::{drug}'])))\n",
    "elif model_type == 'Deep_NN':\n",
    "    x = list(range(0, len(xo_test.loc[f'{cell_line}::{drug}'])))\n",
    "y = shaps[0][0][0]\n",
    "\n",
    "# List of indices for points to be crosses\n",
    "cross_indices = indexes\n",
    "\n",
    "# Add axis labels\n",
    "plt.xlabel('index')\n",
    "plt.ylabel('shapley scores')\n",
    "\n",
    "# Add a title\n",
    "plt.title('shapley scores for a DNN model trained on features_full_network predicting SNU-387::Pemetrexed')\n",
    "\n",
    "# Plotting\n",
    "plt.scatter(x, y, marker='o')  # Plot circles for all points\n",
    "plt.scatter([x[i] for i in cross_indices], [y[i] for i in cross_indices], marker='x', color='red')  # Plot crosses for specific points\n",
    "\n",
    "plt.savefig('Targets/example_scatter_SNU-387::Pemetrexed')"
   ]
  },
  {
   "cell_type": "markdown",
   "id": "23016cc3-2964-49d9-8efa-dc3ebc1f6f0d",
   "metadata": {
    "jp-MarkdownHeadingCollapsed": true,
    "tags": []
   },
   "source": [
    "## significance plot"
   ]
  },
  {
   "cell_type": "code",
   "execution_count": 70,
   "id": "b84364e5-3a1e-4d73-a9c3-96ec23c2c6bd",
   "metadata": {},
   "outputs": [],
   "source": [
    "test_type1 = 'drugs_features'"
   ]
  },
  {
   "cell_type": "code",
   "execution_count": 71,
   "id": "0ec9791b-36c8-41e2-88a3-cac2fd1c55f7",
   "metadata": {},
   "outputs": [],
   "source": [
    "method = 'Targets'\n",
    "model_type1 = 'rfr'\n",
    "dtype1 = 'full_network'\n",
    "analysis = 'SHAP'\n",
    "SHAP_df1 = pd.read_csv(f'{method}/{model_type1}/explainability/{analysis}/{dtype1}/{test_type1}_{dtype1}2.csv')\n",
    "label1 = f'RF_{analysis}_Combined_data'"
   ]
  },
  {
   "cell_type": "code",
   "execution_count": 72,
   "id": "abd49d5e-5293-4191-90b5-2b248a766db3",
   "metadata": {},
   "outputs": [],
   "source": [
    "method = 'Targets'\n",
    "model_type1 = 'rfr'\n",
    "dtype1 = 'proteomic'\n",
    "analysis = 'SHAP'\n",
    "SHAP_df2 = pd.read_csv(f'{method}/{model_type1}/explainability/{analysis}/{dtype1}/{test_type1}_{dtype1}2.csv')\n",
    "label2 = f'RF_{analysis}_Proteomic'"
   ]
  },
  {
   "cell_type": "code",
   "execution_count": 73,
   "id": "e9c1403a-693c-44dc-866e-3b4e5900d50c",
   "metadata": {},
   "outputs": [],
   "source": [
    "method = 'Targets'\n",
    "model_type1 = 'Deep_NN'\n",
    "dtype1 = 'full_network'\n",
    "analysis = 'SHAP'\n",
    "SHAP_df3 = pd.read_csv(f'{method}/{model_type1}/explainability/{analysis}/{dtype1}/{test_type1}_{dtype1}2.csv')\n",
    "label3 = f'DNN_{analysis}_Combined_data'"
   ]
  },
  {
   "cell_type": "code",
   "execution_count": 74,
   "id": "27f87ecf-c1d2-47fe-b148-9b24d0787e4b",
   "metadata": {},
   "outputs": [],
   "source": [
    "method = 'Targets'\n",
    "model_type1 = 'Deep_NN'\n",
    "dtype1 = 'proteomic'\n",
    "analysis = 'SHAP'\n",
    "SHAP_df4 = pd.read_csv(f'{method}/{model_type1}/explainability/{analysis}/{dtype1}/{test_type1}_{dtype1}2.csv')\n",
    "label4 = f'DNN_{analysis}_Proteomic'"
   ]
  },
  {
   "cell_type": "code",
   "execution_count": 75,
   "id": "7ac36f93-f203-461d-bd03-a1be5513129d",
   "metadata": {},
   "outputs": [],
   "source": [
    "method = 'Targets'\n",
    "model_type1 = 'Deep_NN'\n",
    "dtype1 = 'full_network'\n",
    "analysis = 'IG'\n",
    "SHAP_df5 = pd.read_csv(f'{method}/{model_type1}/explainability/{analysis}/{dtype1}/{test_type1}_{dtype1}2.csv')\n",
    "label5 = f'DNN_{analysis}_Combined_data'"
   ]
  },
  {
   "cell_type": "code",
   "execution_count": 76,
   "id": "e476d517-d530-4164-9bed-091e5592620b",
   "metadata": {},
   "outputs": [],
   "source": [
    "method = 'Targets'\n",
    "model_type1 = 'Deep_NN'\n",
    "dtype1 = 'proteomic'\n",
    "analysis = 'IG'\n",
    "SHAP_df6 = pd.read_csv(f'{method}/{model_type1}/explainability/{analysis}/{dtype1}/{test_type1}_{dtype1}2.csv')\n",
    "label6 = f'DNN_{analysis}_Proteomic'"
   ]
  },
  {
   "cell_type": "code",
   "execution_count": 77,
   "id": "0fec5b85-8943-4f9b-b1b5-93f83e34614d",
   "metadata": {},
   "outputs": [
    {
     "data": {
      "image/png": "[encoded data removed]",
      "text/plain": [
       "<Figure size 720x720 with 1 Axes>"
      ]
     },
     "metadata": {
      "needs_background": "light"
     },
     "output_type": "display_data"
    }
   ],
   "source": [
    "#plot for % comparison\n",
    "plt.rcParams['figure.figsize'] = [10, 10]\n",
    "\n",
    "plt.plot(list(SHAP_df1.index), SHAP_df1['percent significant'], label= label1, linestyle='-', color='green', linewidth=3)\n",
    "plt.plot(list(SHAP_df2.index), SHAP_df2['percent significant'], label= label2, linestyle='-', marker='x', color='green', linewidth=1)\n",
    "plt.plot(list(SHAP_df3.index), SHAP_df3['percent significant'], label= label3, linestyle='-', color='blue', linewidth=3)\n",
    "plt.plot(list(SHAP_df4.index), SHAP_df4['percent significant'], label= label4, linestyle='-', marker='x', color='blue', linewidth=1)\n",
    "plt.plot(list(SHAP_df5.index), SHAP_df5['percent significant'], label= label5, linestyle='-', color='red', linewidth=3)\n",
    "plt.plot(list(SHAP_df6.index), SHAP_df6['percent significant'], label= label6, linestyle='-', marker='x', color='red', linewidth=1)\n",
    "plt.axhline(y=10, color='black', linestyle='--', label='y = 10')\n",
    "\n",
    "# Add axis labels\n",
    "plt.xlabel('index', fontsize=15)\n",
    "plt.ylabel('percent significant (%sig)', fontsize = 15)\n",
    "\n",
    "# Add a title\n",
    "plt.title('drugs/features', style='italic', fontsize=20)\n",
    "\n",
    "plt.legend(fontsize=20)\n",
    "\n",
    "plt.ylim(0, 90)\n",
    "\n",
    "# Adjust spacing between subplots\n",
    "plt.tight_layout()\n",
    "\n",
    "plt.savefig(f'Targets/%sig/{test_type1}_%significant_comparison_final2')\n",
    "\n",
    "# Display the plots\n",
    "plt.show()\n"
   ]
  },
  {
   "cell_type": "code",
   "execution_count": 26,
   "id": "5c9878b8-f255-4156-b583-0a91375c61f0",
   "metadata": {},
   "outputs": [],
   "source": [
    "metrics1 = pd.read_csv(f'Targets/Deep_NN/model performance/proteomic/drugs_features_proteomic.csv')\n",
    "metrics2 = pd.read_csv(f'Targets/Deep_NN/model performance/full_network/drugs_features_full_network.csv')\n",
    "metrics3 = pd.read_csv(f'Targets/rfr/model performance/proteomic/drugs_features_proteomic.csv')\n",
    "metrics4 = pd.read_csv(f'Targets/rfr/model performance/full_network/drugs_features_full_network.csv')"
   ]
  },
  {
   "cell_type": "code",
   "execution_count": null,
   "id": "94e9d442-89f4-47b9-ad57-085186f60a3a",
   "metadata": {},
   "outputs": [],
   "source": [
    "# Plot 2\n",
    "\n",
    "plt.plot(metrics1['rs'].astype(str), metrics1['model_r2'], linestyle='-', marker='x', color='blue', linewidth=1)\n",
    "plt.plot(metrics2['rs'].astype(str), metrics2['model_r2'], linestyle='-', marker='.', color='blue', linewidth=1)\n",
    "plt.plot(metrics3['rs'].astype(str), metrics3['model_r2'], linestyle='-', marker='x', color='green', linewidth=1)\n",
    "plt.plot(metrics4['rs'].astype(str), metrics4['model_r2'], linestyle='-', marker='.', color='green', linewidth=1)\n",
    "\n",
    "plt.title('performance')\n",
    "plt.xlabel('seed')\n",
    "plt.ylabel('r-squared')\n",
    "plt.ylim(0.5, 0.85)\n",
    "\n",
    "plt.savefig('Targets/drugs_features_performance_comparison.png')"
   ]
  },
  {
   "cell_type": "markdown",
   "id": "575e779e-3f60-4f78-913a-d6b45e774281",
   "metadata": {
    "jp-MarkdownHeadingCollapsed": true,
    "tags": []
   },
   "source": [
    "## phospho comparison"
   ]
  },
  {
   "cell_type": "code",
   "execution_count": 78,
   "id": "e236aff9-d445-44ed-a364-d1d1f3bbdcfd",
   "metadata": {},
   "outputs": [],
   "source": [
    "test_type1 = 'features'"
   ]
  },
  {
   "cell_type": "code",
   "execution_count": 111,
   "id": "9c7cf5a5-fe2c-41a6-acec-1923589c45a6",
   "metadata": {},
   "outputs": [],
   "source": [
    "method = 'Targets'\n",
    "model_type1 = 'rfr'\n",
    "dtype1 = 'phospho'\n",
    "analysis = 'SHAP'\n",
    "SHAP_df1 = pd.read_csv(f'{method}/{model_type1}/explainability/{analysis}/{dtype1}/{test_type1}_{dtype1}2.csv')\n",
    "label1 = f'RF_{analysis}_Phospho'"
   ]
  },
  {
   "cell_type": "code",
   "execution_count": 112,
   "id": "83d0a31d-f547-45d1-b23f-6210c3a4eb8f",
   "metadata": {},
   "outputs": [],
   "source": [
    "method = 'Targets'\n",
    "model_type1 = 'rfr'\n",
    "dtype1 = 'proteomic'\n",
    "analysis = 'SHAP'\n",
    "SHAP_df2 = pd.read_csv(f'{method}/{model_type1}/explainability/{analysis}/{dtype1}/{test_type1}_{dtype1}2.csv')\n",
    "label2 = f'RF_{analysis}_Proteomic'"
   ]
  },
  {
   "cell_type": "code",
   "execution_count": 113,
   "id": "14735bb2-dd42-4bc9-912b-7731565d88e6",
   "metadata": {},
   "outputs": [],
   "source": [
    "method = 'Targets'\n",
    "model_type1 = 'rfr'\n",
    "dtype1 = 'full_network'\n",
    "analysis = 'SHAP'\n",
    "SHAP_df3 = pd.read_csv(f'{method}/{model_type1}/explainability/{analysis}/{dtype1}/{test_type1}_{dtype1}2.csv')\n",
    "label3 = f'RF_{analysis}_Combined_data'"
   ]
  },
  {
   "cell_type": "code",
   "execution_count": 114,
   "id": "78037d19-4866-41d1-afa0-bdc681296212",
   "metadata": {},
   "outputs": [],
   "source": [
    "method = 'Targets'\n",
    "model_type1 = 'Deep_NN'\n",
    "dtype1 = 'phospho'\n",
    "analysis = 'SHAP'\n",
    "SHAP_df4 = pd.read_csv(f'{method}/{model_type1}/explainability/{analysis}/{dtype1}/{test_type1}_{dtype1}2.csv')\n",
    "label4 = f'DNN_{analysis}_Phospho'"
   ]
  },
  {
   "cell_type": "code",
   "execution_count": 115,
   "id": "cc8f27a9-d201-475a-9c1a-ebcc681eb681",
   "metadata": {},
   "outputs": [],
   "source": [
    "method = 'Targets'\n",
    "model_type1 = 'Deep_NN'\n",
    "dtype1 = 'proteomic'\n",
    "analysis = 'SHAP'\n",
    "SHAP_df5 = pd.read_csv(f'{method}/{model_type1}/explainability/{analysis}/{dtype1}/{test_type1}_{dtype1}2.csv')\n",
    "label5 = f'DNN_{analysis}_Proteomic'"
   ]
  },
  {
   "cell_type": "code",
   "execution_count": 116,
   "id": "ed0294ac-819a-44a8-8d03-18778cd709c9",
   "metadata": {},
   "outputs": [],
   "source": [
    "method = 'Targets'\n",
    "model_type1 = 'Deep_NN'\n",
    "dtype1 = 'full_network'\n",
    "analysis = 'SHAP'\n",
    "SHAP_df6 = pd.read_csv(f'{method}/{model_type1}/explainability/{analysis}/{dtype1}/{test_type1}_{dtype1}2.csv')\n",
    "label6 = f'DNN_{analysis}_Combined_data'"
   ]
  },
  {
   "cell_type": "code",
   "execution_count": 117,
   "id": "2287750b-7685-4dbd-951b-2441da65c095",
   "metadata": {},
   "outputs": [],
   "source": [
    "method = 'Targets'\n",
    "model_type1 = 'Deep_NN'\n",
    "dtype1 = 'phospho'\n",
    "analysis = 'IG'\n",
    "SHAP_df7 = pd.read_csv(f'{method}/{model_type1}/explainability/{analysis}/{dtype1}/{test_type1}_{dtype1}2.csv')\n",
    "label7 = f'DNN_{analysis}_Phospho'"
   ]
  },
  {
   "cell_type": "code",
   "execution_count": 118,
   "id": "fe4975a8-22fc-47d7-81b9-1f9a33605579",
   "metadata": {},
   "outputs": [],
   "source": [
    "method = 'Targets'\n",
    "model_type1 = 'Deep_NN'\n",
    "dtype1 = 'proteomic'\n",
    "analysis = 'IG'\n",
    "SHAP_df8 = pd.read_csv(f'{method}/{model_type1}/explainability/{analysis}/{dtype1}/{test_type1}_{dtype1}2.csv')\n",
    "label8 = f'DNN_{analysis}_Proteomic'"
   ]
  },
  {
   "cell_type": "code",
   "execution_count": 119,
   "id": "68124b7d-e0cb-4da1-b27e-75a05ac4a853",
   "metadata": {},
   "outputs": [],
   "source": [
    "method = 'Targets'\n",
    "model_type1 = 'Deep_NN'\n",
    "dtype1 = 'full_network'\n",
    "analysis = 'IG'\n",
    "SHAP_df9 = pd.read_csv(f'{method}/{model_type1}/explainability/{analysis}/{dtype1}/{test_type1}_{dtype1}2.csv')\n",
    "label9 = f'DNN_{analysis}_Combined_data'"
   ]
  },
  {
   "cell_type": "code",
   "execution_count": 125,
   "id": "e2161441-70d4-4f89-ae89-13949f788cd1",
   "metadata": {},
   "outputs": [
    {
     "data": {
      "image/png": "[encoded data removed]",
      "text/plain": [
       "<Figure size 720x720 with 1 Axes>"
      ]
     },
     "metadata": {
      "needs_background": "light"
     },
     "output_type": "display_data"
    }
   ],
   "source": [
    "#plot for % comparison\n",
    "plt.rcParams['figure.figsize'] = [10, 10]\n",
    "\n",
    "plt.plot(list(SHAP_df1.index), SHAP_df1['percent significant'], label= label1, linestyle='-', marker='.', color='green', linewidth=1)\n",
    "#plt.plot(list(SHAP_df2.index), SHAP_df2['percent significant'], label= label2, linestyle='-', marker='x', color='green', linewidth=1)\n",
    "#plt.plot(list(SHAP_df3.index), SHAP_df3['percent significant'], label= label3, linestyle='-', color='green', linewidth=3)\n",
    "plt.plot(list(SHAP_df4.index), SHAP_df4['percent significant'], label= label4, linestyle='-', marker='.', color='blue', linewidth=1)\n",
    "#plt.plot(list(SHAP_df5.index), SHAP_df5['percent significant'], label= label5, linestyle='-', marker='x', color='blue', linewidth=1)\n",
    "#plt.plot(list(SHAP_df6.index), SHAP_df6['percent significant'], label= label6, linestyle='-', color='blue', linewidth=3)\n",
    "plt.plot(list(SHAP_df7.index), SHAP_df7['percent significant'], label= label7, linestyle='-', marker='.', color='red', linewidth=1)\n",
    "#plt.plot(list(SHAP_df8.index), SHAP_df8['percent significant'], label= label8, linestyle='-', marker='x', color='red', linewidth=1)\n",
    "#plt.plot(list(SHAP_df9.index), SHAP_df9['percent significant'], label= label9, linestyle='-', color='red', linewidth=3)\n",
    "plt.axhline(y=10, color='black', linestyle='--', label='y = 10')\n",
    "\n",
    "# Add axis labels\n",
    "plt.xlabel('index', fontsize=15)\n",
    "plt.ylabel('percent significant (%sig)', fontsize=15)\n",
    "\n",
    "# Add a title\n",
    "plt.title('features', style='italic', fontsize=20)\n",
    "\n",
    "plt.legend(fontsize=22)\n",
    "\n",
    "plt.ylim(0, 100)\n",
    "plt.xlim(-20, 200)\n",
    "\n",
    "# Adjust spacing between subplots\n",
    "plt.tight_layout()\n",
    "\n",
    "plt.savefig(f'Targets/%sig/phospho_features_%significant_comparison_final2')\n",
    "\n",
    "# Display the plots\n",
    "plt.show()\n"
   ]
  },
  {
   "cell_type": "markdown",
   "id": "d5e8bab1-cc57-48cb-b3ae-9da5959c3319",
   "metadata": {
    "jp-MarkdownHeadingCollapsed": true,
    "tags": []
   },
   "source": [
    "# Integrated gradients for targets"
   ]
  },
  {
   "cell_type": "code",
   "execution_count": null,
   "id": "b2a1f23e-050c-4a66-a42b-578dc0dedc18",
   "metadata": {},
   "outputs": [],
   "source": [
    "#train-test-split\n",
    "X_train, X_test, y_train, y_test = cell_line_split(dd_X_main, dd_y_main, test_size=0.2, random_state = 23)\n",
    "print(f'dd_X_main.shape: {dd_X_main.shape}')\n",
    "print(f'X_train.shape: {X_train.shape}, X_test.shape: {X_test.shape}')"
   ]
  },
  {
   "cell_type": "code",
   "execution_count": null,
   "id": "53fc34bf-eddb-46a5-8dcf-221bb7f79f4d",
   "metadata": {},
   "outputs": [],
   "source": [
    "#train-test-split\n",
    "xo_train, xo_test = cell_line_split(dd_x_all, y=None, test_size=0.2, random_state = 23)\n",
    "xd_train, xd_test = cell_line_split(dd_x_drug, y=None, test_size=0.2, random_state = 23)\n",
    "y_train, y_test = cell_line_split(dd_y_main, y=None, test_size=0.2, random_state = 23)\n",
    "\n",
    "print(f'dd_x_all.shape: {dd_x_all.shape}')\n",
    "print(f'xo_train.shape: {xo_train.shape}, X_test.shape: {xo_test.shape}')\n",
    "\n",
    "print(f'dd_x_drug.shape: {dd_x_drug.shape}')\n",
    "print(f'xd_train.shape: {xd_train.shape}, X_test.shape: {xd_test.shape}')"
   ]
  },
  {
   "cell_type": "markdown",
   "id": "ac6966f4-727f-4cb6-9658-ce066a1e8c10",
   "metadata": {},
   "source": [
    "## build model"
   ]
  },
  {
   "cell_type": "code",
   "execution_count": null,
   "id": "54f036dd-607a-49ea-ab8b-0b6ace198eab",
   "metadata": {},
   "outputs": [],
   "source": [
    "%%time\n",
    "## fit the model\n",
    "\n",
    "model = build_Deep_NN(xo_train, xd_train, learning_rate, momentum, initializer_seed, complexity = 4)\n",
    "history = model.fit([xo_train, xd_train], y_train,\n",
    "                    validation_data=([xo_test, xd_test], y_test),\n",
    "                    epochs=num_epochs, \n",
    "                    batch_size=None, \n",
    "                    verbose=0, \n",
    "                    callbacks=callbacks_list)"
   ]
  },
  {
   "cell_type": "code",
   "execution_count": null,
   "id": "d6116a41-f023-4a43-aca6-a8ac107e5efa",
   "metadata": {},
   "outputs": [],
   "source": [
    "#initialise IG explainer\n",
    "ig  = IntegratedGradients(model,\n",
    "                          layer=None,\n",
    "                          target_fn=None,\n",
    "                          method=\"gausslegendre\",\n",
    "                          n_steps=50,\n",
    "                          internal_batch_size=100)"
   ]
  },
  {
   "cell_type": "markdown",
   "id": "b39ce207-fb87-4837-8dec-8321713d2f99",
   "metadata": {},
   "source": [
    "## test model"
   ]
  },
  {
   "cell_type": "code",
   "execution_count": null,
   "id": "c4eeea26-5607-4a02-ba41-e68e2e03e905",
   "metadata": {
    "scrolled": true,
    "tags": []
   },
   "outputs": [],
   "source": [
    "%%time\n",
    "indexes, targets, percent_sig, sig_targs, insig_targs = IG_targets_NN(dd_X_main, ig, [xo_test, xd_test], y_test, dtype = 'mix')"
   ]
  },
  {
   "cell_type": "code",
   "execution_count": null,
   "id": "f4a27514-fb43-4ede-87a7-047e347b8d8c",
   "metadata": {},
   "outputs": [],
   "source": [
    "number_of_targs = [len(x) for x in targets]"
   ]
  },
  {
   "cell_type": "code",
   "execution_count": null,
   "id": "3aa0492e-4d50-4046-9c8c-b0a44df59b35",
   "metadata": {},
   "outputs": [],
   "source": [
    "IG_df = table_make('IG',\n",
    "           [indexes, targets, number_of_targs, percent_sig, sig_targs, insig_targs],\n",
    "           ['cl:drug', 'drug targets', 'number of targets', 'percent significant', 'significant targets', 'insignificant targets'], file = False)\n",
    "IG_df = IG_df.sort_values('percent significant', ascending=False)\n",
    "IG_df.to_csv(f'Targets/{model_type}/explainability/IG/{dtype}/features_{dtype}.csv')"
   ]
  },
  {
   "cell_type": "markdown",
   "id": "8a386d8e-5823-489b-92f3-8ed1192b2746",
   "metadata": {
    "jp-MarkdownHeadingCollapsed": true,
    "tags": []
   },
   "source": [
    "# EMDRs"
   ]
  },
  {
   "cell_type": "code",
   "execution_count": null,
   "id": "b62df1a4-2172-4f99-bc9b-a5562a8cb03a",
   "metadata": {},
   "outputs": [],
   "source": [
    "#train-test-split\n",
    "X_train, X_test, y_train, y_test = cell_line_split(dd_X_main, dd_y_main, test_size=0.2, random_state = 23)\n",
    "print(f'dd_X_main.shape: {dd_X_main.shape}')\n",
    "print(f'X_train.shape: {X_train.shape}, X_test.shape: {X_test.shape}')"
   ]
  },
  {
   "cell_type": "code",
   "execution_count": null,
   "id": "cc6b4221-fe2d-484b-a472-deee77385266",
   "metadata": {},
   "outputs": [],
   "source": [
    "#train-test-split\n",
    "xo_train, xo_test = cell_line_split(dd_x_all, y=None, test_size=0.2, random_state = 23)\n",
    "xd_train, xd_test = cell_line_split(dd_x_drug, y=None, test_size=0.2, random_state = 23)\n",
    "y_train, y_test = cell_line_split(dd_y_main, y=None, test_size=0.2, random_state = 23)\n",
    "\n",
    "print(f'dd_x_all.shape: {dd_x_all.shape}')\n",
    "print(f'xo_train.shape: {xo_train.shape}, X_test.shape: {xo_test.shape}')\n",
    "\n",
    "print(f'dd_x_drug.shape: {dd_x_drug.shape}')\n",
    "print(f'xd_train.shape: {xd_train.shape}, X_test.shape: {xd_test.shape}')"
   ]
  },
  {
   "cell_type": "markdown",
   "id": "50040606-48ed-436c-953e-81746e0821b6",
   "metadata": {
    "tags": []
   },
   "source": [
    "## build model"
   ]
  },
  {
   "cell_type": "code",
   "execution_count": null,
   "id": "80b421ed-b285-49ce-9f37-c3deb99e7722",
   "metadata": {},
   "outputs": [],
   "source": [
    "%%time\n",
    "\n",
    "if model_type == 'Deep_NN':\n",
    "    ## fit the model\n",
    "\n",
    "    model = build_Deep_NN(xo_train, xd_train, learning_rate, momentum, initializer_seed, complexity = 4)\n",
    "    history = model.fit([xo_train, xd_train], y_train,\n",
    "                        validation_data=([xo_test, xd_test], y_test),\n",
    "                        epochs=num_epochs, \n",
    "                        batch_size=None, \n",
    "                        verbose=0, \n",
    "                        callbacks=callbacks_list)\n",
    "    shap.explainers._deep.deep_tf.op_handlers[\"AddV2\"] = shap.explainers._deep.deep_tf.passthrough\n",
    "\n",
    "    # DeepExplainer to explain predictions of the model\n",
    "    explainer = shap.DeepExplainer(model, [np.array(xo_train), np.array(xd_train)])\n",
    "\n",
    "elif model_type == 'rfr':\n",
    "\n",
    "    #run rfr\n",
    "    classify = RandomForestRegressor(n_jobs=-1, max_depth=300, n_estimators=200)\n",
    "\n",
    "    #fit model\n",
    "    classify.fit(X_train, y_train)\n",
    "\n",
    "    #creates explainer instance\n",
    "    explainer = shap.explainers.Tree(classify, X_train)\n",
    "\n",
    "elif model_type == 'xgb':\n",
    "    #run xgb\n",
    "    xgb = XGBRegressor(max_depth = 75, \n",
    "                       n_estimators = 300, \n",
    "                       seed = 42, \n",
    "                       min_child_weight = 3, \n",
    "                       gamma = 0, \n",
    "                       colsample_bytree = 0.3, \n",
    "                       reg_alpha = 0.1,\n",
    "                       n_jobs=-1)\n",
    "\n",
    "    #fit model\n",
    "    xgb.fit(X_train, y_train)\n",
    "\n",
    "    #creates explainer instance\n",
    "    explainer = shap.explainers.Tree(xgb, X_train)"
   ]
  },
  {
   "cell_type": "markdown",
   "id": "f3699ee6-f982-4e20-a73b-a64df1ac58fc",
   "metadata": {
    "jp-MarkdownHeadingCollapsed": true,
    "tags": []
   },
   "source": [
    "## significant EMDR finder"
   ]
  },
  {
   "cell_type": "code",
   "execution_count": null,
   "id": "7b006563-4a16-4585-9b52-4d927c41a39d",
   "metadata": {
    "scrolled": true,
    "tags": []
   },
   "outputs": [],
   "source": [
    "%%time\n",
    "indexes, features, targets = SHAP_EMDR_NN(dd_X_main, explainer, [xo_test, xd_test], y_test, dtype = 'proteomic', strict=True)"
   ]
  },
  {
   "cell_type": "code",
   "execution_count": null,
   "id": "54ecec1b-b5b4-44c7-ba2e-5576d95bdf98",
   "metadata": {},
   "outputs": [],
   "source": [
    "number_of_targs = [len(x) for x in targets[0]]"
   ]
  },
  {
   "cell_type": "code",
   "execution_count": null,
   "id": "dbf60f3b-64b4-4dfb-80a3-2139c10ceae9",
   "metadata": {},
   "outputs": [],
   "source": [
    "SHAP_df = table_make('SHAPs',\n",
    "           [indexes, features[0], features[1], features[2], features[3], targets[0], number_of_targs, targets[1], targets[2], targets[3]],\n",
    "           ['cl:drug',' total number of features', 'EMDR percentage of total', 'total number of significant features', 'EMDR percentage of significant', 'EMDRs', 'number of EMDRs', 'percent significant', 'significant EMDRs', 'insignificant EMDRs'], file = False)\n",
    "SHAP_df = SHAP_df.sort_values('percent significant', ascending=False)\n",
    "SHAP_df.to_csv(f'EMDR/{model_type}/explainability/SHAP/{dtype}/{test_type}_{dtype}.csv')"
   ]
  },
  {
   "cell_type": "markdown",
   "id": "08671e34-4c59-4571-a41e-fdd489e86d20",
   "metadata": {
    "jp-MarkdownHeadingCollapsed": true,
    "tags": []
   },
   "source": [
    "## significance plot"
   ]
  },
  {
   "cell_type": "code",
   "execution_count": null,
   "id": "be79f890-d7b6-45f6-be84-82eea015afad",
   "metadata": {},
   "outputs": [],
   "source": [
    "method = 'EMDR'\n",
    "model_type1 = 'Deep_NN'\n",
    "dtype1 = 'phospho'\n",
    "test_type1 = 'drugs'\n",
    "analysis = 'SHAP'\n",
    "SHAP_df1 = pd.read_csv(f'{method}/{model_type1}/explainability/{analysis}/{dtype1}/{test_type1}_{dtype1}_notStrict.csv')\n",
    "label1 = f'{model_type1}_{analysis}_{dtype1}_{test_type1}'"
   ]
  },
  {
   "cell_type": "code",
   "execution_count": null,
   "id": "18a75c7e-a9b8-44fc-a9ee-f345bef4f364",
   "metadata": {},
   "outputs": [],
   "source": [
    "method = 'EMDR'\n",
    "model_type1 = 'Deep_NN'\n",
    "dtype1 = 'proteomic'\n",
    "test_type1 = 'drugs_features'\n",
    "analysis = 'SHAP'\n",
    "SHAP_df2 = pd.read_csv(f'{method}/{model_type1}/explainability/{analysis}/{dtype1}/{test_type1}_{dtype1}.csv')\n",
    "label2 = f'{model_type1}_{analysis}_{dtype1}_{test_type1}'"
   ]
  },
  {
   "cell_type": "code",
   "execution_count": null,
   "id": "5682f059-f1ef-42ef-ab25-464ab15394ca",
   "metadata": {},
   "outputs": [],
   "source": [
    "method = 'EMDR'\n",
    "model_type1 = 'Deep_NN'\n",
    "dtype1 = 'proteomic'\n",
    "test_type1 = 'drugs'\n",
    "analysis = 'SHAP'\n",
    "SHAP_df3 = pd.read_csv(f'{method}/{model_type1}/explainability/{analysis}/{dtype1}/{test_type1}_{dtype1}.csv')\n",
    "label3 = f'{model_type1}_{analysis}_{dtype1}_{test_type1}'"
   ]
  },
  {
   "cell_type": "code",
   "execution_count": null,
   "id": "021faf57-9cad-4a00-9599-0b94e829a057",
   "metadata": {},
   "outputs": [],
   "source": [
    "method = 'EMDR'\n",
    "model_type1 = 'Deep_NN'\n",
    "dtype1 = 'proteomic'\n",
    "test_type1 = 'drugs_features'\n",
    "analysis = 'SHAP'\n",
    "SHAP_df4 = pd.read_csv(f'{method}/{model_type1}/explainability/{analysis}/{dtype1}/{test_type1}_{dtype1}.csv')\n",
    "label4 = f'{model_type1}_{analysis}_{dtype1}_{test_type1}'"
   ]
  },
  {
   "cell_type": "code",
   "execution_count": null,
   "id": "a171e062-296b-4945-99ae-879b8dd53803",
   "metadata": {},
   "outputs": [],
   "source": [
    "method = 'EMDR'\n",
    "model_type1 = 'Deep_NN'\n",
    "dtype1 = 'full_network'\n",
    "test_type1 = 'drugs'\n",
    "analysis = 'SHAP'\n",
    "SHAP_df5 = pd.read_csv(f'{method}/{model_type1}/explainability/{analysis}/{dtype1}/{test_type1}_{dtype1}.csv')\n",
    "label5 = f'{model_type1}_{analysis}_{dtype1}_{test_type1}'"
   ]
  },
  {
   "cell_type": "code",
   "execution_count": null,
   "id": "25f67a8e-8046-454e-bbe5-6e05d3a65b0a",
   "metadata": {},
   "outputs": [],
   "source": [
    "method = 'EMDR'\n",
    "model_type1 = 'Deep_NN'\n",
    "dtype1 = 'proteomic'\n",
    "test_type1 = 'drugs_features'\n",
    "analysis = 'SHAP'\n",
    "SHAP_df6 = pd.read_csv(f'{method}/{model_type1}/explainability/{analysis}/{dtype1}/{test_type1}_{dtype1}.csv')\n",
    "label6 = f'{model_type1}_{analysis}_{dtype1}_{test_type1}'"
   ]
  },
  {
   "cell_type": "code",
   "execution_count": null,
   "id": "25e37a0d-3503-466e-9909-53c4aa2a5e1f",
   "metadata": {},
   "outputs": [],
   "source": [
    "#plot for % comparison\n",
    "plt.rcParams['figure.figsize'] = [15, 15]\n",
    "\n",
    "plt.plot(list(SHAP_df1.index), SHAP_df1['percent significant'], label= label1, linestyle='-', marker='.', color='green', linewidth=1)\n",
    "#plt.plot(list(SHAP_df2.index), SHAP_df2['percent significant'], label= label2, linestyle='-', marker='x', color='green', linewidth=1)\n",
    "plt.plot(list(SHAP_df3.index), SHAP_df3['percent significant'], label= label3, linestyle='-', marker='.', color='blue', linewidth=1)\n",
    "#plt.plot(list(SHAP_df4.index), SHAP_df4['percent significant'], label= label4, linestyle='-', marker='x', color='blue', linewidth=1)\n",
    "plt.plot(list(SHAP_df5.index), SHAP_df5['percent significant'], label= label5, linestyle='-', marker='.', color='red', linewidth=1)\n",
    "#plt.plot(list(SHAP_df6.index), SHAP_df6['percent significant'], label= label6, linestyle='-', marker='x', color='red', linewidth=1)\n",
    "plt.axhline(y=10, color='black', linestyle='--', label='y = 10')\n",
    "\n",
    "# Add axis labels\n",
    "plt.xlabel('index')\n",
    "plt.ylabel('percent significant')\n",
    "\n",
    "# Add a title\n",
    "plt.title('% significant features determine by post-hoc analysis')\n",
    "\n",
    "plt.legend()\n",
    "\n",
    "plt.ylim(0, 80)\n",
    "\n",
    "# Adjust spacing between subplots\n",
    "plt.tight_layout()\n",
    "\n",
    "plt.savefig('EMDR/EMDR_drugs_%significant_comparison')\n",
    "\n",
    "# Display the plots\n",
    "plt.show()\n"
   ]
  },
  {
   "cell_type": "markdown",
   "id": "427c7a08-0baa-4cb9-8fab-1a49fe030521",
   "metadata": {
    "tags": []
   },
   "source": [
    "# significant drug plot"
   ]
  },
  {
   "cell_type": "code",
   "execution_count": null,
   "id": "f9a69207-9960-40ce-9995-69700299ca00",
   "metadata": {},
   "outputs": [],
   "source": [
    "#set target\n",
    "targ = 'Fulvestrant'\n",
    "test_type1 = 'features'"
   ]
  },
  {
   "cell_type": "code",
   "execution_count": null,
   "id": "024fa8a5-f7a1-46ad-87be-cab20a9912f4",
   "metadata": {},
   "outputs": [],
   "source": [
    "method = 'Targets'\n",
    "model_type1 = 'rfr'\n",
    "dtype1 = 'full_network'\n",
    "analysis = 'SHAP'\n",
    "SHAP_df1 = pd.read_csv(f'{method}/{model_type1}/explainability/{analysis}/{dtype1}/{test_type1}_{dtype1}2.csv')\n",
    "\n",
    "indexes1, sigs1 = drug_or_cl_sig(targ, SHAP_df1, isDrug=True)\n",
    "\n",
    "label1 = f'{model_type1}_{analysis}_{dtype1}_{test_type1}'"
   ]
  },
  {
   "cell_type": "code",
   "execution_count": null,
   "id": "28f0900c-89d8-4d1d-84e0-627865360e1e",
   "metadata": {},
   "outputs": [],
   "source": [
    "method = 'Targets'\n",
    "model_type1 = 'rfr'\n",
    "dtype1 = 'proteomic'\n",
    "analysis = 'SHAP'\n",
    "SHAP_df2 = pd.read_csv(f'{method}/{model_type1}/explainability/{analysis}/{dtype1}/{test_type1}_{dtype1}2.csv')\n",
    "\n",
    "indexes2, sigs2 = drug_or_cl_sig(targ, SHAP_df2, isDrug=True)\n",
    "\n",
    "label2 = f'{model_type1}_{analysis}_{dtype1}_{test_type1}'"
   ]
  },
  {
   "cell_type": "code",
   "execution_count": null,
   "id": "45901b3b-95d8-4196-8c53-bbf0379f9810",
   "metadata": {},
   "outputs": [],
   "source": [
    "method = 'Targets'\n",
    "model_type1 = 'Deep_NN'\n",
    "dtype1 = 'full_network'\n",
    "analysis = 'SHAP'\n",
    "SHAP_df3 = pd.read_csv(f'{method}/{model_type1}/explainability/{analysis}/{dtype1}/{test_type1}_{dtype1}2.csv')\n",
    "\n",
    "indexes3, sigs3 = drug_or_cl_sig(targ, SHAP_df3, isDrug=True)\n",
    "\n",
    "label3 = f'{model_type1}_{analysis}_{dtype1}_{test_type1}'"
   ]
  },
  {
   "cell_type": "code",
   "execution_count": null,
   "id": "4f63bbc9-109d-4455-9fe9-f287bcab09ec",
   "metadata": {},
   "outputs": [],
   "source": [
    "method = 'Targets'\n",
    "model_type1 = 'Deep_NN'\n",
    "dtype1 = 'proteomic'\n",
    "analysis = 'SHAP'\n",
    "SHAP_df4 = pd.read_csv(f'{method}/{model_type1}/explainability/{analysis}/{dtype1}/{test_type1}_{dtype1}2.csv')\n",
    "\n",
    "indexes4, sigs4 = drug_or_cl_sig(targ, SHAP_df4, isDrug=True)\n",
    "\n",
    "label4 = f'{model_type1}_{analysis}_{dtype1}_{test_type1}'"
   ]
  },
  {
   "cell_type": "code",
   "execution_count": null,
   "id": "494806c1-e118-451c-87e7-5596eae257c2",
   "metadata": {},
   "outputs": [],
   "source": [
    "method = 'Targets'\n",
    "model_type1 = 'Deep_NN'\n",
    "dtype1 = 'full_network'\n",
    "analysis = 'IG'\n",
    "SHAP_df5 = pd.read_csv(f'{method}/{model_type1}/explainability/{analysis}/{dtype1}/{test_type1}_{dtype1}2.csv')\n",
    "\n",
    "indexes5, sigs5 = drug_or_cl_sig(targ, SHAP_df5, isDrug=True)\n",
    "\n",
    "label5 = f'{model_type1}_{analysis}_{dtype1}_{test_type1}'"
   ]
  },
  {
   "cell_type": "code",
   "execution_count": null,
   "id": "a1842bef-f728-42fb-889e-e3fa47c303ea",
   "metadata": {},
   "outputs": [],
   "source": [
    "method = 'Targets'\n",
    "model_type1 = 'Deep_NN'\n",
    "dtype1 = 'proteomic'\n",
    "analysis = 'IG'\n",
    "SHAP_df6 = pd.read_csv(f'{method}/{model_type1}/explainability/{analysis}/{dtype1}/{test_type1}_{dtype1}2.csv')\n",
    "\n",
    "indexes6, sigs6 = drug_or_cl_sig(targ, SHAP_df6, isDrug=True)\n",
    "\n",
    "label6 = f'{model_type1}_{analysis}_{dtype1}_{test_type1}'"
   ]
  },
  {
   "cell_type": "code",
   "execution_count": null,
   "id": "ae47cec1-5a10-43ee-b021-00d0b6c5a60c",
   "metadata": {},
   "outputs": [],
   "source": [
    "#plot for % comparison\n",
    "fig, axes = plt.subplots(1, 2, figsize=(15, 10))\n",
    "\n",
    "plt.scatter(indexes1, sigs1, label= label1, linestyle='-', marker='.', color='green', linewidth=3)\n",
    "plt.scatter(indexes2, sigs2, label= label2, linestyle='-', marker='x', color='green', linewidth=3)\n",
    "plt.scatter(indexes3, sigs3, label= label3, linestyle='-', marker='.', color='blue', linewidth=3)\n",
    "plt.scatter(indexes4, sigs4, label= label4, linestyle='-', marker='x', color='blue', linewidth=3)\n",
    "plt.scatter(indexes5, sigs5, label= label5, linestyle='-', marker='.', color='red', linewidth=3)\n",
    "plt.scatter(indexes6, sigs6, label= label6, linestyle='-', marker='x', color='red', linewidth=3)\n",
    "plt.axhline(y=10, color='black', linestyle='--', label='y = 10')\n",
    "\n",
    "# Add axis labels\n",
    "plt.xlabel('significance rank')\n",
    "plt.ylabel('percent significant')\n",
    "\n",
    "# Add a title\n",
    "plt.title(f'Distribution of significance for {targ}')\n",
    "\n",
    "plt.legend()\n",
    "\n",
    "plt.ylim(0, 70)\n",
    "plt.xlim(-20, 400)\n",
    "\n",
    "# Adjust spacing between subplots\n",
    "plt.tight_layout()\n",
    "\n",
    "#plt.savefig(f'Targets/example_targs/{test_type1}_distribution_significance_{targ}')\n",
    "\n",
    "# Display the plots\n",
    "plt.show()\n"
   ]
  }
 ],
 "metadata": {
  "kernelspec": {
   "display_name": "Python 3 (ipykernel)",
   "language": "python",
   "name": "python3"
  },
  "language_info": {
   "codemirror_mode": {
    "name": "ipython",
    "version": 3
   },
   "file_extension": ".py",
   "mimetype": "text/x-python",
   "name": "python",
   "nbconvert_exporter": "python",
   "pygments_lexer": "ipython3",
   "version": "3.9.12"
  }
 },
 "nbformat": 4,
 "nbformat_minor": 5
}
