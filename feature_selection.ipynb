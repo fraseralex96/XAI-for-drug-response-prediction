{
 "cells": [
  {
   "cell_type": "markdown",
   "id": "e2d007b3-ee98-4c4d-9ed9-53501ae06b6c",
   "metadata": {
    "tags": []
   },
   "source": [
    "# packages and imports"
   ]
  },
  {
   "cell_type": "code",
   "execution_count": null,
   "id": "759ca447",
   "metadata": {},
   "outputs": [],
   "source": [
    "pip install ray"
   ]
  },
  {
   "cell_type": "code",
   "execution_count": null,
   "id": "a03bcd57-2ebc-4116-b721-6911e8f1eea1",
   "metadata": {},
   "outputs": [],
   "source": [
    "pip install xgboost"
   ]
  },
  {
   "cell_type": "code",
   "execution_count": null,
   "id": "7d7f5f9b-25de-455f-8475-85754d0d2ad7",
   "metadata": {},
   "outputs": [],
   "source": [
    "pip install shap"
   ]
  },
  {
   "cell_type": "code",
   "execution_count": null,
   "id": "f2194bd5-8de5-4e63-8b9a-cbf5b2900e72",
   "metadata": {},
   "outputs": [],
   "source": [
    "pip install interpret"
   ]
  },
  {
   "cell_type": "code",
   "execution_count": 1,
   "id": "0b5f4f8d-253f-4386-9b7c-c7f12756bd64",
   "metadata": {},
   "outputs": [],
   "source": [
    "#imports\n",
    "import pandas as pd\n",
    "import numpy as np\n",
    "import matplotlib.pyplot as plt\n",
    "\n",
    "from statistics import mean\n",
    "\n",
    "from data_makers import *\n",
    "import utils\n",
    "from utils import *\n",
    "import mean_model\n",
    "from mean_model import meanModel\n",
    "import ML_models\n",
    "from ML_models import *\n",
    "\n",
    "import sklearn\n",
    "from sklearn.preprocessing import OneHotEncoder\n",
    "from sklearn.inspection import permutation_importance\n",
    "\n",
    "from sklearn.model_selection import train_test_split\n",
    "\n",
    "from sklearn.ensemble import RandomForestRegressor\n",
    "\n",
    "from sklearn.metrics import mean_squared_error, r2_score\n",
    "\n",
    "from sklearn.preprocessing import MinMaxScaler\n",
    "from joblib import parallel_backend\n",
    "from ray.util.joblib import register_ray\n",
    "\n",
    "from xgboost import XGBRegressor\n",
    "\n",
    "import heapq\n",
    "\n",
    "import shap\n",
    "from shap.explainers import Tree\n",
    "from interpret.blackbox import ShapKernel\n",
    "\n",
    "import interpret.glassbox\n",
    "from interpret import show\n"
   ]
  },
  {
   "cell_type": "code",
   "execution_count": null,
   "id": "40ddf26c-3bd0-4bb0-819e-599c54b8543d",
   "metadata": {},
   "outputs": [],
   "source": [
    "import importlib\n",
    "importlib.reload(utils)"
   ]
  },
  {
   "cell_type": "markdown",
   "id": "98d1f717",
   "metadata": {
    "tags": []
   },
   "source": [
    "# Dataframe makers"
   ]
  },
  {
   "cell_type": "markdown",
   "id": "166368cd-0da9-4549-9890-442609145246",
   "metadata": {
    "tags": []
   },
   "source": [
    "## phospho"
   ]
  },
  {
   "cell_type": "code",
   "execution_count": 5,
   "id": "87149399",
   "metadata": {},
   "outputs": [],
   "source": [
    "#read in the X dataframe\n",
    "X_phos = pd.read_csv('data/X_phos', index_col=0)\n",
    "\n",
    "#read in the y dataframe\n",
    "y_phos = pd.read_csv('data/y_phos', index_col=0)\n",
    "\n",
    "#one hot representations of drugs from y\n",
    "hotdrugsDF_phos = one_hot_maker(y_phos)\n",
    "\n",
    "#produce X-main and y_main\n",
    "cl_phos = clMaker(X_phos, y_phos)\n",
    "x_all_phos, x_drug_phos, y_main_phos = create_all_drugs(x=X_phos, xd=hotdrugsDF_phos, y=y_phos, cells=cl_phos)\n",
    "X_main_phos = X_main_maker(x_all_phos, x_drug_phos, short = False)"
   ]
  },
  {
   "cell_type": "markdown",
   "id": "cc0fd8b4-da93-4267-ac4b-c4a0c47c28e6",
   "metadata": {
    "tags": []
   },
   "source": [
    "## proteomic"
   ]
  },
  {
   "cell_type": "code",
   "execution_count": null,
   "id": "871a6f0c-30b3-4d30-830a-f715aa856d23",
   "metadata": {},
   "outputs": [],
   "source": [
    "#read in the X dataframe\n",
    "X_prot = pd.read_csv('data/X_prot', index_col=0)\n",
    "\n",
    "#read in the y dataframe\n",
    "y_prot = pd.read_csv('data/y_prot', index_col=0)\n",
    "\n",
    "#dl maker \n",
    "dl_prot = dlMaker(y_prot)\n",
    "\n",
    "#one hot representations of drugs from y\n",
    "hotdrugsDF_prot = one_hot_maker(y_prot)\n",
    "\n",
    "#produce X-main and y_main\n",
    "cl_prot = clMaker(X_prot, y_prot)\n",
    "x_all_prot, x_drug_prot, y_main_prot = create_all_drugs(x=X_prot, xd=hotdrugsDF_prot, y=y_prot, cells=cl_prot)\n",
    "X_main_prot = X_main_maker(x_all_prot, x_drug_prot, short = False)"
   ]
  },
  {
   "cell_type": "markdown",
   "id": "a2ac5a04-f30a-4817-99c1-df26969c6f6c",
   "metadata": {
    "tags": []
   },
   "source": [
    "# first train-test split"
   ]
  },
  {
   "cell_type": "markdown",
   "id": "f039f55f-c3a8-4952-a26a-cc9a9c6a3fe0",
   "metadata": {},
   "source": [
    "N.B. X_train and y_train replace X_main and y_main"
   ]
  },
  {
   "cell_type": "code",
   "execution_count": 4,
   "id": "d7a5389c-f2b1-458d-9905-252f30ffbc17",
   "metadata": {},
   "outputs": [],
   "source": [
    "#regular split\n",
    "X_train, X_test, y_train, y_test = cell_line_split(X_main_phos, y_main_phos, test_size=0.2, random_state = 0)"
   ]
  },
  {
   "cell_type": "code",
   "execution_count": null,
   "id": "b21b9ca4-a527-4367-9428-52aec6e31c96",
   "metadata": {},
   "outputs": [],
   "source": [
    "#short split\n",
    "X_train_short, X_test_short, y_train_short, y_test_short = cell_line_split(X_main[:1000], y_main[:1000], test_size=0.2, random_state = 0)"
   ]
  },
  {
   "cell_type": "markdown",
   "id": "158d0b29",
   "metadata": {
    "tags": []
   },
   "source": [
    "# Benchmark mean model "
   ]
  },
  {
   "cell_type": "markdown",
   "id": "58010b33-3668-4ce5-b412-055ae43e7d9f",
   "metadata": {},
   "source": [
    "create a model that predicts IC50 by looking at mean IC50 value for that drug"
   ]
  },
  {
   "cell_type": "code",
   "execution_count": null,
   "id": "264dbc13-5a47-43b2-9f9a-57bd9ffed0cd",
   "metadata": {},
   "outputs": [],
   "source": [
    "dl = dlMaker(y, noRepeats=True)"
   ]
  },
  {
   "cell_type": "code",
   "execution_count": null,
   "id": "76c105a3",
   "metadata": {},
   "outputs": [],
   "source": [
    "mm = meanModel(y_train, dl)"
   ]
  },
  {
   "cell_type": "code",
   "execution_count": null,
   "id": "d695acaa",
   "metadata": {},
   "outputs": [],
   "source": [
    "prediction = mm.predict(y_test.index)"
   ]
  },
  {
   "cell_type": "code",
   "execution_count": null,
   "id": "afad565f-665d-4cad-a612-0809c7055a25",
   "metadata": {
    "scrolled": true,
    "tags": []
   },
   "outputs": [],
   "source": [
    "r2_score(y_test, list(prediction.values()))"
   ]
  },
  {
   "cell_type": "markdown",
   "id": "2d64e554",
   "metadata": {
    "tags": []
   },
   "source": [
    "# Random Forest Regressor"
   ]
  },
  {
   "cell_type": "code",
   "execution_count": null,
   "id": "c3741bfd-df4a-4db8-976d-3e93b6898fa4",
   "metadata": {},
   "outputs": [],
   "source": [
    "def rfr(X = X_train_short, y = y_train_short, test_size=0.1, random_state = 0, iterations = 5):\n",
    "    r2_mean_list = []\n",
    "    MSE_mean_list = []\n",
    "    for i in range(iterations):\n",
    "        print(f'Iteration: {i+1}')\n",
    "        X_train, X_val, y_train, y_val = cell_line_split(X, y, test_size, random_state) #train-validation split\n",
    "        classify = RandomForestRegressor(n_jobs=-1, max_depth=300, n_estimators=200)\n",
    "        classify.fit(X_train.values, y_train)\n",
    "        y_pred = classify.predict(X_val)\n",
    "        r2 = r2_score(y_val, y_pred)\n",
    "        MSE = mean_squared_error(y_val.values, y_pred)\n",
    "        print(f'r2={r2}, MSE={MSE}')\n",
    "        r2_mean_list.append(r2)\n",
    "        MSE_mean_list.append(MSE)\n",
    "    r2_mean = mean(r2_mean_list)\n",
    "    MSE_mean = mean(MSE_mean_list)\n",
    "    return r2_mean, MSE_mean"
   ]
  },
  {
   "cell_type": "code",
   "execution_count": null,
   "id": "11e08b25-354b-4b05-9b72-70f7c859fd7e",
   "metadata": {},
   "outputs": [],
   "source": [
    "def rfrFeatSelect(X = X_train_short, y = y_train_short, test_size=0.1, random_state = 0, iterations = 1):\n",
    "    r2_mean_list = []\n",
    "    MSE_mean_list = []\n",
    "    for i in range(iterations):\n",
    "        print(f'Iteration: {i+1}')\n",
    "        X_train, X_val, y_train, y_val = cell_line_split(X, y, test_size, random_state) #train-validation split\n",
    "        classify = RandomForestRegressor(n_jobs=-1, max_depth=300, n_estimators=200)\n",
    "        classify.fit(X_train.values, y_train)\n",
    "        y_pred = classify.predict(X_val.values)\n",
    "        featSelect = classify.feature_importances_\n",
    "        r2 = r2_score(y_val, y_pred)\n",
    "        MSE = mean_squared_error(y_val, y_pred)\n",
    "        print(f'r2={r2}, MSE={MSE}')\n",
    "        r2_mean_list.append(r2)\n",
    "        MSE_mean_list.append(MSE)\n",
    "    r2_mean = mean(r2_mean_list)\n",
    "    MSE_mean = mean(MSE_mean_list)\n",
    "    return r2_mean, MSE_mean, featSelect"
   ]
  },
  {
   "cell_type": "markdown",
   "id": "b768b8bb-2a7f-4404-8034-4113be28e9c4",
   "metadata": {
    "tags": []
   },
   "source": [
    "# Landmark genes"
   ]
  },
  {
   "cell_type": "markdown",
   "id": "44a786e4-8fe0-4e66-86dd-ffa7f7c73d52",
   "metadata": {},
   "source": [
    "Makes a version of the X dataframe with only genes defined by the LINCS L1000 landmark gene paper"
   ]
  },
  {
   "cell_type": "code",
   "execution_count": null,
   "id": "7e26ef73-2b2e-4ced-8cf7-984cf03cce46",
   "metadata": {},
   "outputs": [],
   "source": [
    "#read in the LINCS data \n",
    "landmark_genes = pd.read_table(\"Landmark_genes_LINCS.txt\")\n",
    "landmarkGenes = [x for x in landmark_genes['Symbol']]"
   ]
  },
  {
   "cell_type": "code",
   "execution_count": null,
   "id": "c259796b-4006-40ff-8fba-208c3dadd694",
   "metadata": {},
   "outputs": [],
   "source": [
    "# filter X for just landmark genes\n",
    "X_L1000 = landmark_X_maker(X, landmarkGenes)"
   ]
  },
  {
   "cell_type": "markdown",
   "id": "e5377cb6-a9a0-4cd8-ad19-3cbe5b1bed2b",
   "metadata": {
    "tags": []
   },
   "source": [
    "## feature selection for landmark genes"
   ]
  },
  {
   "cell_type": "code",
   "execution_count": null,
   "id": "7048510c-b00b-4240-bea5-64b342e3be45",
   "metadata": {},
   "outputs": [],
   "source": [
    "#Make the ML inputs filtered for landmark genes\n",
    "L1000 = landmark_X_maker(X, landmarkGenes)\n",
    "hotdrugsDF_L1000 = one_hot_maker(y)\n",
    "x_all_L1000, x_drug_L1000, y_main_L1000 = create_all_drugs(x=L1000, xd=hotdrugsDF_L1000, y=y, cells=cl)\n",
    "X_main_L1000 = X_main_maker(x_all_L1000, x_drug_L1000, short = False)"
   ]
  },
  {
   "cell_type": "code",
   "execution_count": null,
   "id": "255b9e96-34bc-49a1-99d5-96cc2bd4a212",
   "metadata": {},
   "outputs": [],
   "source": [
    "#train-test split\n",
    "X_train_L1000, X_test_L1000, y_train_L1000, y_test_L1000 = cell_line_split(X_main_L1000, y_main_L1000, cl, test_size=0.2, random_state = 0)"
   ]
  },
  {
   "cell_type": "code",
   "execution_count": null,
   "id": "8e049fb0-eccf-4479-984a-89eaf690a6ee",
   "metadata": {},
   "outputs": [],
   "source": [
    "# run the models for random forest \n",
    "r2, MSE = rfr(X = X_train_L1000, y = y_train_L1000, iterations=10)\n",
    "print('R-squared: '+str(r2)+'\\n'+'Mean squared error: '+str(MSE))"
   ]
  },
  {
   "cell_type": "code",
   "execution_count": null,
   "id": "30818de2-5b3f-4f29-bd03-9c87caea16d5",
   "metadata": {},
   "outputs": [],
   "source": [
    "#create dataframes that take a random set of features with the same length as landmark as a comparison\n",
    "random_set = X.sample(n=2056,axis='columns')\n",
    "hotdrugsDF_rand = one_hot_maker(y)\n",
    "x_all_rand, x_drug_rand, y_main_rand = create_all_drugs(x=random_set, xd=hotdrugsDF_rand, y=y, cells=cl)\n",
    "X_main_rand = X_main_maker(x_all_rand, x_drug_rand, short = False)\n",
    "\n",
    "#train-test split\n",
    "X_train_rand, X_test_rand, y_train_rand, y_test_rand = cell_line_split(X_main_rand, y_main_rand, cl, test_size=0.2, random_state = 0)\n",
    "\n",
    "# run the model\n",
    "r2, MSE = rfr(X = X_train_rand, y = y_train_rand, iterations=10)\n",
    "print('R-squared: '+str(r2)+'\\n'+'Mean squared error: '+str(MSE))"
   ]
  },
  {
   "cell_type": "markdown",
   "id": "70365aae-18ac-408e-96c3-3cfc7e4d7866",
   "metadata": {
    "tags": []
   },
   "source": [
    "# feature selection with rfr feature_importances"
   ]
  },
  {
   "cell_type": "markdown",
   "id": "4617d923-d6d9-4dbd-a5b4-b08c1a55469d",
   "metadata": {
    "tags": []
   },
   "source": [
    "## feature selection"
   ]
  },
  {
   "cell_type": "markdown",
   "id": "0fddd0ac-bcc9-47d1-a951-8027d3fbcad4",
   "metadata": {},
   "source": [
    "Here I run the models and store the feature_importances_ data"
   ]
  },
  {
   "cell_type": "code",
   "execution_count": null,
   "id": "05ea29db-f8d2-4b02-abfe-cfe55f1e25fc",
   "metadata": {},
   "outputs": [],
   "source": [
    "#run the model that outputs feature_importances_ attribute with full length\n",
    "r2, MSE, classify = rfrFeatSelect(X = X_main, y = y_main, random_state = 88, iterations=1)\n",
    "print('R-squared: '+str(r2)+'\\n'+'Mean squared error: '+str(MSE))\n",
    "\n",
    "# classify is the feature_importances_ array\n",
    "print(classify)"
   ]
  },
  {
   "cell_type": "code",
   "execution_count": null,
   "id": "d4ae0039-59cd-4875-bf47-cf98a4ee2830",
   "metadata": {},
   "outputs": [],
   "source": [
    "#this function outputs the top x number of features and their scores for a model\n",
    "rfr_final_names, rfr_final_scores = rfrFeatures(classify, X_main = X_main, topX = 10411, N = 10411)"
   ]
  },
  {
   "cell_type": "code",
   "execution_count": null,
   "id": "3dbd620c-067b-4c2b-a3f0-c86af80ef294",
   "metadata": {},
   "outputs": [],
   "source": [
    "# assign plot name variable for saving plots\n",
    "plot_name = 'plots/rfr_proteomic_rs88.png'"
   ]
  },
  {
   "cell_type": "code",
   "execution_count": null,
   "id": "5e336105-ee72-4c07-8ecf-981710966a15",
   "metadata": {},
   "outputs": [],
   "source": [
    "#plot the feature_importances_\n",
    "\n",
    "plt.rcParams['figure.figsize'] = [20, 20]\n",
    "plt.plot(rfr_final_names[:30], rfr_final_scores[:30], linestyle='-', marker='.', color='#009d9a', linewidth=1)\n",
    "rot = plt.xticks(rotation=45)\n",
    "plt.savefig(plot_name)"
   ]
  },
  {
   "cell_type": "code",
   "execution_count": null,
   "id": "1effe654-7fc8-4b4c-9b92-97517fef237c",
   "metadata": {},
   "outputs": [],
   "source": [
    "# creates a dictionary of features in order of importance with their score to store in a text file\n",
    "rfrdict = {rfr_final_names[i]:rfr_final_scores[i] for i in range(len(rfr_final_names))}"
   ]
  },
  {
   "cell_type": "code",
   "execution_count": null,
   "id": "27fbfb28-e49e-4cd9-a52a-0e7c71f0c8bc",
   "metadata": {},
   "outputs": [],
   "source": [
    "# specify text file name\n",
    "file_name = 'feat_select_files/proteomic/rfr_feat_select_proteomic_rs88.txt'"
   ]
  },
  {
   "cell_type": "code",
   "execution_count": null,
   "id": "09b4f13d-b663-424d-a4ae-30a93898274d",
   "metadata": {},
   "outputs": [],
   "source": [
    "#store all feature_importance_ date in a text file\n",
    "\n",
    "with open(file_name, \"w\") as txt_file:\n",
    "    for key, value in rfrdict.items():\n",
    "        txt_file.write(key +':'+ str(value) + \"\\n\") "
   ]
  },
  {
   "cell_type": "code",
   "execution_count": null,
   "id": "c80ff0fb-34ff-49c2-93aa-aa8eccb25aae",
   "metadata": {},
   "outputs": [],
   "source": [
    "# Import data from the text files and make final_names/final_scores from feature txt file\n",
    "rfr_final_names = []\n",
    "rfr_final_scores = []\n",
    "with open(file_name, \"r\") as features:\n",
    "    lines = features.readlines()\n",
    "    for i in lines:\n",
    "        phospho = i.split(':')[0]\n",
    "        score = i.split(':')[1]\n",
    "        score = score.split(\"\\n\")[0]\n",
    "        rfr_final_names.append(phospho)\n",
    "        rfr_final_scores.append(float(score))"
   ]
  },
  {
   "cell_type": "code",
   "execution_count": null,
   "id": "426e0060-a15b-403c-b31a-d5f074626081",
   "metadata": {},
   "outputs": [],
   "source": [
    "#plot this data\n",
    "\n",
    "plt.rcParams['figure.figsize'] = [20, 20]\n",
    "plt.plot(rfr_final_names[:50], rfr_final_scores[:50], linestyle='-', marker='.', color='#009d9a', linewidth=1)\n",
    "rot = plt.xticks(rotation=45)\n",
    "plt.savefig('plots/rfr_1.png')"
   ]
  },
  {
   "cell_type": "markdown",
   "id": "50391ce5-79f3-4dc2-a69a-698d95729ec4",
   "metadata": {
    "tags": []
   },
   "source": [
    "## feature selection testing"
   ]
  },
  {
   "cell_type": "markdown",
   "id": "5f915a0f-ed0f-4579-8179-a0906044c474",
   "metadata": {},
   "source": [
    "Test how effectively the model runs with various numbers of features from the top x feature_importances_ outputs"
   ]
  },
  {
   "cell_type": "code",
   "execution_count": 2,
   "id": "5464f29e-ecb3-416b-9564-8973ffa3b217",
   "metadata": {},
   "outputs": [],
   "source": [
    "#read in the feature_importances_ feature selected data\n",
    "feature_list = []\n",
    "with open(\"feat_select_files/phospho/rfr_X_main/rfr_feat_select.txt\", \"r\") as features:\n",
    "    lines = features.readlines()\n",
    "    for i in lines:\n",
    "        i.replace(\" \", \"\")\n",
    "        feature_list.append(i.split(\":\")[0])"
   ]
  },
  {
   "cell_type": "code",
   "execution_count": null,
   "id": "c788fd5f-bcc6-4cd1-bf79-6725297383cd",
   "metadata": {},
   "outputs": [],
   "source": [
    "seeds = [0, 8, 23, 42, 69, 88]\n",
    "for i in range(5,10):\n",
    "    index = i*100\n",
    "    for s in range(len(seeds)):\n",
    "        #create the dataframes\n",
    "        X_features = X_phos.reindex(feature_list[:index],axis=\"columns\")\n",
    "        hotdrugsDF_feats = one_hot_maker(y_phos)\n",
    "        cl_phos = clMaker(X_phos, y_phos)\n",
    "        x_all_feats, x_drug_feats, y_main_feats = create_all_drugs(x=X_features, xd=hotdrugsDF_feats, y=y_phos, cells=cl_phos)\n",
    "        X_main_feats = X_main_maker(x_all_feats, x_drug_feats, short = False)\n",
    "        X_train_features, X_test_features, y_train_features, y_test_features = cell_line_split(X_main_feats, y_main_feats, test_size=0.2, random_state = seeds[s])\n",
    "        \n",
    "        #status update print statements\n",
    "        print(f'number of features: {index}, seed: {seeds[s]}')\n",
    "        \n",
    "        #run the model\n",
    "        r2, MSE, pearson = rfr(X = X_train_features, y = y_train_features, test_size=0.2, random_state = seeds[s], iterations=3)\n",
    "        print('R-squared: '+str(r2)+'\\n'+'Mean squared error: '+str(MSE))\n",
    "    "
   ]
  },
  {
   "cell_type": "markdown",
   "id": "5627e93a-5530-4d1e-a0fa-7555dd31484f",
   "metadata": {},
   "source": [
    "# feature selection with permutation_importance"
   ]
  },
  {
   "cell_type": "markdown",
   "id": "7dd7053f-ce76-43e0-b391-0f14d8976bf9",
   "metadata": {},
   "source": [
    "read in feature_importances data and test on this random forest method to see if they agree"
   ]
  },
  {
   "cell_type": "code",
   "execution_count": 17,
   "id": "084bf927-794a-41bd-b885-ae192be21078",
   "metadata": {},
   "outputs": [],
   "source": [
    "#read in the feature_importances_ feature selected data\n",
    "feature_list = []\n",
    "with open(\"feat_select_files/phospho/rfr_X_main/rfr_feat_select.txt\", \"r\") as features:\n",
    "    lines = features.readlines()\n",
    "    for i in lines:\n",
    "        i.replace(\" \", \"\")\n",
    "        feature_list.append(i.split(\":\")[0])"
   ]
  },
  {
   "cell_type": "code",
   "execution_count": 18,
   "id": "8b1fd258-e7fa-4e84-ba7c-84e664b0440d",
   "metadata": {},
   "outputs": [],
   "source": [
    "#create a new X dataframe with the selected features\n",
    "X_features = X_phos.reindex(feature_list[:1000],axis=\"columns\")\n",
    "\n",
    "#produce the other required dataframes\n",
    "hotdrugsDF_feats = one_hot_maker(y_phos)\n",
    "cl_phos = clMaker(X_phos, y_phos)\n",
    "x_all_feats, x_drug_feats, y_main_feats = create_all_drugs(x=X_features, xd=hotdrugsDF_feats, y=y_phos, cells=cl_phos)\n",
    "X_main_feats = X_main_maker(x_all_feats, x_drug_feats, short = False)"
   ]
  },
  {
   "cell_type": "code",
   "execution_count": 19,
   "id": "c89952cf-1432-4cb4-b4f8-9fff7aae70fe",
   "metadata": {},
   "outputs": [],
   "source": [
    "X_train_feats, X_test_feats, y_train_feats, y_test_feats = cell_line_split(X_main_feats, y_main_feats, test_size=0.2, random_state = 0 )"
   ]
  },
  {
   "cell_type": "code",
   "execution_count": null,
   "id": "436c1221-81b7-409c-888d-c1ad15ac1227",
   "metadata": {},
   "outputs": [],
   "source": [
    "# permutation importance- fit model\n",
    "classify = RandomForestRegressor(n_jobs=-1, max_depth=300, n_estimators=200)\n",
    "classify.fit(X_main_feats.values, y_main_feats)"
   ]
  },
  {
   "cell_type": "code",
   "execution_count": null,
   "id": "9015df1f-2132-4563-8010-154d73428216",
   "metadata": {},
   "outputs": [],
   "source": [
    "# permutation importance\n",
    "result = permutation_importance(classify, X_main_feats.values, y_main_feats, n_repeats=10, random_state=0)"
   ]
  },
  {
   "cell_type": "code",
   "execution_count": null,
   "id": "162e359f-0260-4479-93c4-388e384774e9",
   "metadata": {},
   "outputs": [],
   "source": [
    "#this function outputs the top x number of features and their scores for a model\n",
    "\n",
    "rfr_final_names, rfr_final_scores = rfrFeatures(result.importances_mean, X_main = X_main_feats, topX = 1000, N = 1000)"
   ]
  },
  {
   "cell_type": "code",
   "execution_count": null,
   "id": "6f85c68c-8299-408e-a719-7d9a1b394dbb",
   "metadata": {},
   "outputs": [],
   "source": [
    "#plot the data\n",
    "\n",
    "plt.rcParams['figure.figsize'] = [20, 20]\n",
    "plt.plot(rfr_final_names[:50], rfr_final_scores[:50])\n",
    "rot = plt.xticks(rotation=45)"
   ]
  },
  {
   "cell_type": "markdown",
   "id": "3dcdad2f-5684-498d-acf4-5ba0ef9450e6",
   "metadata": {
    "tags": []
   },
   "source": [
    "# MinMax normalised data"
   ]
  },
  {
   "cell_type": "code",
   "execution_count": null,
   "id": "619d9fa2-a02e-42a9-94b0-448c070303d6",
   "metadata": {},
   "outputs": [],
   "source": [
    "#initialise the normaliser object\n",
    "MinMax = MinMaxScaler()"
   ]
  },
  {
   "cell_type": "code",
   "execution_count": null,
   "id": "fdea3b93-5be2-4bf1-9744-d5693cba573c",
   "metadata": {},
   "outputs": [],
   "source": [
    "#normalise the data\n",
    "X_features_MinMax = MinMax.fit_transform(X_features)\n",
    "X_features_MinMax  = pd.DataFrame(X_features_MinMax, columns=X_features.columns,index=X_features.index)"
   ]
  },
  {
   "cell_type": "code",
   "execution_count": null,
   "id": "83bfae46-b29e-49ad-86ea-cca17c5c21b5",
   "metadata": {},
   "outputs": [],
   "source": [
    "#create the relevant dataframes\n",
    "hotdrugsDF_feats_MinMax = one_hot_maker(y)\n",
    "x_all_feats_MinMax, x_drug_feats_MinMax, y_main_feats_MinMax = create_all_drugs(x=X_features, xd=hotdrugsDF_feats_MinMax, y=y, cells=cl)\n",
    "X_main_feats_MinMax = X_main_maker(x_all_feats_MinMax, x_drug_feats_MinMax, short = False)"
   ]
  },
  {
   "cell_type": "code",
   "execution_count": null,
   "id": "61d2457c-31c5-40ee-bc85-2ef7e427d18e",
   "metadata": {},
   "outputs": [],
   "source": [
    "#train-test split\n",
    "X_train_feats_MinMax, X_test_feats_MinMax, y_train_feats_MinMax, y_test_feats_MinMax = cell_line_split(X_main_feats_MinMax, y_main_feats_MinMax, cl, test_size=0.2, random_state = 0)"
   ]
  },
  {
   "cell_type": "code",
   "execution_count": null,
   "id": "274533ae-84ce-458c-9fc8-dc5fd8593ec3",
   "metadata": {},
   "outputs": [],
   "source": [
    "# run the random forest model\n",
    "\n",
    "rfr(X = X_train_feats_MinMax, y = y_train_feats_MinMax, iterations=3)"
   ]
  }
 ],
 "metadata": {
  "kernelspec": {
   "display_name": "Python 3 (ipykernel)",
   "language": "python",
   "name": "python3"
  },
  "language_info": {
   "codemirror_mode": {
    "name": "ipython",
    "version": 3
   },
   "file_extension": ".py",
   "mimetype": "text/x-python",
   "name": "python",
   "nbconvert_exporter": "python",
   "pygments_lexer": "ipython3",
   "version": "3.9.12"
  }
 },
 "nbformat": 4,
 "nbformat_minor": 5
}
