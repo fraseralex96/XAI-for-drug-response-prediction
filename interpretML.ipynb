{
 "cells": [
  {
   "cell_type": "markdown",
   "id": "f38ae452-4165-451c-aa85-9f52b180703a",
   "metadata": {
    "tags": []
   },
   "source": [
    "# Imports"
   ]
  },
  {
   "cell_type": "code",
   "execution_count": null,
   "id": "4d72f837-44dd-43d4-a1f9-f87030d8323d",
   "metadata": {},
   "outputs": [],
   "source": [
    "#imports\n",
    "import pandas as pd\n",
    "import numpy as np\n",
    "import matplotlib.pyplot as plt\n",
    "\n",
    "from statistics import mean\n",
    "\n",
    "from data_makers import *\n",
    "import utils\n",
    "from utils import *\n",
    "import mean_model\n",
    "from mean_model import meanModel\n",
    "\n",
    "import sklearn\n",
    "from sklearn.preprocessing import OneHotEncoder\n",
    "\n",
    "from sklearn.model_selection import train_test_split\n",
    "\n",
    "from sklearn.ensemble import RandomForestRegressor\n",
    "\n",
    "from sklearn.metrics import mean_squared_error, r2_score\n",
    "\n",
    "from sklearn.preprocessing import MinMaxScaler\n",
    "from joblib import parallel_backend\n",
    "from ray.util.joblib import register_ray\n",
    "\n",
    "from xgboost import XGBRegressor\n",
    "\n",
    "import heapq\n",
    "\n",
    "import shap\n",
    "from shap.explainers import Tree\n",
    "from interpret.blackbox import ShapKernel\n",
    "\n",
    "import interpret.glassbox\n",
    "from interpret import show"
   ]
  },
  {
   "cell_type": "markdown",
   "id": "86e596d3-fc39-45d0-8290-32a609bee64c",
   "metadata": {
    "tags": []
   },
   "source": [
    "# dataframe makers"
   ]
  },
  {
   "cell_type": "markdown",
   "id": "12ce6332-4ba5-430f-94f8-27a0f1fa5288",
   "metadata": {},
   "source": [
    "## phospho"
   ]
  },
  {
   "cell_type": "code",
   "execution_count": null,
   "id": "dbd2ccf1-c997-4dd3-8b3c-113b3d8f8542",
   "metadata": {},
   "outputs": [],
   "source": [
    "#read in the X dataframe\n",
    "X_phos = pd.read_csv('data/X_phos', index_col=0)\n",
    "\n",
    "#read in the y dataframe\n",
    "y_phos = pd.read_csv('data/y_phos', index_col=0)\n",
    "\n",
    "#dl maker \n",
    "dl_phos = dlMaker(y_phos)\n",
    "\n",
    "#one hot representations of drugs from y\n",
    "hotdrugsDF_phos = one_hot_maker(y_phos)\n",
    "\n",
    "#produce X-main and y_main\n",
    "cl_phos = clMaker(X_phos, y_phos)\n",
    "x_all_phos, x_drug_phos, y_main_phos = create_all_drugs(x=X_phos, xd=hotdrugsDF_phos, y=y_phos, cells=cl_phos)\n",
    "X_main_phos = X_main_maker(x_all_phos, x_drug_phos, short = False)"
   ]
  },
  {
   "cell_type": "markdown",
   "id": "1892b3b2-238f-45a6-a499-64563ad4a977",
   "metadata": {},
   "source": [
    "## proteomic"
   ]
  },
  {
   "cell_type": "code",
   "execution_count": null,
   "id": "9f733d36-b34d-4500-87b9-e697ef4dac66",
   "metadata": {},
   "outputs": [],
   "source": [
    "#read in the X dataframe\n",
    "X_prot = pd.read_csv('data/X_prot', index_col=0)\n",
    "\n",
    "#read in the y dataframe\n",
    "y_prot = pd.read_csv('data/y_prot', index_col=0)\n",
    "\n",
    "#dl maker \n",
    "dl_prot = dlMaker(y_prot)\n",
    "\n",
    "#one hot representations of drugs from y\n",
    "hotdrugsDF_prot = one_hot_maker(y_prot)\n",
    "\n",
    "#produce X-main and y_main\n",
    "cl_prot = clMaker(X_prot, y_prot)\n",
    "x_all_prot, x_drug_prot, y_main_prot = create_all_drugs(x=X_prot, xd=hotdrugsDF_prot, y=y_prot, cells=cl_prot)\n",
    "X_main_prot = X_main_maker(x_all_prot, x_drug_prot, short = False)"
   ]
  },
  {
   "cell_type": "markdown",
   "id": "ce154c5f-8608-4ded-96ed-5f3b76d6a77e",
   "metadata": {
    "tags": []
   },
   "source": [
    "# InterpretML explainer"
   ]
  },
  {
   "cell_type": "markdown",
   "id": "0f885a9a-65b9-4690-afc5-024104ed2f10",
   "metadata": {
    "tags": []
   },
   "source": [
    "## feat selected"
   ]
  },
  {
   "cell_type": "markdown",
   "id": "eb7bf51a-f79b-4a78-b823-d75542fab035",
   "metadata": {},
   "source": [
    "random forest feature_importance_ data read in to see if interpretML produced a similar order of features"
   ]
  },
  {
   "cell_type": "code",
   "execution_count": null,
   "id": "3aa7e7b0-d5d2-480d-b086-8db22bd659a0",
   "metadata": {},
   "outputs": [],
   "source": [
    "#read in the feature_importances_ feature selected data\n",
    "feature_list = []\n",
    "with open(\"feat_select_files/phospho/rfr_X_main/rfr_feat_select.txt\", \"r\") as features:\n",
    "    lines = features.readlines()\n",
    "    for i in lines:\n",
    "        i.replace(\" \", \"\")\n",
    "        feature_list.append(i.split(\":\")[0])"
   ]
  },
  {
   "cell_type": "code",
   "execution_count": null,
   "id": "c8a09082-b7a8-4d2b-831f-304c204dcaef",
   "metadata": {},
   "outputs": [],
   "source": [
    "#create a new X dataframe with the selected features\n",
    "X_features = X.reindex(feature_list[:1000],axis=\"columns\")\n",
    "\n",
    "#produce the other required dataframes\n",
    "hotdrugsDF_feats = one_hot_maker(y)\n",
    "x_all_feats, x_drug_feats, y_main_feats = create_all_drugs(x=X_features, xd=hotdrugsDF_feats, y=y, cells=cl)\n",
    "X_main_feats = X_main_maker(x_all_feats, x_drug_feats, short = False)"
   ]
  },
  {
   "cell_type": "code",
   "execution_count": null,
   "id": "9afcc4e2-5004-4534-8c4d-74b7a58862b7",
   "metadata": {},
   "outputs": [],
   "source": [
    "# split the data \n",
    "X_train_feats, X_test_feats, y_train_feats, y_test_feats = cell_line_split(X_main_feats, y_main_feats, test_size=0.2, random_state = 88 )"
   ]
  },
  {
   "cell_type": "markdown",
   "id": "449d4eb7-175f-47a9-9ae7-87a57558eed0",
   "metadata": {
    "tags": []
   },
   "source": [
    "## non feat selected"
   ]
  },
  {
   "cell_type": "markdown",
   "id": "bb28fb7e-4cb5-41a8-870e-33d8efeeb3b2",
   "metadata": {},
   "source": [
    "running the interpretML with all features, not just those selected by random forest"
   ]
  },
  {
   "cell_type": "code",
   "execution_count": null,
   "id": "45cf2d24-593e-49bb-b884-7481246b4c02",
   "metadata": {},
   "outputs": [],
   "source": [
    "#split the data\n",
    "X_train, X_test, y_train, y_test = cell_line_split(X_main, y_main, test_size=0.2, random_state = 88)"
   ]
  },
  {
   "cell_type": "code",
   "execution_count": null,
   "id": "c3702470-bd1a-4f6c-8454-97cd13fa3b9c",
   "metadata": {},
   "outputs": [],
   "source": [
    "#interpretML EBM model training\n",
    "ebm = interpret.glassbox.ExplainableBoostingRegressor(interactions=0, n_jobs=-1)\n",
    "ebm.fit(X_train, y_train)"
   ]
  },
  {
   "cell_type": "code",
   "execution_count": null,
   "id": "1e711207-eb14-4938-a06e-239e401c824f",
   "metadata": {},
   "outputs": [],
   "source": [
    "#print the results from the interpretML model\n",
    "\n",
    "result = ebm.predict(X_test)\n",
    "score = ebm.score(X_test, y_test)\n",
    "print(f'score: {score}, result: {result}')"
   ]
  },
  {
   "cell_type": "code",
   "execution_count": null,
   "id": "677337d6-74af-43c1-8244-3db535fe8a15",
   "metadata": {},
   "outputs": [],
   "source": [
    "#this function outputs the top x number of features and their scores for a model\n",
    "\n",
    "final_names, final_scores = ebmFeatures(model = ebm, topX = 10411, N = 10411)"
   ]
  },
  {
   "cell_type": "code",
   "execution_count": null,
   "id": "761147e4-b26d-4362-8490-4f448ae3c1cc",
   "metadata": {},
   "outputs": [],
   "source": [
    "plot_name = 'plots/ML_proteomic_rs88.png'"
   ]
  },
  {
   "cell_type": "code",
   "execution_count": null,
   "id": "087b3391-390c-40ff-9194-8bceffbb692b",
   "metadata": {},
   "outputs": [],
   "source": [
    "# save the plots\n",
    "\n",
    "plt.rcParams['figure.figsize'] = [20, 20]\n",
    "plt.plot(final_names[:50], final_scores[:50], linestyle='-', marker='.', color='#009d9a', linewidth=1)\n",
    "rot = plt.xticks(rotation=45)\n",
    "plt.savefig(plot_name)"
   ]
  },
  {
   "cell_type": "code",
   "execution_count": null,
   "id": "7187fa82-baa6-4cd5-8b08-46a28b3b5484",
   "metadata": {},
   "outputs": [],
   "source": [
    "# create a dictionary format to save important features\n",
    "\n",
    "interpretMLdict = {final_names[i]:final_scores[i] for i in range(len(final_names))}"
   ]
  },
  {
   "cell_type": "code",
   "execution_count": null,
   "id": "6d2fb0d1-d5bc-42e9-aa7c-a8767542472c",
   "metadata": {},
   "outputs": [],
   "source": [
    "file_name = \"feat_select_files/proteomic/ML_feat_select_rs88.txt\""
   ]
  },
  {
   "cell_type": "code",
   "execution_count": null,
   "id": "a612ce2d-e78f-4b13-817f-c833d6beba99",
   "metadata": {},
   "outputs": [],
   "source": [
    "# save the data\n",
    "\n",
    "with open(file_name, \"w\") as txt_file:\n",
    "    for key, value in interpretMLdict.items():\n",
    "        txt_file.write(key +':'+ str(value) + \"\\n\") "
   ]
  },
  {
   "cell_type": "code",
   "execution_count": null,
   "id": "be4f5806-804e-4493-b7cd-e45e43d95ad5",
   "metadata": {},
   "outputs": [],
   "source": [
    "#Make final_names/final_scores from feature txt file\n",
    "final_names = []\n",
    "final_scores = []\n",
    "with open(file_name, \"r\") as features:\n",
    "    lines = features.readlines()\n",
    "    for i in lines:\n",
    "        phospho = i.split(':')[0]\n",
    "        score = i.split(':')[1]\n",
    "        score = score.split(\"\\n\")[0]\n",
    "        final_names.append(phospho)\n",
    "        final_scores.append(float(score))"
   ]
  },
  {
   "cell_type": "code",
   "execution_count": null,
   "id": "1b4a774d-f7f9-4be7-9b8e-cce875167057",
   "metadata": {},
   "outputs": [],
   "source": [
    "#plot imported data\n",
    "\n",
    "plt.rcParams['figure.figsize'] = [20, 20]\n",
    "plt.plot(final_names[:100], final_scores[:100], linestyle='-', marker='.', color='#009d9a', linewidth=1)\n",
    "rot = plt.xticks(rotation=45)\n",
    "plt.savefig('my_plot.png')"
   ]
  }
 ],
 "metadata": {
  "kernelspec": {
   "display_name": "Python 3 (ipykernel)",
   "language": "python",
   "name": "python3"
  },
  "language_info": {
   "codemirror_mode": {
    "name": "ipython",
    "version": 3
   },
   "file_extension": ".py",
   "mimetype": "text/x-python",
   "name": "python",
   "nbconvert_exporter": "python",
   "pygments_lexer": "ipython3",
   "version": "3.9.12"
  }
 },
 "nbformat": 4,
 "nbformat_minor": 5
}
