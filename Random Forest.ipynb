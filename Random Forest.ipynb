{
 "cells": [
  {
   "cell_type": "markdown",
   "id": "e2d007b3-ee98-4c4d-9ed9-53501ae06b6c",
   "metadata": {
    "tags": []
   },
   "source": [
    "# packages and imports"
   ]
  },
  {
   "cell_type": "code",
   "execution_count": 1,
   "id": "0b5f4f8d-253f-4386-9b7c-c7f12756bd64",
   "metadata": {},
   "outputs": [
    {
     "name": "stderr",
     "output_type": "stream",
     "text": [
      "2023-10-06 11:56:43.870664: I tensorflow/core/platform/cpu_feature_guard.cc:193] This TensorFlow binary is optimized with oneAPI Deep Neural Network Library (oneDNN) to use the following CPU instructions in performance-critical operations:  AVX2 AVX512F AVX512_VNNI FMA\n",
      "To enable them in other operations, rebuild TensorFlow with the appropriate compiler flags.\n",
      "2023-10-06 11:56:45.435647: I tensorflow/core/util/util.cc:169] oneDNN custom operations are on. You may see slightly different numerical results due to floating-point round-off errors from different computation orders. To turn them off, set the environment variable `TF_ENABLE_ONEDNN_OPTS=0`.\n",
      "2023-10-06 11:56:46.240453: W tensorflow/stream_executor/platform/default/dso_loader.cc:64] Could not load dynamic library 'libcudart.so.11.0'; dlerror: libcudart.so.11.0: cannot open shared object file: No such file or directory\n",
      "2023-10-06 11:56:46.240491: I tensorflow/stream_executor/cuda/cudart_stub.cc:29] Ignore above cudart dlerror if you do not have a GPU set up on your machine.\n",
      "2023-10-06 11:56:46.747392: E tensorflow/stream_executor/cuda/cuda_blas.cc:2981] Unable to register cuBLAS factory: Attempting to register factory for plugin cuBLAS when one has already been registered\n",
      "2023-10-06 11:56:58.982159: W tensorflow/stream_executor/platform/default/dso_loader.cc:64] Could not load dynamic library 'libnvinfer.so.7'; dlerror: libnvinfer.so.7: cannot open shared object file: No such file or directory\n",
      "2023-10-06 11:56:58.982380: W tensorflow/stream_executor/platform/default/dso_loader.cc:64] Could not load dynamic library 'libnvinfer_plugin.so.7'; dlerror: libnvinfer_plugin.so.7: cannot open shared object file: No such file or directory\n",
      "2023-10-06 11:56:58.982401: W tensorflow/compiler/tf2tensorrt/utils/py_utils.cc:38] TF-TRT Warning: Cannot dlopen some TensorRT libraries. If you would like to use Nvidia GPU with TensorRT, please make sure the missing libraries mentioned above are installed properly.\n",
      "2023-10-06 11:57:21.289489: W tensorflow/stream_executor/platform/default/dso_loader.cc:64] Could not load dynamic library 'libcuda.so.1'; dlerror: libcuda.so.1: cannot open shared object file: No such file or directory\n",
      "2023-10-06 11:57:21.289612: W tensorflow/stream_executor/cuda/cuda_driver.cc:263] failed call to cuInit: UNKNOWN ERROR (303)\n",
      "2023-10-06 11:57:21.289661: I tensorflow/stream_executor/cuda/cuda_diagnostics.cc:156] kernel driver does not appear to be running on this host (ddy154): /proc/driver/nvidia/version does not exist\n"
     ]
    }
   ],
   "source": [
    "#imports\n",
    "import pandas as pd\n",
    "import numpy as np\n",
    "import matplotlib.pyplot as plt\n",
    "\n",
    "from statistics import mean\n",
    "\n",
    "from data_makers import *\n",
    "import utils\n",
    "from utils import *\n",
    "import mean_model\n",
    "from mean_model import meanModel\n",
    "import ML_models\n",
    "from ML_models import *\n",
    "\n",
    "import sklearn\n",
    "from sklearn.inspection import permutation_importance\n",
    "from sklearn.metrics import mean_squared_error, r2_score\n",
    "\n",
    "import lime\n",
    "import lime.lime_tabular\n",
    "\n",
    "import alibi\n",
    "from alibi.explainers import AnchorTabular\n",
    "from alibi.explainers import CEM\n",
    "\n",
    "import re\n",
    "\n",
    "import nikhil_mean_model\n",
    "\n",
    "from Nikhil_code import data_preprocessing as dp_nb\n",
    "from Nikhil_code import model_selection as ms_nb\n",
    "from Nikhil_code import testing as t_nb\n",
    "import Nikhil_code.Data_imports as di_nb\n",
    "import Nikhil_code.pairs_train_test_split as tts_nb\n",
    "import Nikhil_code.Learning_curve as lc_nb"
   ]
  },
  {
   "cell_type": "markdown",
   "id": "fa3819bb-520e-48ab-acf0-10262cc787a8",
   "metadata": {
    "tags": []
   },
   "source": [
    "# Feature selection (FS) and data creating for each drug"
   ]
  },
  {
   "cell_type": "code",
   "execution_count": 3,
   "id": "2864c18e-e967-48ca-97d7-1a1167f8cda7",
   "metadata": {},
   "outputs": [
    {
     "name": "stderr",
     "output_type": "stream",
     "text": [
      "Falling back to the 'python' engine because the 'c' engine does not support skipfooter; you can avoid this warning by specifying engine='python'.\n"
     ]
    },
    {
     "name": "stdout",
     "output_type": "stream",
     "text": [
      "Number of missing prot values 0.386335609896865\n",
      "num non overlapping prot and target cls: 10\n"
     ]
    },
    {
     "name": "stderr",
     "output_type": "stream",
     "text": [
      "Falling back to the 'python' engine because the 'c' engine does not support skipfooter; you can avoid this warning by specifying engine='python'.\n"
     ]
    },
    {
     "name": "stdout",
     "output_type": "stream",
     "text": [
      "num non overlapping cls: 930\n"
     ]
    },
    {
     "data": {
      "text/plain": [
       "((38, 8457), (38, 17417), (38, 22804), (38, 38), (345, 345))"
      ]
     },
     "execution_count": 3,
     "metadata": {},
     "output_type": "execute_result"
    }
   ],
   "source": [
    "#input data\n",
    "prot, rna, phospho_ls, one_hot_cls, one_hot_drugs, ic50_df1 = di_nb.read_input_data()\n",
    "_all_cls = prot.index\n",
    "_all_drugs = ic50_df1.columns\n",
    "assert prot.shape[0] == rna.shape[0] == phospho_ls.shape[0]\n",
    "assert phospho_ls.shape[0]  == one_hot_cls.shape[0]\n",
    "prot.shape, rna.shape, phospho_ls.shape, one_hot_cls.shape, one_hot_drugs.shape"
   ]
  },
  {
   "cell_type": "code",
   "execution_count": 4,
   "id": "b482963f-ea7a-4530-bed1-ee5de6f32a39",
   "metadata": {},
   "outputs": [
    {
     "name": "stdout",
     "output_type": "stream",
     "text": [
      "(11583, 22804)\n",
      "(11583, 23149)\n"
     ]
    }
   ],
   "source": [
    "## PHOSPHO\n",
    "landmark_genes = pd.read_csv(\n",
    "    f'data/Landmark_genes_LINCS.txt',sep='\\t')\n",
    "landmark_genes.index = landmark_genes['Symbol']\n",
    "\n",
    "X_L1000 = landmark_X_maker(phospho_ls, landmark_genes['Symbol'])\n",
    "\n",
    "#create prot data for all drugs\n",
    "x_all_phos, x_drug, y_main_phos = dp_nb.create_all_drugs(\n",
    "    phospho_ls, one_hot_drugs, ic50_df1, _all_cls)\n",
    "\n",
    "#fmt index to include drug cell line paris\n",
    "cls_drugs_index = x_all_phos.index + '::' + x_drug.index \n",
    "x_all_phos.index = cls_drugs_index\n",
    "y_main_phos.index = cls_drugs_index\n",
    "x_drug.index = cls_drugs_index\n",
    "\n",
    "x_all_phos = x_all_phos.astype(np.float32)\n",
    "print(x_all_phos.shape)\n",
    "X_main_phos = X_main_maker(x_all_phos, x_drug, short = False)\n",
    "print(X_main_phos.shape)"
   ]
  },
  {
   "cell_type": "code",
   "execution_count": 6,
   "id": "865df996-a604-45f7-a22e-63658cea1a54",
   "metadata": {},
   "outputs": [
    {
     "data": {
      "text/plain": [
       "(11583, 8457)"
      ]
     },
     "execution_count": 6,
     "metadata": {},
     "output_type": "execute_result"
    }
   ],
   "source": [
    "##PROTEOMIC\n",
    "#use the same landmark genes for fs with prot data\n",
    "landmark_genes = pd.read_csv(\n",
    "    f'data/Landmark_genes_LINCS.txt',sep='\\t')\n",
    "landmark_genes.index = landmark_genes['Symbol']\n",
    "\n",
    "#find overlapping landmark genes and prot features\n",
    "overlapping_landmarks, _ = dp_nb.keep_overlapping(\n",
    "    pd.DataFrame(landmark_genes['Symbol']), prot.T)\n",
    "\n",
    "overlapping_landmarks = overlapping_landmarks['Symbol'].values\n",
    "\n",
    "#create prot data for all drugs\n",
    "x_all_prot, x_drug, y_list = dp_nb.create_all_drugs(\n",
    "    prot, one_hot_drugs, ic50_df1, _all_cls)\n",
    "\n",
    "#fmt index to include drug cell line paris\n",
    "cls_drugs_index = x_all_prot.index + '::' + x_drug.index \n",
    "x_all_prot.index = cls_drugs_index\n",
    "y_list.index = cls_drugs_index\n",
    "x_drug.index = cls_drugs_index\n",
    "\n",
    "x_all_prot = x_all_prot.astype(np.float32)\n",
    "x_all_prot.shape"
   ]
  },
  {
   "cell_type": "code",
   "execution_count": 7,
   "id": "2f3769c8-5c2c-4cce-afe8-64cf95100861",
   "metadata": {},
   "outputs": [
    {
     "name": "stdout",
     "output_type": "stream",
     "text": [
      "(11583, 38)\n",
      "(11583, 383)\n"
     ]
    }
   ],
   "source": [
    "#one hot data creation for all drugs\n",
    "x_hot, x_drug_hot, y_main_onehot = dp_nb.create_all_drugs(\n",
    "    one_hot_cls, one_hot_drugs, ic50_df1, _all_cls)\n",
    "\n",
    "cls_drugs_index_hot = x_hot.index + '::' + x_drug_hot.index \n",
    "\n",
    "x_hot.index = cls_drugs_index_hot\n",
    "x_hot.columns = np.arange(len(x_drug.columns), len(x_drug.columns) + len(x_hot.columns))\n",
    "print(x_hot.shape)\n",
    "X_main_onehot = X_main_maker(x_hot, x_drug, short = False)\n",
    "print(X_main_onehot.shape)"
   ]
  },
  {
   "cell_type": "markdown",
   "id": "06bd5db9-be1b-4a2b-a8d3-ccc68924822f",
   "metadata": {
    "tags": []
   },
   "source": [
    "# Random Features"
   ]
  },
  {
   "cell_type": "code",
   "execution_count": null,
   "id": "56545e05-0459-4508-90b8-e6656faf9ee9",
   "metadata": {},
   "outputs": [],
   "source": [
    "#create dataframes that take a random set of features with the same length as landmark as a comparison\n",
    "random_X = X_phos.sample(n=2056,axis='columns')"
   ]
  },
  {
   "cell_type": "code",
   "execution_count": null,
   "id": "90062b61-cecb-4681-8cd2-0815480bba50",
   "metadata": {},
   "outputs": [],
   "source": [
    "#make the model a classifier\n",
    "y_main_phos = classyFire(y_main_phos)"
   ]
  },
  {
   "cell_type": "markdown",
   "id": "817bad6e-6b6d-46a3-966f-01727199ca47",
   "metadata": {
    "tags": []
   },
   "source": [
    "# Feature Selection"
   ]
  },
  {
   "cell_type": "code",
   "execution_count": 8,
   "id": "df12cdff-2d5a-4ca1-b9f0-2f41585321f1",
   "metadata": {},
   "outputs": [],
   "source": [
    "#read in the feature_importances_ feature selected data\n",
    "feature_list = []\n",
    "with open(\"feat_select_files/phospho/rfr_X_main/rfr_feat_select.txt\", \"r\") as features:\n",
    "    lines = features.readlines()\n",
    "    for i in lines:\n",
    "        i.replace(\" \", \"\")\n",
    "        feature_list.append(i.split(\":\")[0])"
   ]
  },
  {
   "cell_type": "code",
   "execution_count": 11,
   "id": "0c166d8b-f84d-48a7-b683-b4c2eb752e4d",
   "metadata": {},
   "outputs": [],
   "source": [
    "#create a new X dataframe with the selected features\n",
    "X_features = phospho_ls.reindex(feature_list[:2056],axis=\"columns\")"
   ]
  },
  {
   "cell_type": "code",
   "execution_count": 12,
   "id": "b4a33e0e-c323-42fa-9a43-bc361612a0f1",
   "metadata": {},
   "outputs": [
    {
     "name": "stdout",
     "output_type": "stream",
     "text": [
      "(11583, 2056)\n",
      "(11583, 2401)\n"
     ]
    }
   ],
   "source": [
    "#create prot data for all drugs\n",
    "x_all_phos, x_drug, y_main_phos = dp_nb.create_all_drugs(\n",
    "    X_features, one_hot_drugs, ic50_df1, _all_cls)\n",
    "\n",
    "#fmt index to include drug cell line paris\n",
    "cls_drugs_index = x_all_phos.index + '::' + x_drug.index \n",
    "x_all_phos.index = cls_drugs_index\n",
    "y_main_phos.index = cls_drugs_index\n",
    "x_drug.index = cls_drugs_index\n",
    "\n",
    "x_all_phos = x_all_phos.astype(np.float32)\n",
    "print(x_all_phos.shape)\n",
    "X_main_phos = X_main_maker(x_all_phos, x_drug, short = False)\n",
    "print(X_main_phos.shape)"
   ]
  },
  {
   "cell_type": "code",
   "execution_count": null,
   "id": "f767c725-93ee-4541-a9fd-7c27b9eb9849",
   "metadata": {},
   "outputs": [],
   "source": [
    "#make the model a classifier\n",
    "y_main_phos = classyFire(y_main_phos)"
   ]
  },
  {
   "cell_type": "markdown",
   "id": "a2ac5a04-f30a-4817-99c1-df26969c6f6c",
   "metadata": {
    "tags": []
   },
   "source": [
    "# first train-test split"
   ]
  },
  {
   "cell_type": "markdown",
   "id": "f039f55f-c3a8-4952-a26a-cc9a9c6a3fe0",
   "metadata": {},
   "source": [
    "N.B. X_train and y_train replace X_main and y_main"
   ]
  },
  {
   "cell_type": "code",
   "execution_count": 13,
   "id": "d7a5389c-f2b1-458d-9905-252f30ffbc17",
   "metadata": {},
   "outputs": [],
   "source": [
    "#regular split\n",
    "X_train, X_test, y_train, y_test = cell_line_split(X_main_phos, y_main_phos, test_size=0.2, random_state = 0)"
   ]
  },
  {
   "cell_type": "code",
   "execution_count": null,
   "id": "b21b9ca4-a527-4367-9428-52aec6e31c96",
   "metadata": {},
   "outputs": [],
   "source": [
    "#short split\n",
    "X_train_short, X_test_short, y_train_short, y_test_short = cell_line_split(X_main_phos[:1000], y_main_phos[:1000], test_size=0.2, random_state = 0)"
   ]
  },
  {
   "cell_type": "markdown",
   "id": "158d0b29",
   "metadata": {
    "tags": []
   },
   "source": [
    "# Benchmark mean model "
   ]
  },
  {
   "cell_type": "markdown",
   "id": "58010b33-3668-4ce5-b412-055ae43e7d9f",
   "metadata": {},
   "source": [
    "create a model that predicts IC50 by looking at mean IC50 value for that drug"
   ]
  },
  {
   "cell_type": "code",
   "execution_count": null,
   "id": "264dbc13-5a47-43b2-9f9a-57bd9ffed0cd",
   "metadata": {},
   "outputs": [],
   "source": [
    "dl = dlMaker(y_train, noRepeats=True)"
   ]
  },
  {
   "cell_type": "code",
   "execution_count": null,
   "id": "76c105a3",
   "metadata": {},
   "outputs": [],
   "source": [
    "mm = meanModel(y_train, dl)"
   ]
  },
  {
   "cell_type": "code",
   "execution_count": null,
   "id": "d695acaa",
   "metadata": {},
   "outputs": [],
   "source": [
    "prediction = mm.predict(y_test.index)"
   ]
  },
  {
   "cell_type": "code",
   "execution_count": null,
   "id": "afad565f-665d-4cad-a612-0809c7055a25",
   "metadata": {
    "scrolled": true,
    "tags": []
   },
   "outputs": [],
   "source": [
    "r2_score(y_test, list(prediction.values()))"
   ]
  },
  {
   "cell_type": "markdown",
   "id": "d42bd299-59b7-41cb-9453-3933ddc73633",
   "metadata": {
    "jp-MarkdownHeadingCollapsed": true,
    "tags": []
   },
   "source": [
    "# Nikhil mean model"
   ]
  },
  {
   "cell_type": "code",
   "execution_count": null,
   "id": "a829a60e-ce1d-4109-87e6-4b8d15f0fc5e",
   "metadata": {},
   "outputs": [],
   "source": [
    "dl = dlMaker(y_train, noRepeats=True)"
   ]
  },
  {
   "cell_type": "code",
   "execution_count": null,
   "id": "93ddd6f7-892d-4e50-bc5b-b78b0812fc69",
   "metadata": {},
   "outputs": [],
   "source": [
    "nmm = MeanModel(y_train, dl)"
   ]
  },
  {
   "cell_type": "code",
   "execution_count": null,
   "id": "c9638bbb-d642-4292-94d0-c391342ddebc",
   "metadata": {},
   "outputs": [],
   "source": [
    "prediction = nmm.predict(y_test.index)"
   ]
  },
  {
   "cell_type": "code",
   "execution_count": null,
   "id": "a7e2dc3d-c2cb-4723-9d63-68222343593d",
   "metadata": {},
   "outputs": [],
   "source": [
    "r2_score(y_test, list(prediction))"
   ]
  },
  {
   "cell_type": "markdown",
   "id": "b31024e0-4655-46d5-a24d-bca4ecb57ad9",
   "metadata": {
    "tags": []
   },
   "source": [
    "# Mixed-set benchmark model"
   ]
  },
  {
   "cell_type": "code",
   "execution_count": null,
   "id": "373a3301-2288-411f-8055-85b475ae549a",
   "metadata": {},
   "outputs": [],
   "source": [
    "#random forests\n",
    "r2, MSE, pearson, SE = rfr(X_train, y_train, test_size=0.2, random_state=0, iterations=3)"
   ]
  },
  {
   "cell_type": "markdown",
   "id": "2d64e554",
   "metadata": {
    "tags": []
   },
   "source": [
    "# Random Forest "
   ]
  },
  {
   "cell_type": "markdown",
   "id": "e72a0938-6ed4-43a9-ac0a-aa82d56c2511",
   "metadata": {
    "tags": []
   },
   "source": [
    "## regressor"
   ]
  },
  {
   "cell_type": "code",
   "execution_count": null,
   "id": "5d5e6bbd-bde7-4000-a824-1ecc742f2344",
   "metadata": {
    "scrolled": true,
    "tags": []
   },
   "outputs": [],
   "source": [
    "rs = [0, 8, 23, 42, 69, 88]\n",
    " \n",
    "mm_r2 = []\n",
    "mixed_set_r2 = []\n",
    "model_r2 = []\n",
    "model_standard_error = []\n",
    "model_MSE = []\n",
    "model_pearson = []\n",
    "\n",
    "for seed in rs:\n",
    "    print(f'Seed: {seed}')\n",
    "    \n",
    "    print(f'Mean Model')\n",
    "    #MEAN MODEL\n",
    "    #tts\n",
    "    X_train, X_test, y_train, y_test = cell_line_split(X_main_phos, y=y_main_phos, test_size=0.2, random_state = seed)\n",
    "    #run mean model\n",
    "    dl = dlMaker(y_train, noRepeats=True)\n",
    "    mm = meanModel(y_train, dl)\n",
    "    prediction = mm.predict(y_test.index)\n",
    "    mean_r2 = r2_score(y_test, list(prediction.values()))\n",
    "    mm_r2.append(mean_r2)\n",
    "    \n",
    "    print(f'Mixed-Set Model')\n",
    "    #MIXED SET\n",
    "    # one hot the dataframes\n",
    "    X_main_onehot, y_main_onehot = mixed_set_maker(X_L1000, y_phos)\n",
    "    #MODEL\n",
    "    r2, MSE, pearson, standard_error = rfr(X_main_onehot, y_main_onehot, test_size=0.2, random_state=seed, iterations=3)\n",
    "    mixed_set_r2.append(r2)\n",
    "\n",
    "    print(f'Model: rfr')\n",
    "    #MODEL\n",
    "    r2, MSE, pearson, standard_error = rfr(X_main_phos, y_main_phos, test_size=0.2, random_state=seed, iterations=3)\n",
    "\n",
    "    model_r2.append(r2)\n",
    "    model_standard_error.append(standard_error)\n",
    "    model_MSE.append(MSE)\n",
    "    model_pearson.append(pearson)"
   ]
  },
  {
   "cell_type": "code",
   "execution_count": null,
   "id": "aa8b4c44-cb4b-4755-a221-86b040886456",
   "metadata": {},
   "outputs": [],
   "source": [
    "table_make('rfr_metrics',\n",
    "           [rs, mm_r2, mixed_set_r2, model_r2, model_standard_error, model_MSE, model_pearson],\n",
    "           ['rs', 'mm_r2', 'mixed_set_r2', 'model_r2', 'model_standard_error', 'model_MSE', 'model_pearson'], \n",
    "           file = 'plots/phospho/NormalisedX_rfr_metrics_L1000.csv')\n",
    "           "
   ]
  },
  {
   "cell_type": "markdown",
   "id": "a61843c5-493e-48a0-9aa1-45ee47171d84",
   "metadata": {
    "tags": []
   },
   "source": [
    "## classifier"
   ]
  },
  {
   "cell_type": "code",
   "execution_count": null,
   "id": "4a4eea19-965d-4271-a129-a357c0a25f4f",
   "metadata": {
    "scrolled": true,
    "tags": []
   },
   "outputs": [],
   "source": [
    "rs = [0, 8, 23, 42, 69, 88]\n",
    " \n",
    "mixed_set_accuracy = []\n",
    "model_accuracy = []\n",
    "\n",
    "for seed in rs:\n",
    "    print(f'Seed: {seed}')\n",
    "      \n",
    "    print(f'Mixed-Set Model')\n",
    "    #MIXED SET\n",
    "    # one hot the dataframes\n",
    "    X_main_onehot, y_main_onehot = mixed_set_maker(X_phos, y_phos)\n",
    "    #make the model a classifier\n",
    "    y_main_onehot = classyFire(y_main_onehot)\n",
    "    #MODEL\n",
    "    predictions, accuracy = classy_rfr(X_main_onehot, y_main_onehot, test_size=0.2, random_state=seed, iterations=3)\n",
    "    mixed_set_accuracy.append(accuracy)\n",
    "\n",
    "    print(f'Model: rfr')\n",
    "    #MODEL\n",
    "    predictions, accuracy = classy_rfr(X_main_phos, y_main_phos, test_size=0.2, random_state=seed, iterations=3)\n",
    "\n",
    "    model_accuracy.append(accuracy)\n"
   ]
  },
  {
   "cell_type": "code",
   "execution_count": null,
   "id": "14cbcd32-825a-41b9-b4fa-7253d8f1c345",
   "metadata": {},
   "outputs": [],
   "source": [
    "table_make('rfr_metrics',\n",
    "           [rs, mixed_set_accuracy, model_accuracy],\n",
    "           ['rs', 'mixed_set_accuracy', 'model_accuracy'], \n",
    "           file = 'plots/phospho/CLASSY_NormalisedX_rfr_metrics.csv')\n",
    "           "
   ]
  },
  {
   "cell_type": "markdown",
   "id": "70365aae-18ac-408e-96c3-3cfc7e4d7866",
   "metadata": {
    "tags": []
   },
   "source": [
    "# feature selection with rfr feature_importances"
   ]
  },
  {
   "cell_type": "markdown",
   "id": "4617d923-d6d9-4dbd-a5b4-b08c1a55469d",
   "metadata": {
    "tags": []
   },
   "source": [
    "## feature selection"
   ]
  },
  {
   "cell_type": "markdown",
   "id": "0fddd0ac-bcc9-47d1-a951-8027d3fbcad4",
   "metadata": {},
   "source": [
    "Here I run the models and store the feature_importances_ data"
   ]
  },
  {
   "cell_type": "code",
   "execution_count": null,
   "id": "05ea29db-f8d2-4b02-abfe-cfe55f1e25fc",
   "metadata": {},
   "outputs": [],
   "source": [
    "#run the model that outputs feature_importances_ attribute with full length\n",
    "r2, MSE, classify = rfrFeatSelect(X = X_main, y = y_main, random_state = 88, iterations=1)\n",
    "print('R-squared: '+str(r2)+'\\n'+'Mean squared error: '+str(MSE))\n",
    "\n",
    "# classify is the feature_importances_ array\n",
    "print(classify)"
   ]
  },
  {
   "cell_type": "code",
   "execution_count": null,
   "id": "d4ae0039-59cd-4875-bf47-cf98a4ee2830",
   "metadata": {},
   "outputs": [],
   "source": [
    "#this function outputs the top x number of features and their scores for a model\n",
    "rfr_final_names, rfr_final_scores = rfrFeatures(classify, X_main = X_main, topX = 10411, N = 10411)"
   ]
  },
  {
   "cell_type": "code",
   "execution_count": null,
   "id": "3dbd620c-067b-4c2b-a3f0-c86af80ef294",
   "metadata": {},
   "outputs": [],
   "source": [
    "# assign plot name variable for saving plots\n",
    "plot_name = 'plots/rfr_proteomic_rs88.png'"
   ]
  },
  {
   "cell_type": "code",
   "execution_count": null,
   "id": "5e336105-ee72-4c07-8ecf-981710966a15",
   "metadata": {},
   "outputs": [],
   "source": [
    "#plot the feature_importances_\n",
    "\n",
    "plt.rcParams['figure.figsize'] = [20, 20]\n",
    "plt.plot(rfr_final_names[:30], rfr_final_scores[:30], linestyle='-', marker='.', color='#009d9a', linewidth=1)\n",
    "rot = plt.xticks(rotation=45)\n",
    "plt.savefig(plot_name)"
   ]
  },
  {
   "cell_type": "code",
   "execution_count": null,
   "id": "1effe654-7fc8-4b4c-9b92-97517fef237c",
   "metadata": {},
   "outputs": [],
   "source": [
    "# creates a dictionary of features in order of importance with their score to store in a text file\n",
    "rfrdict = {rfr_final_names[i]:rfr_final_scores[i] for i in range(len(rfr_final_names))}"
   ]
  },
  {
   "cell_type": "code",
   "execution_count": null,
   "id": "27fbfb28-e49e-4cd9-a52a-0e7c71f0c8bc",
   "metadata": {},
   "outputs": [],
   "source": [
    "# specify text file name\n",
    "file_name = 'feat_select_files/proteomic/rfr_feat_select_proteomic_rs88.txt'"
   ]
  },
  {
   "cell_type": "code",
   "execution_count": null,
   "id": "09b4f13d-b663-424d-a4ae-30a93898274d",
   "metadata": {},
   "outputs": [],
   "source": [
    "#store all feature_importance_ date in a text file\n",
    "\n",
    "with open(file_name, \"w\") as txt_file:\n",
    "    for key, value in rfrdict.items():\n",
    "        txt_file.write(key +':'+ str(value) + \"\\n\") "
   ]
  },
  {
   "cell_type": "code",
   "execution_count": null,
   "id": "c80ff0fb-34ff-49c2-93aa-aa8eccb25aae",
   "metadata": {},
   "outputs": [],
   "source": [
    "# Import data from the text files and make final_names/final_scores from feature txt file\n",
    "rfr_final_names = []\n",
    "rfr_final_scores = []\n",
    "with open(file_name, \"r\") as features:\n",
    "    lines = features.readlines()\n",
    "    for i in lines:\n",
    "        phospho = i.split(':')[0]\n",
    "        score = i.split(':')[1]\n",
    "        score = score.split(\"\\n\")[0]\n",
    "        rfr_final_names.append(phospho)\n",
    "        rfr_final_scores.append(float(score))"
   ]
  },
  {
   "cell_type": "code",
   "execution_count": null,
   "id": "426e0060-a15b-403c-b31a-d5f074626081",
   "metadata": {},
   "outputs": [],
   "source": [
    "#plot this data\n",
    "\n",
    "plt.rcParams['figure.figsize'] = [20, 20]\n",
    "plt.plot(rfr_final_names[:50], rfr_final_scores[:50], linestyle='-', marker='.', color='#009d9a', linewidth=1)\n",
    "rot = plt.xticks(rotation=45)\n",
    "plt.savefig('plots/rfr_1.png')"
   ]
  },
  {
   "cell_type": "markdown",
   "id": "50391ce5-79f3-4dc2-a69a-698d95729ec4",
   "metadata": {
    "tags": []
   },
   "source": [
    "## feature selection testing"
   ]
  },
  {
   "cell_type": "markdown",
   "id": "5f915a0f-ed0f-4579-8179-a0906044c474",
   "metadata": {},
   "source": [
    "Test how effectively the model runs with various numbers of features from the top x feature_importances_ outputs"
   ]
  },
  {
   "cell_type": "code",
   "execution_count": null,
   "id": "5464f29e-ecb3-416b-9564-8973ffa3b217",
   "metadata": {},
   "outputs": [],
   "source": [
    "#read in the feature_importances_ feature selected data\n",
    "feature_list = []\n",
    "with open(\"feat_select_files/phospho/rfr_X_main/rfr_feat_select.txt\", \"r\") as features:\n",
    "    lines = features.readlines()\n",
    "    for i in lines:\n",
    "        i.replace(\" \", \"\")\n",
    "        feature_list.append(i.split(\":\")[0])"
   ]
  },
  {
   "cell_type": "code",
   "execution_count": null,
   "id": "c788fd5f-bcc6-4cd1-bf79-6725297383cd",
   "metadata": {},
   "outputs": [],
   "source": [
    "seeds = [0, 8, 23, 42, 69, 88]\n",
    "for i in range(5,10):\n",
    "    index = i*100\n",
    "    for s in range(len(seeds)):\n",
    "        #create the dataframes\n",
    "        X_features = X_phos.reindex(feature_list[:index],axis=\"columns\")\n",
    "        hotdrugsDF_feats = one_hot_maker(y_phos)\n",
    "        cl_phos = clMaker(X_phos, y_phos)\n",
    "        x_all_feats, x_drug_feats, y_main_feats = create_all_drugs(x=X_features, xd=hotdrugsDF_feats, y=y_phos, cells=cl_phos)\n",
    "        X_main_feats = X_main_maker(x_all_feats, x_drug_feats, short = False)\n",
    "        X_train_features, X_test_features, y_train_features, y_test_features = cell_line_split(X_main_feats, y_main_feats, test_size=0.2, random_state = seeds[s])\n",
    "        \n",
    "        #status update print statements\n",
    "        print(f'number of features: {index}, seed: {seeds[s]}')\n",
    "        \n",
    "        #run the model\n",
    "        r2, MSE, pearson = rfr(X = X_train_features, y = y_train_features, test_size=0.2, random_state = seeds[s], iterations=3)\n",
    "        print('R-squared: '+str(r2)+'\\n'+'Mean squared error: '+str(MSE))\n",
    "    "
   ]
  },
  {
   "cell_type": "markdown",
   "id": "5627e93a-5530-4d1e-a0fa-7555dd31484f",
   "metadata": {
    "tags": []
   },
   "source": [
    "# feature selection with permutation_importance"
   ]
  },
  {
   "cell_type": "markdown",
   "id": "7dd7053f-ce76-43e0-b391-0f14d8976bf9",
   "metadata": {},
   "source": [
    "read in feature_importances data and test on this random forest method to see if they agree"
   ]
  },
  {
   "cell_type": "code",
   "execution_count": 21,
   "id": "c89952cf-1432-4cb4-b4f8-9fff7aae70fe",
   "metadata": {},
   "outputs": [
    {
     "name": "stdout",
     "output_type": "stream",
     "text": [
      "X_train.shape: (9009, 2401), X_test.shape: (2574, 2401)\n"
     ]
    }
   ],
   "source": [
    "X_train, X_test, y_train, y_test = cell_line_split(X_main_phos, y_main_phos, test_size=0.2, random_state = 0)\n",
    "print(f'X_train.shape: {X_train.shape}, X_test.shape: {X_test.shape}')"
   ]
  },
  {
   "cell_type": "code",
   "execution_count": 19,
   "id": "436c1221-81b7-409c-888d-c1ad15ac1227",
   "metadata": {},
   "outputs": [
    {
     "name": "stdout",
     "output_type": "stream",
     "text": [
      "CPU times: user 1h 23min 43s, sys: 1 s, total: 1h 23min 44s\n",
      "Wall time: 12min 4s\n"
     ]
    },
    {
     "data": {
      "text/plain": [
       "RandomForestRegressor(max_depth=300, n_estimators=200, n_jobs=-1)"
      ]
     },
     "execution_count": 19,
     "metadata": {},
     "output_type": "execute_result"
    }
   ],
   "source": [
    "%%time\n",
    "# permutation importance- fit model\n",
    "classify = RandomForestRegressor(n_jobs=-1, max_depth=300, n_estimators=200)\n",
    "classify.fit(X_main_phos.values, y_main_phos)"
   ]
  },
  {
   "cell_type": "code",
   "execution_count": 22,
   "id": "9015df1f-2132-4563-8010-154d73428216",
   "metadata": {},
   "outputs": [
    {
     "name": "stdout",
     "output_type": "stream",
     "text": [
      "CPU times: user 12h 55min, sys: 13min 53s, total: 13h 8min 53s\n",
      "Wall time: 2h 42min 48s\n"
     ]
    }
   ],
   "source": [
    "%%time\n",
    "# permutation importance\n",
    "result = permutation_importance(classify, X_main_phos.values, y_main_phos, n_repeats=10, random_state=0)"
   ]
  },
  {
   "cell_type": "code",
   "execution_count": null,
   "id": "07f7e8d8-2697-4a36-8a28-6995ef667767",
   "metadata": {},
   "outputs": [],
   "source": [
    "#read in the feature_importances_ feature selected data\n",
    "feature_list = []\n",
    "with open(\"feat_select_files/phospho/rfr_X_main/rfr_feat_select.txt\", \"r\") as features:\n",
    "    lines = features.readlines()\n",
    "    for i in lines:\n",
    "        i.replace(\" \", \"\")\n",
    "        feature_list.append(i.split(\":\")[0])"
   ]
  },
  {
   "cell_type": "code",
   "execution_count": 23,
   "id": "162e359f-0260-4479-93c4-388e384774e9",
   "metadata": {},
   "outputs": [],
   "source": [
    "#this function outputs the top x number of features and their scores for a model\n",
    "\n",
    "rfr_final_names, rfr_final_scores = topFeatures(result.importances_mean, X_main = X_main_phos, topX = 1000, N = 1000)"
   ]
  },
  {
   "cell_type": "code",
   "execution_count": null,
   "id": "6f85c68c-8299-408e-a719-7d9a1b394dbb",
   "metadata": {},
   "outputs": [],
   "source": [
    "#plot the data\n",
    "plt.rcParams['figure.figsize'] = [20, 20]\n",
    "plt.plot(rfr_final_names[:50], rfr_final_scores[:50])\n",
    "rot = plt.xticks(rotation=45)"
   ]
  },
  {
   "cell_type": "markdown",
   "id": "d50fa13c-c601-4e45-ae57-123961c52b2e",
   "metadata": {
    "tags": []
   },
   "source": [
    "# LIME for rfr"
   ]
  },
  {
   "cell_type": "code",
   "execution_count": null,
   "id": "ffbb16b3-d1bf-4763-bf79-36988b54e7d1",
   "metadata": {},
   "outputs": [],
   "source": [
    "#read in the feature_importances_ feature selected data\n",
    "feature_list = []\n",
    "with open(\"feat_select_files/phospho/rfr_X_main/rfr_feat_select.txt\", \"r\") as features:\n",
    "    lines = features.readlines()\n",
    "    for i in lines:\n",
    "        i.replace(\" \", \"\")\n",
    "        feature_list.append(i.split(\":\")[0])"
   ]
  },
  {
   "cell_type": "code",
   "execution_count": null,
   "id": "b1deaaa1-e4b2-4777-8528-1d5cb2ac1f28",
   "metadata": {},
   "outputs": [],
   "source": [
    "# filter the first 1000 feature_importances_\n",
    "X_features = X_phos.reindex(feature_list[:1000],axis=\"columns\")\n",
    "\n",
    "#create the remaining dataframes\n",
    "hotdrugsDF_feats = one_hot_maker(y_phos)\n",
    "cl_phos = clMaker(X_features, y_phos)\n",
    "x_all_feats, x_drug_feats, y_main_feats = create_all_drugs(x=X_features, xd=hotdrugsDF_feats, y=y_phos, cells=cl_phos)\n",
    "X_main_feats = X_main_maker(x_all_feats, x_drug_feats, short = False)\n"
   ]
  },
  {
   "cell_type": "code",
   "execution_count": null,
   "id": "c668a70d-cd5c-4256-912d-82998ac32f27",
   "metadata": {},
   "outputs": [],
   "source": [
    "#train-test-split\n",
    "X_train_features, X_test_features, y_train_features, y_test_features = cell_line_split(X_main_feats, y_main_feats, test_size=0.2, random_state = 0)"
   ]
  },
  {
   "cell_type": "code",
   "execution_count": null,
   "id": "1e672f78-ac4b-4bdd-a65d-910678c74d18",
   "metadata": {},
   "outputs": [],
   "source": [
    "print(f'X_train shape: {X_train_features.shape}\\ny_train shape: {y_train_features.shape}')"
   ]
  },
  {
   "cell_type": "code",
   "execution_count": null,
   "id": "be19932f-e41e-4c04-816e-4d1f75a7a858",
   "metadata": {},
   "outputs": [],
   "source": [
    "#run the model\n",
    "rfr = RandomForestRegressor(n_jobs=-1, max_depth=300, n_estimators=200)\n",
    "rfr.fit(X_train_features, y_train_features)\n",
    "\n",
    "# predict_fn function\n",
    "\n",
    "def predict_FN(data):\n",
    "    # Perform predictions using your regressor model\n",
    "    predictions = rfr.predict(data)\n",
    "    return predictions"
   ]
  },
  {
   "cell_type": "code",
   "execution_count": null,
   "id": "dbf49afe-10c9-4bb9-a14f-f5c5944abce7",
   "metadata": {},
   "outputs": [],
   "source": [
    "# create the LIME explainer\n",
    "\n",
    "explainer = lime.lime_tabular.LimeTabularExplainer(X_train_features.to_numpy(),\n",
    "                                                   mode='regression',\n",
    "                                                   training_labels=y_train_features,\n",
    "                                                   feature_names=list(X_train_features.columns))"
   ]
  },
  {
   "cell_type": "code",
   "execution_count": null,
   "id": "33ff5f54-2fd1-4fb7-9885-b1af9429b3e5",
   "metadata": {},
   "outputs": [],
   "source": [
    "%%time\n",
    "exp = explainer.explain_instance(X_train_features.iloc[1].values, predict_FN, num_features=1000)"
   ]
  },
  {
   "cell_type": "code",
   "execution_count": null,
   "id": "4b6ae51b-32a7-4d8e-989d-ff042af688cf",
   "metadata": {},
   "outputs": [],
   "source": [
    "exp_list = exp.as_list()"
   ]
  },
  {
   "cell_type": "code",
   "execution_count": null,
   "id": "6845221a-786b-4c6d-b6c4-e9e5d99b1044",
   "metadata": {},
   "outputs": [],
   "source": [
    "# remove drug features\n",
    "feat_list = []\n",
    "for i, LIME in enumerate(exp_list):\n",
    "    matches = re.findall(r'[A-Z]', LIME[0])\n",
    "    if matches:\n",
    "        feat_list.append(f'{LIME[0]}: {LIME[1]}')\n",
    "        \n",
    "feat_list[:10]"
   ]
  },
  {
   "cell_type": "markdown",
   "id": "76db9e71-0483-43f2-baa1-7ae9dee6ce90",
   "metadata": {},
   "source": [
    "## LIME for xgb"
   ]
  },
  {
   "cell_type": "code",
   "execution_count": null,
   "id": "8d8303f0-6dba-4168-b5a4-8352d7d6e2dd",
   "metadata": {},
   "outputs": [],
   "source": [
    "#read in the feature_importances_ feature selected data\n",
    "feature_list = []\n",
    "with open(\"feat_select_files/phospho/rfr_X_main/rfr_feat_select.txt\", \"r\") as features:\n",
    "    lines = features.readlines()\n",
    "    for i in lines:\n",
    "        i.replace(\" \", \"\")\n",
    "        feature_list.append(i.split(\":\")[0])"
   ]
  },
  {
   "cell_type": "code",
   "execution_count": null,
   "id": "9b1817e8-3291-4114-87f0-5febbe906194",
   "metadata": {},
   "outputs": [],
   "source": [
    "# filter the first 1000 feature_importances_\n",
    "X_features = X_phos.reindex(feature_list[:1000],axis=\"columns\")\n",
    "\n",
    "#create the remaining dataframes\n",
    "hotdrugsDF_feats = one_hot_maker(y_phos)\n",
    "cl_phos = clMaker(X_features, y_phos)\n",
    "x_all_feats, x_drug_feats, y_main_feats = create_all_drugs(x=X_features, xd=hotdrugsDF_feats, y=y_phos, cells=cl_phos)\n",
    "X_main_feats = X_main_maker(x_all_feats, x_drug_feats, short = False)\n"
   ]
  },
  {
   "cell_type": "code",
   "execution_count": null,
   "id": "041afd5a-0b6e-46b3-b9fa-70f4d5f9f272",
   "metadata": {},
   "outputs": [],
   "source": [
    "#train-test-split\n",
    "X_train_features, X_test_features, y_train_features, y_test_features = cell_line_split(X_main_feats, y_main_feats, test_size=0.2, random_state = 0)"
   ]
  },
  {
   "cell_type": "code",
   "execution_count": null,
   "id": "265f8381-295d-4a98-a3be-978ffc8e1070",
   "metadata": {},
   "outputs": [],
   "source": [
    "print(f'X_train shape: {X_train_features.shape}\\ny_train shape: {y_train_features.shape}')"
   ]
  },
  {
   "cell_type": "code",
   "execution_count": null,
   "id": "f24e90b4-9675-446a-960f-5be34c8cccfb",
   "metadata": {},
   "outputs": [],
   "source": [
    "#run the model\n",
    "xgb = XGBRegressor(max_depth = 75, \n",
    "                   n_estimators = 300, \n",
    "                   seed = 42, \n",
    "                   min_child_weight = 3, \n",
    "                   gamma = 0, \n",
    "                   colsample_bytree = 0.3, \n",
    "                   reg_alpha = 0.1,\n",
    "                   n_jobs=-1)\n",
    "\n",
    "xgb.fit(X_train_features, y_train_features)\n",
    "\n",
    "# predict_fn function\n",
    "\n",
    "def predict_FN(data):\n",
    "    # Perform predictions using your regressor model\n",
    "    predictions = xgb.predict(data)\n",
    "    return predictions"
   ]
  },
  {
   "cell_type": "code",
   "execution_count": null,
   "id": "61124afc-ce89-466c-800c-6473dbfb2584",
   "metadata": {},
   "outputs": [],
   "source": [
    "# create the LIME explainer\n",
    "\n",
    "explainer = lime.lime_tabular.LimeTabularExplainer(X_train_features.to_numpy(),\n",
    "                                                   mode='regression',\n",
    "                                                   training_labels=y_train_features,\n",
    "                                                   feature_names=list(X_train_features.columns))"
   ]
  },
  {
   "cell_type": "code",
   "execution_count": null,
   "id": "04e1972d-9a48-401d-bea3-d958152a1c22",
   "metadata": {},
   "outputs": [],
   "source": [
    "%%time\n",
    "exp = explainer.explain_instance(X_train_features.iloc[1].values, predict_FN, num_features=1000)"
   ]
  },
  {
   "cell_type": "code",
   "execution_count": null,
   "id": "28631709-76a2-4e74-8c8f-27425f0d2fa6",
   "metadata": {},
   "outputs": [],
   "source": [
    "exp_list = exp.as_list()"
   ]
  },
  {
   "cell_type": "code",
   "execution_count": null,
   "id": "5cd438a7-94ee-4b96-bc39-f3a273b1b227",
   "metadata": {},
   "outputs": [],
   "source": [
    "# remove drug features\n",
    "feat_list = []\n",
    "for i, LIME in enumerate(exp_list):\n",
    "    matches = re.findall(r'[A-Z]', LIME[0])\n",
    "    if matches:\n",
    "        feat_list.append(f'{LIME[0]}: {LIME[1]}')\n",
    "        \n",
    "feat_list[:10]"
   ]
  },
  {
   "cell_type": "markdown",
   "id": "046ad1d8-6311-49ad-84e9-11b456975c9f",
   "metadata": {
    "tags": []
   },
   "source": [
    "# Anchor explanations"
   ]
  },
  {
   "cell_type": "code",
   "execution_count": null,
   "id": "f191ee03-2066-440d-9dc0-86600b76d4f4",
   "metadata": {},
   "outputs": [],
   "source": [
    "#train-test-split\n",
    "X_train, X_test, y_train, y_test = cell_line_split(X_main_phos, y_main_phos, test_size=0.2, random_state = 0)"
   ]
  },
  {
   "cell_type": "code",
   "execution_count": null,
   "id": "7c210893-7b92-407a-80c6-2f21612a8d1a",
   "metadata": {},
   "outputs": [],
   "source": [
    "#run the model\n",
    "rfr = RandomForestClassifier(n_jobs=-1, max_depth=300, n_estimators=200)\n",
    "rfr.fit(X_train, y_train)"
   ]
  },
  {
   "cell_type": "code",
   "execution_count": null,
   "id": "e9b6be2d-6357-4ebf-8bd1-f6186c5ef1a0",
   "metadata": {},
   "outputs": [],
   "source": [
    "# predict function\n",
    "predict_fn = lambda x: rfr.predict_proba(x)"
   ]
  },
  {
   "cell_type": "code",
   "execution_count": null,
   "id": "41bdf6d3-d77b-4091-81b5-7542a618b93e",
   "metadata": {},
   "outputs": [],
   "source": [
    "# create the explainer\n",
    "explainer = AnchorTabular(predict_fn, list(X_train.columns))"
   ]
  },
  {
   "cell_type": "code",
   "execution_count": null,
   "id": "b21924c6-994d-4f26-87c4-22ef45faf1bd",
   "metadata": {},
   "outputs": [],
   "source": [
    "#discretise the features into quartiles\n",
    "explainer.fit(X_train.to_numpy(), disc_perc=(25, 50, 75))"
   ]
  },
  {
   "cell_type": "code",
   "execution_count": null,
   "id": "a11333a0-05a1-4de5-938d-d29a91cfad21",
   "metadata": {},
   "outputs": [],
   "source": [
    "#get the anchor\n",
    "idx = 0\n",
    "class_names = [0, 1, 2]\n",
    "X_test = X_test.to_numpy()\n",
    "print('Prediction: ', class_names[explainer.predictor(X_test[idx].reshape(1, -1))[0]])"
   ]
  },
  {
   "cell_type": "code",
   "execution_count": null,
   "id": "e0e4f32c-ee8b-4d86-b8cc-deac06a8181d",
   "metadata": {},
   "outputs": [],
   "source": [
    "#set the precision threshold\n",
    "\n",
    "explanation = explainer.explain(X_test[idx], threshold=0.95)\n",
    "print('Anchor: %s' % (' AND '.join(explanation.anchor)))\n",
    "print('Precision: %.2f' % explanation.precision)\n",
    "print('Coverage: %.2f' % explanation.coverage)"
   ]
  },
  {
   "cell_type": "markdown",
   "id": "39dd2c91-9d54-45e4-8f08-631568d2f901",
   "metadata": {
    "tags": []
   },
   "source": [
    "# Contrastive explanation model"
   ]
  },
  {
   "cell_type": "code",
   "execution_count": null,
   "id": "b0346a10-29d9-44a5-b5b5-96f35cd59bcd",
   "metadata": {},
   "outputs": [],
   "source": [
    "pip install --upgrade tensorflow==2.10"
   ]
  },
  {
   "cell_type": "code",
   "execution_count": null,
   "id": "5808e4ad-df8c-4ae3-b34f-0f753562c17e",
   "metadata": {},
   "outputs": [],
   "source": [
    "import tensorflow as tf\n",
    "tf.get_logger().setLevel(40) # suppress deprecation messages\n",
    "tf.compat.v1.disable_v2_behavior() # disable TF2 behaviour as alibi code still relies on TF1 constructs"
   ]
  },
  {
   "cell_type": "code",
   "execution_count": null,
   "id": "3321d1c2-11d7-400b-a28e-34e1265375cd",
   "metadata": {},
   "outputs": [],
   "source": [
    "# set parameters and train\n",
    "num_epochs = 200 # max epoch for training\n",
    "learning_rate = 1e-2 # initial learning rate, decays via learning rate scheduler\n",
    "momentum = 0.5\n",
    "initializer_seed = 42\n",
    " \n",
    "model = DeepIC50(X_train, learning_rate, momentum, initializer_seed, mtype='classifier')"
   ]
  },
  {
   "cell_type": "code",
   "execution_count": null,
   "id": "aaa4817f-2b80-4c06-a149-4bd033b1f8f0",
   "metadata": {},
   "outputs": [],
   "source": [
    "#run the model\n",
    "model = XGBClassifier(max_depth = 75, \n",
    "                   n_estimators = 300, \n",
    "                   seed = 42, \n",
    "                   min_child_weight = 3, \n",
    "                   gamma = 0, \n",
    "                   colsample_bytree = 0.3, \n",
    "                   reg_alpha = 0.1,\n",
    "                   n_jobs=-1)"
   ]
  },
  {
   "cell_type": "code",
   "execution_count": null,
   "id": "f7d6b206-22bc-4089-a6a0-08a90944f715",
   "metadata": {},
   "outputs": [],
   "source": [
    "# initialize CEM explainer\n",
    "shape = X_train.shape\n",
    "mode = 'PN'\n",
    "cem = CEM(model, mode, shape, kappa=0., beta=.1,\n",
    "          feature_range=(X_train.min(), X_train.max()),\n",
    "          gamma=100, max_iterations=1000,\n",
    "          c_init=1., c_steps=10, learning_rate_init=1e-2,\n",
    "          clip=(-1000.,1000.), no_info_val=-1.)"
   ]
  }
 ],
 "metadata": {
  "kernelspec": {
   "display_name": "Python 3 (ipykernel)",
   "language": "python",
   "name": "python3"
  },
  "language_info": {
   "codemirror_mode": {
    "name": "ipython",
    "version": 3
   },
   "file_extension": ".py",
   "mimetype": "text/x-python",
   "name": "python",
   "nbconvert_exporter": "python",
   "pygments_lexer": "ipython3",
   "version": "3.9.12"
  }
 },
 "nbformat": 4,
 "nbformat_minor": 5
}
